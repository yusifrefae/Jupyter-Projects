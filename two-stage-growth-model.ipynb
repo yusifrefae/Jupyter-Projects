{
 "cells": [
  {
   "cell_type": "markdown",
   "id": "63e0553e-5a57-4507-8689-e6765bed8732",
   "metadata": {},
   "source": [
    "# Automated Two-Stage Dividend Growth Model using Multiple CF Types"
   ]
  },
  {
   "cell_type": "markdown",
   "id": "2d94c0b4-4029-42a9-a83a-fcecd3c04527",
   "metadata": {},
   "source": [
    "### In this advanced finance tutorial in Python, learn about:\n",
    "* Two-Stage Dividend Growth Model using different cashflow types:\n",
    "    * Free Cash Flow per share\n",
    "    * Earnings per share\n",
    "    * Dividends per share\n",
    "* Calculating the Discount Rate with the Capital Asset Pricing Model (CAPM)\n",
    "* Calculating Risk-Free Rate of Return, Market Rate of Return, Market Risk Premium\n",
    "* Estimating Long-Term Revenue and Earnings Growth Rates\n",
    "* How to estimate the Fair Value Price per share of stock based on the two-stage model\n",
    "* How to use Classes, Methods, Functions, Exception-Handling, and Dataframes in Python\n",
    "\n",
    "#### This is an advanced tutorial. For previous tutorials to fill in any gaps in learning, please check:\n",
    "* [How to Fetch Stock Data](https://github.com/yusifrefae/Jupyter-Projects/blob/main/fetch-stock-data.ipynb)\n",
    "* [Stock Options Data Analysis](https://github.com/yusifrefae/Jupyter-Projects/blob/main/stock-options-data-analysis.ipynb)\n",
    "* [Calculate Expected Move using Options](https://github.com/yusifrefae/Jupyter-Projects/blob/main/calculate-expected-move.ipynb)"
   ]
  },
  {
   "cell_type": "markdown",
   "id": "2b9a7b73-4f8f-4fce-b46a-b669d885a748",
   "metadata": {},
   "source": [
    "### Let's Get Started! First we'll import libraries and create a static function to fetch stock data from Yahoo"
   ]
  },
  {
   "cell_type": "code",
   "execution_count": 1,
   "id": "a4fabd24-15dc-41f8-82e6-f57e5e54bd71",
   "metadata": {},
   "outputs": [],
   "source": [
    "#Import necessary libraries\n",
    "import pandas as pd\n",
    "import yfinance as yf\n",
    "import numpy as np\n",
    "import datetime\n",
    "\n",
    "def get_yf(value, symbol):\n",
    "    \"\"\" Fetch a specific value for a given stock symbol using yfinance. Return 0 if the value is None or missing\"\"\"\n",
    "    try:\n",
    "        x = yf.Ticker(symbol).info.get(value)\n",
    "        if x is None:\n",
    "            return 0\n",
    "        else:\n",
    "            return x\n",
    "    except Exception as e:\n",
    "        return 0 "
   ]
  },
  {
   "cell_type": "markdown",
   "id": "5a3bc22d-1917-49c0-9f20-0ffc73c4697a",
   "metadata": {},
   "source": [
    "### Notice the try-except block. This is there to return 0, in case the attribute isn't in the data we pull from Yahoo\n",
    "* For example, let's iterate to get the beta and dividend rate of a few stocks\n",
    "* Notice that ETFs like SPY (S&P 500) and TLT (Long-Term US Treasuries) return zeroes instead of None"
   ]
  },
  {
   "cell_type": "code",
   "execution_count": 2,
   "id": "bd1cd43e-5821-4790-bbf1-93ecb4fe4f32",
   "metadata": {},
   "outputs": [
    {
     "name": "stdout",
     "output_type": "stream",
     "text": [
      "Beta of PFE: 0.465\n",
      "Dividend of PFE: $1.72\n",
      "\n",
      "Beta of GIS: -0.025\n",
      "Dividend of GIS: $2.44\n",
      "\n",
      "Beta of TSLA: 2.086\n",
      "Dividend of TSLA: $0\n",
      "\n",
      "Beta of NVDA: 2.123\n",
      "Dividend of NVDA: $0.04\n",
      "\n",
      "Beta of SPY: 0\n",
      "Dividend of SPY: $0\n",
      "\n",
      "Beta of TLT: 0\n",
      "Dividend of TLT: $0\n",
      "\n"
     ]
    }
   ],
   "source": [
    "for stock in [\"PFE\", \"GIS\", \"TSLA\", \"NVDA\", \"SPY\", \"TLT\"]:\n",
    "    print(f\"Beta of {stock}: {get_yf('beta', stock)}\")\n",
    "    print(f\"Dividend of {stock}: ${get_yf('dividendRate', stock)}\")\n",
    "    print()"
   ]
  },
  {
   "cell_type": "markdown",
   "id": "a7de0156-5a9f-47c4-b1e4-47f73f8d43a0",
   "metadata": {},
   "source": [
    "#### Notice that SPY and TLT returned beta and dividend of 0.\n",
    "* But if we call them directly using the ticker we get no output.\n",
    "* The try-except block handles that, and simply returns 0 if the value isn't present\n"
   ]
  },
  {
   "cell_type": "code",
   "execution_count": 3,
   "id": "a56fe2cb-4920-4621-98e9-9d49432f73f9",
   "metadata": {},
   "outputs": [],
   "source": [
    "yf.Ticker(\"TLT\").info.get('dividendRate')"
   ]
  },
  {
   "cell_type": "markdown",
   "id": "cb62e50a-97d8-4bb7-a665-e25568a514d2",
   "metadata": {},
   "source": [
    "### Next, let's estimate the risk-free rate using the iShares ticker SGOV\n",
    "* The short-term return on US government bonds is considered to be the **risk-free** rate of return\n",
    "* In reality no investment is risk-free\n",
    "* But we use short-term treasuries to approximate the risk-free rate\n",
    "* Because it's unlikely the US government will ever default on short-term obligations like "
   ]
  },
  {
   "cell_type": "markdown",
   "id": "8885c662-594b-4c73-86e6-8dcd829942c8",
   "metadata": {},
   "source": [
    "#### Let's define another static function, which uses our user-defined function get_yf to get SGOV's dividend yield\n",
    "* Notice that the function doesn't take any inputs, not even a ticker symbol, since the risk-free rate is independent of any given stock\n",
    "* It's not a perfect estimate. It's only rounded to two decimals. But it will do for our purposes."
   ]
  },
  {
   "cell_type": "code",
   "execution_count": 4,
   "id": "75788710-485c-44e6-b21a-05beddadff21",
   "metadata": {},
   "outputs": [],
   "source": [
    "def get_rf_rate():\n",
    "    \"\"\"Estimate of risk-free rate that uses iShares 0-3 month Treasury dividend yield (Ticker: SGOV)\"\"\"\n",
    "    return float(get_yf('dividendYield', 'SGOV') / 100)"
   ]
  },
  {
   "cell_type": "code",
   "execution_count": 5,
   "id": "1813b8b4-d773-44c9-b61c-ebece2ad3012",
   "metadata": {},
   "outputs": [
    {
     "name": "stdout",
     "output_type": "stream",
     "text": [
      "The risk-free rate is estimated to be: 4.3500%\n"
     ]
    }
   ],
   "source": [
    "print(f\"The risk-free rate is estimated to be: {get_rf_rate() * 100:.4f}%\")"
   ]
  },
  {
   "cell_type": "markdown",
   "id": "50f11f2e-7c4f-4d9c-9ac6-f7709fdfc45e",
   "metadata": {},
   "source": [
    "### Now, before getting into calculating the market return, let's discuss the capital asset pricing model (CAPM) formula\n",
    "\n",
    "## $$ \\text{Discount Rate} = R_f + \\beta \\times (R_m - R_f) $$"
   ]
  },
  {
   "cell_type": "markdown",
   "id": "d6d12e43-a91f-4bdc-a853-f7aaba84e913",
   "metadata": {},
   "source": [
    "#### Rf = Risk-Free Rate\n",
    "#### Rm = Return on the Market\n",
    "#### B = The Stock's Beta\n",
    "#### Discount Rate is the investors' required rate of return on the stock\n"
   ]
  },
  {
   "cell_type": "markdown",
   "id": "bf748fb8-b76c-4d85-8572-f92ea276d3da",
   "metadata": {},
   "source": [
    "* CAPM uses the risk-free rate and expected return on the market\n",
    "* It also uses a stock's beta, which is a proxy for how volatile the stock's earnings are relative to the market's earnings\n",
    "* Think of the term after the addition sign as a risk premium for a particular stock (scaled by its beta) **above** the risk-free rate"
   ]
  },
  {
   "cell_type": "markdown",
   "id": "09c254db-0457-49d9-a296-69689b5c14d9",
   "metadata": {},
   "source": [
    "* The discount rate is the rate we'll use to discount the stock's expected cashflows later, in the two-stage growth model\n",
    "* For now, let's focus on calculating the discount rate.\n",
    "* We've already seen how to get beta and the risk-free rate. \n",
    "\n",
    "### Now let's focus on estimating Rm, the return on the market, so we can calculate the Discount Rate\n"
   ]
  },
  {
   "cell_type": "markdown",
   "id": "2a754579-7193-43ba-8dfb-e90bd57bf6f6",
   "metadata": {},
   "source": [
    "#### First, we get the maximum period of daily data for the S&P500 (Ticker: SPY)"
   ]
  },
  {
   "cell_type": "code",
   "execution_count": 6,
   "id": "7f3019a6-5801-42b4-a441-40cdb4ef6f95",
   "metadata": {},
   "outputs": [
    {
     "data": {
      "text/html": [
       "<div>\n",
       "<style scoped>\n",
       "    .dataframe tbody tr th:only-of-type {\n",
       "        vertical-align: middle;\n",
       "    }\n",
       "\n",
       "    .dataframe tbody tr th {\n",
       "        vertical-align: top;\n",
       "    }\n",
       "\n",
       "    .dataframe thead th {\n",
       "        text-align: right;\n",
       "    }\n",
       "</style>\n",
       "<table border=\"1\" class=\"dataframe\">\n",
       "  <thead>\n",
       "    <tr style=\"text-align: right;\">\n",
       "      <th></th>\n",
       "      <th>Open</th>\n",
       "      <th>High</th>\n",
       "      <th>Low</th>\n",
       "      <th>Close</th>\n",
       "      <th>Volume</th>\n",
       "      <th>Dividends</th>\n",
       "      <th>Stock Splits</th>\n",
       "      <th>Capital Gains</th>\n",
       "    </tr>\n",
       "    <tr>\n",
       "      <th>Date</th>\n",
       "      <th></th>\n",
       "      <th></th>\n",
       "      <th></th>\n",
       "      <th></th>\n",
       "      <th></th>\n",
       "      <th></th>\n",
       "      <th></th>\n",
       "      <th></th>\n",
       "    </tr>\n",
       "  </thead>\n",
       "  <tbody>\n",
       "    <tr>\n",
       "      <th>1993-01-29 00:00:00-05:00</th>\n",
       "      <td>24.330336</td>\n",
       "      <td>24.330336</td>\n",
       "      <td>24.209289</td>\n",
       "      <td>24.313044</td>\n",
       "      <td>1003200</td>\n",
       "      <td>0.0</td>\n",
       "      <td>0.0</td>\n",
       "      <td>0.0</td>\n",
       "    </tr>\n",
       "    <tr>\n",
       "      <th>1993-02-01 00:00:00-05:00</th>\n",
       "      <td>24.330340</td>\n",
       "      <td>24.485971</td>\n",
       "      <td>24.330340</td>\n",
       "      <td>24.485971</td>\n",
       "      <td>480500</td>\n",
       "      <td>0.0</td>\n",
       "      <td>0.0</td>\n",
       "      <td>0.0</td>\n",
       "    </tr>\n",
       "    <tr>\n",
       "      <th>1993-02-02 00:00:00-05:00</th>\n",
       "      <td>24.468665</td>\n",
       "      <td>24.555127</td>\n",
       "      <td>24.416788</td>\n",
       "      <td>24.537834</td>\n",
       "      <td>201300</td>\n",
       "      <td>0.0</td>\n",
       "      <td>0.0</td>\n",
       "      <td>0.0</td>\n",
       "    </tr>\n",
       "    <tr>\n",
       "      <th>1993-02-03 00:00:00-05:00</th>\n",
       "      <td>24.572429</td>\n",
       "      <td>24.814522</td>\n",
       "      <td>24.555137</td>\n",
       "      <td>24.797230</td>\n",
       "      <td>529400</td>\n",
       "      <td>0.0</td>\n",
       "      <td>0.0</td>\n",
       "      <td>0.0</td>\n",
       "    </tr>\n",
       "    <tr>\n",
       "      <th>1993-02-04 00:00:00-05:00</th>\n",
       "      <td>24.883684</td>\n",
       "      <td>24.952853</td>\n",
       "      <td>24.607006</td>\n",
       "      <td>24.900976</td>\n",
       "      <td>531500</td>\n",
       "      <td>0.0</td>\n",
       "      <td>0.0</td>\n",
       "      <td>0.0</td>\n",
       "    </tr>\n",
       "    <tr>\n",
       "      <th>...</th>\n",
       "      <td>...</td>\n",
       "      <td>...</td>\n",
       "      <td>...</td>\n",
       "      <td>...</td>\n",
       "      <td>...</td>\n",
       "      <td>...</td>\n",
       "      <td>...</td>\n",
       "      <td>...</td>\n",
       "    </tr>\n",
       "    <tr>\n",
       "      <th>2025-09-29 00:00:00-04:00</th>\n",
       "      <td>664.359985</td>\n",
       "      <td>665.280029</td>\n",
       "      <td>661.859985</td>\n",
       "      <td>663.679993</td>\n",
       "      <td>73499000</td>\n",
       "      <td>0.0</td>\n",
       "      <td>0.0</td>\n",
       "      <td>0.0</td>\n",
       "    </tr>\n",
       "    <tr>\n",
       "      <th>2025-09-30 00:00:00-04:00</th>\n",
       "      <td>662.929993</td>\n",
       "      <td>666.650024</td>\n",
       "      <td>661.609985</td>\n",
       "      <td>666.179993</td>\n",
       "      <td>86288000</td>\n",
       "      <td>0.0</td>\n",
       "      <td>0.0</td>\n",
       "      <td>0.0</td>\n",
       "    </tr>\n",
       "    <tr>\n",
       "      <th>2025-10-01 00:00:00-04:00</th>\n",
       "      <td>663.169983</td>\n",
       "      <td>669.369995</td>\n",
       "      <td>663.059998</td>\n",
       "      <td>668.450012</td>\n",
       "      <td>72545400</td>\n",
       "      <td>0.0</td>\n",
       "      <td>0.0</td>\n",
       "      <td>0.0</td>\n",
       "    </tr>\n",
       "    <tr>\n",
       "      <th>2025-10-02 00:00:00-04:00</th>\n",
       "      <td>670.450012</td>\n",
       "      <td>670.570007</td>\n",
       "      <td>666.780029</td>\n",
       "      <td>669.219971</td>\n",
       "      <td>56896000</td>\n",
       "      <td>0.0</td>\n",
       "      <td>0.0</td>\n",
       "      <td>0.0</td>\n",
       "    </tr>\n",
       "    <tr>\n",
       "      <th>2025-10-03 00:00:00-04:00</th>\n",
       "      <td>669.989990</td>\n",
       "      <td>672.679993</td>\n",
       "      <td>668.159973</td>\n",
       "      <td>669.210022</td>\n",
       "      <td>70419500</td>\n",
       "      <td>0.0</td>\n",
       "      <td>0.0</td>\n",
       "      <td>0.0</td>\n",
       "    </tr>\n",
       "  </tbody>\n",
       "</table>\n",
       "<p>8227 rows × 8 columns</p>\n",
       "</div>"
      ],
      "text/plain": [
       "                                 Open        High         Low       Close  \\\n",
       "Date                                                                        \n",
       "1993-01-29 00:00:00-05:00   24.330336   24.330336   24.209289   24.313044   \n",
       "1993-02-01 00:00:00-05:00   24.330340   24.485971   24.330340   24.485971   \n",
       "1993-02-02 00:00:00-05:00   24.468665   24.555127   24.416788   24.537834   \n",
       "1993-02-03 00:00:00-05:00   24.572429   24.814522   24.555137   24.797230   \n",
       "1993-02-04 00:00:00-05:00   24.883684   24.952853   24.607006   24.900976   \n",
       "...                               ...         ...         ...         ...   \n",
       "2025-09-29 00:00:00-04:00  664.359985  665.280029  661.859985  663.679993   \n",
       "2025-09-30 00:00:00-04:00  662.929993  666.650024  661.609985  666.179993   \n",
       "2025-10-01 00:00:00-04:00  663.169983  669.369995  663.059998  668.450012   \n",
       "2025-10-02 00:00:00-04:00  670.450012  670.570007  666.780029  669.219971   \n",
       "2025-10-03 00:00:00-04:00  669.989990  672.679993  668.159973  669.210022   \n",
       "\n",
       "                             Volume  Dividends  Stock Splits  Capital Gains  \n",
       "Date                                                                         \n",
       "1993-01-29 00:00:00-05:00   1003200        0.0           0.0            0.0  \n",
       "1993-02-01 00:00:00-05:00    480500        0.0           0.0            0.0  \n",
       "1993-02-02 00:00:00-05:00    201300        0.0           0.0            0.0  \n",
       "1993-02-03 00:00:00-05:00    529400        0.0           0.0            0.0  \n",
       "1993-02-04 00:00:00-05:00    531500        0.0           0.0            0.0  \n",
       "...                             ...        ...           ...            ...  \n",
       "2025-09-29 00:00:00-04:00  73499000        0.0           0.0            0.0  \n",
       "2025-09-30 00:00:00-04:00  86288000        0.0           0.0            0.0  \n",
       "2025-10-01 00:00:00-04:00  72545400        0.0           0.0            0.0  \n",
       "2025-10-02 00:00:00-04:00  56896000        0.0           0.0            0.0  \n",
       "2025-10-03 00:00:00-04:00  70419500        0.0           0.0            0.0  \n",
       "\n",
       "[8227 rows x 8 columns]"
      ]
     },
     "execution_count": 6,
     "metadata": {},
     "output_type": "execute_result"
    }
   ],
   "source": [
    "spy = yf.Ticker(\"SPY\").history(period='max')\n",
    "spy"
   ]
  },
  {
   "cell_type": "markdown",
   "id": "e6be83ad-6a32-4a91-8c7d-c0aaea667668",
   "metadata": {},
   "source": [
    "#### The data only goes back to 1993 but that's enough for our purposes\n",
    "#### Next, we'll add a 'Daily Return' column that calculates the percentage return for each day based on close price"
   ]
  },
  {
   "cell_type": "code",
   "execution_count": 7,
   "id": "7dd3d726-43c6-40dc-aea5-5e06af78343d",
   "metadata": {},
   "outputs": [
    {
     "data": {
      "text/html": [
       "<div>\n",
       "<style scoped>\n",
       "    .dataframe tbody tr th:only-of-type {\n",
       "        vertical-align: middle;\n",
       "    }\n",
       "\n",
       "    .dataframe tbody tr th {\n",
       "        vertical-align: top;\n",
       "    }\n",
       "\n",
       "    .dataframe thead th {\n",
       "        text-align: right;\n",
       "    }\n",
       "</style>\n",
       "<table border=\"1\" class=\"dataframe\">\n",
       "  <thead>\n",
       "    <tr style=\"text-align: right;\">\n",
       "      <th></th>\n",
       "      <th>Open</th>\n",
       "      <th>High</th>\n",
       "      <th>Low</th>\n",
       "      <th>Close</th>\n",
       "      <th>Volume</th>\n",
       "      <th>Dividends</th>\n",
       "      <th>Stock Splits</th>\n",
       "      <th>Capital Gains</th>\n",
       "      <th>Daily Return</th>\n",
       "    </tr>\n",
       "    <tr>\n",
       "      <th>Date</th>\n",
       "      <th></th>\n",
       "      <th></th>\n",
       "      <th></th>\n",
       "      <th></th>\n",
       "      <th></th>\n",
       "      <th></th>\n",
       "      <th></th>\n",
       "      <th></th>\n",
       "      <th></th>\n",
       "    </tr>\n",
       "  </thead>\n",
       "  <tbody>\n",
       "    <tr>\n",
       "      <th>1993-01-29 00:00:00-05:00</th>\n",
       "      <td>24.330336</td>\n",
       "      <td>24.330336</td>\n",
       "      <td>24.209289</td>\n",
       "      <td>24.313044</td>\n",
       "      <td>1003200</td>\n",
       "      <td>0.0</td>\n",
       "      <td>0.0</td>\n",
       "      <td>0.0</td>\n",
       "      <td>NaN</td>\n",
       "    </tr>\n",
       "    <tr>\n",
       "      <th>1993-02-01 00:00:00-05:00</th>\n",
       "      <td>24.330340</td>\n",
       "      <td>24.485971</td>\n",
       "      <td>24.330340</td>\n",
       "      <td>24.485971</td>\n",
       "      <td>480500</td>\n",
       "      <td>0.0</td>\n",
       "      <td>0.0</td>\n",
       "      <td>0.0</td>\n",
       "      <td>0.007113</td>\n",
       "    </tr>\n",
       "    <tr>\n",
       "      <th>1993-02-02 00:00:00-05:00</th>\n",
       "      <td>24.468665</td>\n",
       "      <td>24.555127</td>\n",
       "      <td>24.416788</td>\n",
       "      <td>24.537834</td>\n",
       "      <td>201300</td>\n",
       "      <td>0.0</td>\n",
       "      <td>0.0</td>\n",
       "      <td>0.0</td>\n",
       "      <td>0.002118</td>\n",
       "    </tr>\n",
       "    <tr>\n",
       "      <th>1993-02-03 00:00:00-05:00</th>\n",
       "      <td>24.572429</td>\n",
       "      <td>24.814522</td>\n",
       "      <td>24.555137</td>\n",
       "      <td>24.797230</td>\n",
       "      <td>529400</td>\n",
       "      <td>0.0</td>\n",
       "      <td>0.0</td>\n",
       "      <td>0.0</td>\n",
       "      <td>0.010571</td>\n",
       "    </tr>\n",
       "    <tr>\n",
       "      <th>1993-02-04 00:00:00-05:00</th>\n",
       "      <td>24.883684</td>\n",
       "      <td>24.952853</td>\n",
       "      <td>24.607006</td>\n",
       "      <td>24.900976</td>\n",
       "      <td>531500</td>\n",
       "      <td>0.0</td>\n",
       "      <td>0.0</td>\n",
       "      <td>0.0</td>\n",
       "      <td>0.004184</td>\n",
       "    </tr>\n",
       "  </tbody>\n",
       "</table>\n",
       "</div>"
      ],
      "text/plain": [
       "                                Open       High        Low      Close  \\\n",
       "Date                                                                    \n",
       "1993-01-29 00:00:00-05:00  24.330336  24.330336  24.209289  24.313044   \n",
       "1993-02-01 00:00:00-05:00  24.330340  24.485971  24.330340  24.485971   \n",
       "1993-02-02 00:00:00-05:00  24.468665  24.555127  24.416788  24.537834   \n",
       "1993-02-03 00:00:00-05:00  24.572429  24.814522  24.555137  24.797230   \n",
       "1993-02-04 00:00:00-05:00  24.883684  24.952853  24.607006  24.900976   \n",
       "\n",
       "                            Volume  Dividends  Stock Splits  Capital Gains  \\\n",
       "Date                                                                         \n",
       "1993-01-29 00:00:00-05:00  1003200        0.0           0.0            0.0   \n",
       "1993-02-01 00:00:00-05:00   480500        0.0           0.0            0.0   \n",
       "1993-02-02 00:00:00-05:00   201300        0.0           0.0            0.0   \n",
       "1993-02-03 00:00:00-05:00   529400        0.0           0.0            0.0   \n",
       "1993-02-04 00:00:00-05:00   531500        0.0           0.0            0.0   \n",
       "\n",
       "                           Daily Return  \n",
       "Date                                     \n",
       "1993-01-29 00:00:00-05:00           NaN  \n",
       "1993-02-01 00:00:00-05:00      0.007113  \n",
       "1993-02-02 00:00:00-05:00      0.002118  \n",
       "1993-02-03 00:00:00-05:00      0.010571  \n",
       "1993-02-04 00:00:00-05:00      0.004184  "
      ]
     },
     "execution_count": 7,
     "metadata": {},
     "output_type": "execute_result"
    }
   ],
   "source": [
    "spy['Daily Return'] = spy['Close'].pct_change()\n",
    "spy.head()"
   ]
  },
  {
   "cell_type": "markdown",
   "id": "5f33dc36-d8fe-497e-b07b-a6a704695554",
   "metadata": {},
   "source": [
    "#### Let's drop the first row since the daily return is not a number (NaN)"
   ]
  },
  {
   "cell_type": "code",
   "execution_count": 8,
   "id": "07768753-31d2-43ed-a24f-fb99339bd9c8",
   "metadata": {},
   "outputs": [
    {
     "data": {
      "text/html": [
       "<div>\n",
       "<style scoped>\n",
       "    .dataframe tbody tr th:only-of-type {\n",
       "        vertical-align: middle;\n",
       "    }\n",
       "\n",
       "    .dataframe tbody tr th {\n",
       "        vertical-align: top;\n",
       "    }\n",
       "\n",
       "    .dataframe thead th {\n",
       "        text-align: right;\n",
       "    }\n",
       "</style>\n",
       "<table border=\"1\" class=\"dataframe\">\n",
       "  <thead>\n",
       "    <tr style=\"text-align: right;\">\n",
       "      <th></th>\n",
       "      <th>Open</th>\n",
       "      <th>High</th>\n",
       "      <th>Low</th>\n",
       "      <th>Close</th>\n",
       "      <th>Volume</th>\n",
       "      <th>Dividends</th>\n",
       "      <th>Stock Splits</th>\n",
       "      <th>Capital Gains</th>\n",
       "      <th>Daily Return</th>\n",
       "    </tr>\n",
       "    <tr>\n",
       "      <th>Date</th>\n",
       "      <th></th>\n",
       "      <th></th>\n",
       "      <th></th>\n",
       "      <th></th>\n",
       "      <th></th>\n",
       "      <th></th>\n",
       "      <th></th>\n",
       "      <th></th>\n",
       "      <th></th>\n",
       "    </tr>\n",
       "  </thead>\n",
       "  <tbody>\n",
       "    <tr>\n",
       "      <th>1993-02-01 00:00:00-05:00</th>\n",
       "      <td>24.330340</td>\n",
       "      <td>24.485971</td>\n",
       "      <td>24.330340</td>\n",
       "      <td>24.485971</td>\n",
       "      <td>480500</td>\n",
       "      <td>0.0</td>\n",
       "      <td>0.0</td>\n",
       "      <td>0.0</td>\n",
       "      <td>0.007113</td>\n",
       "    </tr>\n",
       "    <tr>\n",
       "      <th>1993-02-02 00:00:00-05:00</th>\n",
       "      <td>24.468665</td>\n",
       "      <td>24.555127</td>\n",
       "      <td>24.416788</td>\n",
       "      <td>24.537834</td>\n",
       "      <td>201300</td>\n",
       "      <td>0.0</td>\n",
       "      <td>0.0</td>\n",
       "      <td>0.0</td>\n",
       "      <td>0.002118</td>\n",
       "    </tr>\n",
       "    <tr>\n",
       "      <th>1993-02-03 00:00:00-05:00</th>\n",
       "      <td>24.572429</td>\n",
       "      <td>24.814522</td>\n",
       "      <td>24.555137</td>\n",
       "      <td>24.797230</td>\n",
       "      <td>529400</td>\n",
       "      <td>0.0</td>\n",
       "      <td>0.0</td>\n",
       "      <td>0.0</td>\n",
       "      <td>0.010571</td>\n",
       "    </tr>\n",
       "    <tr>\n",
       "      <th>1993-02-04 00:00:00-05:00</th>\n",
       "      <td>24.883684</td>\n",
       "      <td>24.952853</td>\n",
       "      <td>24.607006</td>\n",
       "      <td>24.900976</td>\n",
       "      <td>531500</td>\n",
       "      <td>0.0</td>\n",
       "      <td>0.0</td>\n",
       "      <td>0.0</td>\n",
       "      <td>0.004184</td>\n",
       "    </tr>\n",
       "    <tr>\n",
       "      <th>1993-02-05 00:00:00-05:00</th>\n",
       "      <td>24.883675</td>\n",
       "      <td>24.935552</td>\n",
       "      <td>24.745336</td>\n",
       "      <td>24.883675</td>\n",
       "      <td>492100</td>\n",
       "      <td>0.0</td>\n",
       "      <td>0.0</td>\n",
       "      <td>0.0</td>\n",
       "      <td>-0.000695</td>\n",
       "    </tr>\n",
       "  </tbody>\n",
       "</table>\n",
       "</div>"
      ],
      "text/plain": [
       "                                Open       High        Low      Close  Volume  \\\n",
       "Date                                                                            \n",
       "1993-02-01 00:00:00-05:00  24.330340  24.485971  24.330340  24.485971  480500   \n",
       "1993-02-02 00:00:00-05:00  24.468665  24.555127  24.416788  24.537834  201300   \n",
       "1993-02-03 00:00:00-05:00  24.572429  24.814522  24.555137  24.797230  529400   \n",
       "1993-02-04 00:00:00-05:00  24.883684  24.952853  24.607006  24.900976  531500   \n",
       "1993-02-05 00:00:00-05:00  24.883675  24.935552  24.745336  24.883675  492100   \n",
       "\n",
       "                           Dividends  Stock Splits  Capital Gains  \\\n",
       "Date                                                                \n",
       "1993-02-01 00:00:00-05:00        0.0           0.0            0.0   \n",
       "1993-02-02 00:00:00-05:00        0.0           0.0            0.0   \n",
       "1993-02-03 00:00:00-05:00        0.0           0.0            0.0   \n",
       "1993-02-04 00:00:00-05:00        0.0           0.0            0.0   \n",
       "1993-02-05 00:00:00-05:00        0.0           0.0            0.0   \n",
       "\n",
       "                           Daily Return  \n",
       "Date                                     \n",
       "1993-02-01 00:00:00-05:00      0.007113  \n",
       "1993-02-02 00:00:00-05:00      0.002118  \n",
       "1993-02-03 00:00:00-05:00      0.010571  \n",
       "1993-02-04 00:00:00-05:00      0.004184  \n",
       "1993-02-05 00:00:00-05:00     -0.000695  "
      ]
     },
     "execution_count": 8,
     "metadata": {},
     "output_type": "execute_result"
    }
   ],
   "source": [
    "spy = spy.dropna() \n",
    "spy.head()"
   ]
  },
  {
   "cell_type": "markdown",
   "id": "03ac8951-7797-40b4-b98d-b696890e1f57",
   "metadata": {},
   "source": [
    "#### Just to clarify how the percentage change is calculated let's take an example from Feb 2, 1993\n",
    "#### The formula is: \n",
    "## $$ \\text{Daily ROI} = \\frac{\\text{Price Today}}{\\text{Price Yesterday}} - 1 $$\n",
    "\n",
    "\n"
   ]
  },
  {
   "cell_type": "markdown",
   "id": "47cffa79-0d7e-40cb-b7a5-78377754b7cb",
   "metadata": {},
   "source": [
    "#### Let's copy/paste the raw values and compare it to the column's output for that day"
   ]
  },
  {
   "cell_type": "code",
   "execution_count": 9,
   "id": "6b300d43-bbf3-47e3-96d3-abc8db93ad67",
   "metadata": {},
   "outputs": [
    {
     "data": {
      "text/plain": [
       "0.002118846882050107"
      ]
     },
     "execution_count": 9,
     "metadata": {},
     "output_type": "execute_result"
    }
   ],
   "source": [
    "24.537842 / 24.485960 - 1"
   ]
  },
  {
   "cell_type": "markdown",
   "id": "2b172657-12bf-4a49-a068-570edf5580a9",
   "metadata": {},
   "source": [
    "* The output in the column is 0.002119, which is a rounded version of our result above\n",
    "* So now we know the column is doing the right calculations"
   ]
  },
  {
   "cell_type": "markdown",
   "id": "ade4b5dd-871f-4f20-80af-4fb01d4bc1fc",
   "metadata": {},
   "source": [
    "## Now let's find the cumulative return of the 'Daily Return' column\n",
    "#### This is the total compounded return over the entire period\n",
    "#### So it looks like this: 1.007113 x 1.002119 x 1.010571.... etc"
   ]
  },
  {
   "cell_type": "code",
   "execution_count": 10,
   "id": "ce71a12b-9cf0-4b0d-b872-3f4f949e8995",
   "metadata": {},
   "outputs": [
    {
     "data": {
      "text/plain": [
       "np.float64(27.52473253196015)"
      ]
     },
     "execution_count": 10,
     "metadata": {},
     "output_type": "execute_result"
    }
   ],
   "source": [
    "cumulative_return = (1 + spy['Daily Return']).prod()\n",
    "cumulative_return"
   ]
  },
  {
   "cell_type": "markdown",
   "id": "b30c7a60-482c-402f-a2fa-5717f5ce36f4",
   "metadata": {},
   "source": [
    "#### Next, let's calculate the total years of the data for the period we're looking at"
   ]
  },
  {
   "cell_type": "code",
   "execution_count": 11,
   "id": "d63e9692-4169-4c2e-8e85-9b43595183a8",
   "metadata": {},
   "outputs": [
    {
     "data": {
      "text/plain": [
       "32.6652977412731"
      ]
     },
     "execution_count": 11,
     "metadata": {},
     "output_type": "execute_result"
    }
   ],
   "source": [
    "total_days = float((spy.index[-1] - spy.index[0]).days)\n",
    "total_years = total_days / 365.25\n",
    "total_years"
   ]
  },
  {
   "cell_type": "markdown",
   "id": "1f08fe05-906f-41f7-8b5e-4931f8ae599c",
   "metadata": {},
   "source": [
    "#### Wow! The cumulative return over the last 32 years is more than 2,750%  \n",
    "#### In other words, 1,000 USD invested in 1993 would be worth over 27,500 USD today.\n",
    "#### TIME IN the Market Beats TIMING the Market!!"
   ]
  },
  {
   "cell_type": "markdown",
   "id": "7eaa1bfa-e078-43ec-966a-aad3c568e49d",
   "metadata": {},
   "source": [
    "## Finally, let's use the compound annual growth rate formula to annualize the return"
   ]
  },
  {
   "cell_type": "markdown",
   "id": "e60d3786-161b-4173-87dc-9a3912cb6e74",
   "metadata": {},
   "source": [
    "## $$ \\text{CAGR} = \\left( \\frac{\\text{Ending Value}}{\\text{Beginning Value}} \\right)^{\\frac{1}{\\text{Years}}} - 1 $$"
   ]
  },
  {
   "cell_type": "markdown",
   "id": "1d4c0518-7fca-41bb-8ef4-95ef343b032b",
   "metadata": {},
   "source": [
    "## Another way to express it is:\n",
    "## $$ \\text{CAGR} = \\left( \\frac{\\text{Ending Value}}{\\text{Beginning Value}} \\right)^{\\frac{365.25}{\\text{Days}}} - 1 $$"
   ]
  },
  {
   "cell_type": "code",
   "execution_count": 12,
   "id": "eebf6d8d-d95d-4f69-bf13-e3b3055100ff",
   "metadata": {},
   "outputs": [
    {
     "data": {
      "text/plain": [
       "np.float64(0.10681491618175798)"
      ]
     },
     "execution_count": 12,
     "metadata": {},
     "output_type": "execute_result"
    }
   ],
   "source": [
    "(cumulative_return)**(365.25/total_days) - 1"
   ]
  },
  {
   "cell_type": "code",
   "execution_count": 13,
   "id": "c87be8e5-2ea3-47f1-b393-d2ed9a50b7ad",
   "metadata": {},
   "outputs": [
    {
     "data": {
      "text/plain": [
       "np.float64(0.10681491618175798)"
      ]
     },
     "execution_count": 13,
     "metadata": {},
     "output_type": "execute_result"
    }
   ],
   "source": [
    "(cumulative_return ** (1 / total_years)) - 1"
   ]
  },
  {
   "cell_type": "markdown",
   "id": "c3df827e-4c60-4f62-82d9-52de0734b017",
   "metadata": {},
   "source": [
    "#### As you can see, the formulas yield the same result\n",
    "## Interpretation: The S&P 500 has returned roughly 10.68% per year over the last 32.67 years\n",
    "## We can now use this value as a proxy for Rm (return on the market) in our CAPM formula!\n",
    "#### Here's the full code for the static function "
   ]
  },
  {
   "cell_type": "code",
   "execution_count": 14,
   "id": "41b10c9a-4653-4002-ab2b-ed83f4d513a3",
   "metadata": {},
   "outputs": [],
   "source": [
    "def get_market_return():\n",
    "    \"\"\"Calculate annualized market return (CAGR) from SPY daily close prices\"\"\"\n",
    "    # Add daily return column for SPY in order to estimate Market Return\n",
    "    spy = yf.Ticker(\"SPY\").history(period='max')\n",
    "    spy['Daily Return'] = spy['Close'].pct_change()\n",
    "    \n",
    "    spy = spy.dropna() # Drop row one\n",
    "\n",
    "    # Multiply all daily growth factors to get total compounded return over the entire period\n",
    "    cumulative_return = (1 + spy['Daily Return']).prod()\n",
    "    \n",
    "    # Calculate total number of years for the period\n",
    "    total_days = float((spy.index[-1] - spy.index[0]).days)\n",
    "    total_years = total_days / 365.25\n",
    "    \n",
    "    # Calculate compounded annual growth rate. This is the market return over the period.\n",
    "    cagr = (cumulative_return ** (1 / total_years)) - 1\n",
    "    return  cagr"
   ]
  },
  {
   "cell_type": "code",
   "execution_count": 15,
   "id": "e029acf8-aca8-45e8-b826-bdb276677c6e",
   "metadata": {},
   "outputs": [
    {
     "name": "stdout",
     "output_type": "stream",
     "text": [
      "The approximate annual return on the S&P 500 is: 10.6815%\n"
     ]
    }
   ],
   "source": [
    "print(f'The approximate annual return on the S&P 500 is: {get_market_return() * 100:.4f}%')"
   ]
  },
  {
   "cell_type": "markdown",
   "id": "67f618b4-1060-4e2f-bd35-dc8c38ccf08d",
   "metadata": {},
   "source": [
    "### Now let's analyze an individual stock. We will: \n",
    "* Create a class for our stock object\n",
    "* Add some attributes to it\n",
    "* Calculate its discount rate\n",
    "\n",
    "### First thing we'll do is add some attributes using the get_yf function we defined at the beginning of this tutorial"
   ]
  },
  {
   "cell_type": "code",
   "execution_count": 16,
   "id": "1c1a2e88-2cab-4efd-8ea5-6a00d434efaf",
   "metadata": {},
   "outputs": [],
   "source": [
    "class Stock:\n",
    "    \"\"\"Initialize the class with a stock symbol\"\"\"\n",
    "    def __init__(self, symbol):\n",
    "        self.symbol = symbol\n",
    "        self.price = get_yf('currentPrice', symbol)\n",
    "        self.beta = get_yf('beta', symbol)"
   ]
  },
  {
   "cell_type": "code",
   "execution_count": 17,
   "id": "c46bd101-e6b2-4c60-8a4f-51e3122c4edb",
   "metadata": {},
   "outputs": [
    {
     "name": "stdout",
     "output_type": "stream",
     "text": [
      "Symbol: PFE\n",
      "Price: 27.37\n",
      "Beta: 0.465\n"
     ]
    }
   ],
   "source": [
    "myStock = Stock(\"PFE\")\n",
    "\n",
    "print(f\"Symbol: {myStock.symbol}\")\n",
    "print(f\"Price: {myStock.price}\")\n",
    "print(f\"Beta: {myStock.beta}\")"
   ]
  },
  {
   "cell_type": "markdown",
   "id": "9b42a6c3-021f-4f0c-9da6-5c57a94294f7",
   "metadata": {},
   "source": [
    "## Let's add the CAPM elements to the class initialization"
   ]
  },
  {
   "cell_type": "code",
   "execution_count": 18,
   "id": "3bb9de8d-362f-43fd-8f9d-daf3de940c24",
   "metadata": {},
   "outputs": [],
   "source": [
    "class Stock:\n",
    "    \"\"\"Initialize the class with a stock symbol\"\"\"\n",
    "    def __init__(self, symbol, Rf, Rm):\n",
    "        self.symbol = symbol\n",
    "        self.price = get_yf('currentPrice', symbol)\n",
    "        self.beta = get_yf('beta', symbol)\n",
    "        \n",
    "        # Calculate stock's discount rate using CAPM formula\n",
    "        self.mrp = Rm - Rf\n",
    "        self.discount_rate = Rf + self.beta * self.mrp"
   ]
  },
  {
   "cell_type": "code",
   "execution_count": 19,
   "id": "baf3e519-19da-42b1-a603-9674202e9012",
   "metadata": {},
   "outputs": [
    {
     "name": "stdout",
     "output_type": "stream",
     "text": [
      "Symbol: PFE\n",
      "Price: $27.37\n",
      "Beta: 0.465\n",
      "Risk-Free Rate:  4.35%\n",
      "Return on Market:  10.68%\n",
      "Market Risk Premium:  6.33%\n",
      "Discount Rate:  7.29%\n"
     ]
    }
   ],
   "source": [
    "# We pass Rf and Rm to the class because adding them to the class itself slow performance significantly\n",
    "Rf = get_rf_rate()\n",
    "Rm = get_market_return()  \n",
    "myStock = Stock(\"PFE\", Rf, Rm)\n",
    "\n",
    "print(f\"Symbol: {myStock.symbol}\")\n",
    "print(f\"Price: ${myStock.price}\")\n",
    "print(f\"Beta: {myStock.beta}\")\n",
    "print(f\"Risk-Free Rate: {Rf * 100: .2f}%\")\n",
    "print(f\"Return on Market: {Rm * 100: .2f}%\")\n",
    "print(f\"Market Risk Premium: {myStock.mrp * 100: .2f}%\")\n",
    "print(f\"Discount Rate: {myStock.discount_rate * 100: .2f}%\")"
   ]
  },
  {
   "cell_type": "markdown",
   "id": "33f56a4f-efe5-4ebb-97d9-3e311f54dc63",
   "metadata": {},
   "source": [
    "### We can iterate to quickly get these stats for multiple tickers"
   ]
  },
  {
   "cell_type": "code",
   "execution_count": 20,
   "id": "f4bd1fc2-6726-440e-a479-e49ab1163ca7",
   "metadata": {},
   "outputs": [
    {
     "name": "stdout",
     "output_type": "stream",
     "text": [
      "Symbol: PFE\n",
      "Price: $27.37\n",
      "Beta: 0.465\n",
      "Risk-Free Rate:  4.35%\n",
      "Return on Market:  10.68%\n",
      "Market Risk Premium:  6.33%\n",
      "Discount Rate:  7.29%\n",
      "\n",
      "Symbol: GIS\n",
      "Price: $50.36\n",
      "Beta: -0.025\n",
      "Risk-Free Rate:  4.35%\n",
      "Return on Market:  10.68%\n",
      "Market Risk Premium:  6.33%\n",
      "Discount Rate:  4.19%\n",
      "\n",
      "Symbol: TSLA\n",
      "Price: $429.83\n",
      "Beta: 2.086\n",
      "Risk-Free Rate:  4.35%\n",
      "Return on Market:  10.68%\n",
      "Market Risk Premium:  6.33%\n",
      "Discount Rate:  17.56%\n",
      "\n",
      "Symbol: NVDA\n",
      "Price: $187.62\n",
      "Beta: 2.123\n",
      "Risk-Free Rate:  4.35%\n",
      "Return on Market:  10.68%\n",
      "Market Risk Premium:  6.33%\n",
      "Discount Rate:  17.79%\n",
      "\n"
     ]
    }
   ],
   "source": [
    "Rf = get_rf_rate()\n",
    "Rm = get_market_return()\n",
    "\n",
    "for symbol in [\"PFE\", \"GIS\", \"TSLA\", \"NVDA\"]:\n",
    "    myStock = Stock(symbol, Rf, Rm)\n",
    "    \n",
    "    print(f\"Symbol: {myStock.symbol}\")\n",
    "    print(f\"Price: ${myStock.price}\")\n",
    "    print(f\"Beta: {myStock.beta}\")\n",
    "    print(f\"Risk-Free Rate: {Rf * 100: .2f}%\")\n",
    "    print(f\"Return on Market: {Rm * 100: .2f}%\")\n",
    "    print(f\"Market Risk Premium: {myStock.mrp * 100: .2f}%\")\n",
    "    print(f\"Discount Rate: {myStock.discount_rate * 100: .2f}%\")\n",
    "    print()"
   ]
  },
  {
   "cell_type": "markdown",
   "id": "6199860a-e829-43dc-a8fa-32d1d558b5dc",
   "metadata": {},
   "source": [
    "#### As we would expect, the discount rate is higher for more volatile tech companies than for for consumer and pharma\n",
    "* Tech companies' revenues and earnings are more volatile and thus the stocks are riskier and the discount rate is higher\n",
    "* Consumer goods and pharmaceutical  companies have smoother earnings and demand and are less risky, so the discount rate is lower\n",
    "* So far our data analysis lines up well with economic and finance theory"
   ]
  },
  {
   "cell_type": "markdown",
   "id": "376483b0-802f-4d6a-b142-7721b5622f14",
   "metadata": {},
   "source": [
    "### Now that we have our class created, we can iterate to get multiple discount rates across sectors"
   ]
  },
  {
   "cell_type": "code",
   "execution_count": 21,
   "id": "bea569e6-c24d-4ed2-8270-80c43bd506e0",
   "metadata": {},
   "outputs": [
    {
     "name": "stdout",
     "output_type": "stream",
     "text": [
      "Discount Rate for GIS:  4.19%\n",
      "Discount Rate for PFE:  7.29%\n",
      "Discount Rate for TSLA:  17.56%\n",
      "Discount Rate for NVDA:  17.79%\n",
      "Discount Rate for BTI:  5.49%\n",
      "Discount Rate for PM:  7.38%\n",
      "Discount Rate for MCD:  7.54%\n",
      "Discount Rate for SBUX:  10.67%\n",
      "Discount Rate for CVX:  9.50%\n",
      "Discount Rate for XOM:  7.41%\n",
      "Discount Rate for VZ:  6.67%\n",
      "Discount Rate for T:  8.30%\n",
      "Discount Rate for TGT:  11.80%\n",
      "Discount Rate for WMT:  8.60%\n",
      "Discount Rate for PEP:  7.25%\n",
      "Discount Rate for KO:  7.03%\n",
      "Discount Rate for IBM:  8.93%\n",
      "Discount Rate for MSFT:  10.83%\n",
      "Discount Rate for AMZN:  12.46%\n",
      "Discount Rate for BAC:  12.80%\n",
      "Discount Rate for JPM:  11.49%\n"
     ]
    }
   ],
   "source": [
    "for symbol in [\"GIS\", \"PFE\", \"TSLA\", \"NVDA\", \"BTI\", \"PM\", \"MCD\", \"SBUX\", \"CVX\", \"XOM\", \n",
    "               \"VZ\", \"T\", \"TGT\", \"WMT\", \"PEP\", \"KO\", \"IBM\", \"MSFT\", \"AMZN\", \"BAC\", \"JPM\"]:\n",
    "    \n",
    "    myStock = Stock(symbol, Rf, Rm)\n",
    "    print(f\"Discount Rate for {symbol}: {myStock.discount_rate * 100: .2f}%\")"
   ]
  },
  {
   "cell_type": "markdown",
   "id": "794289a6-4e02-45e5-b061-257a456a7bb4",
   "metadata": {},
   "source": [
    "* Again, we can see that consumer goods are the lowest (GIS is food, BTI is cigarettes)\n",
    "* The discount rate for McDonald's is about the same as it is for Philip Morris, which may be an interesting commentary on fast food!\n",
    "* Bank stocks (BAC, JPM) are riskier than most sectors and almost as risky as emerging tech\n",
    "* Oil companies (CVX, XOM), Restaurants (MCD, SBUX), and Retail (TGT, WMT) have higher discount rates due to volatility, but not as high as tech"
   ]
  },
  {
   "cell_type": "markdown",
   "id": "ce0a4003-737e-432b-a956-14290726f729",
   "metadata": {},
   "source": [
    "# Two-Stage Dividend Growth Model\n",
    "\n",
    "* The **Two-Stage Dividend Growth Model** values a stock based on future dividend payments.\n",
    "* It assumes dividends will grow at different rates during two distinct periods.\n",
    "* This model is especially useful for companies expected to experience different growth rates at different stages of their life cycle.\n",
    "\n",
    "### Components:\n",
    "* **Stage 1 (High Growth Period)**: The company’s dividends grow at a high rate for the first period.\n",
    "* **Stage 2 (Stable Growth Period)**: After the initial high-growth period, dividends are assumed to grow at a lower, stable rate indefinitely.\n",
    "\n",
    "### Formula:\n",
    "\n",
    "The price of the stock (P) is calculated as the sum of the present value of dividends during the high-growth stage and the present value of dividends in the stable-growth stage.\n",
    "\n",
    "$$ P_0 = \\frac{D_0 (1 + g_1)}{(1 + r)^1}\n",
    "+ \\frac{D_0 (1 + g_1)^2}{(1 + r)^2}\n",
    "+ \\dots\n",
    "+ \\frac{D_0 (1 + g_1)^t}{(1 + r)^t}\n",
    "+ \\text{Terminal Value} $$\n",
    "\n",
    "Where:\n",
    "* $P_0 $ = Current stock price\n",
    "* $D_t$ = Dividend in year t\n",
    "* $r$ = Discount rate (required rate of return)\n",
    "* $g_1$ = Growth rate during the high-growth period\n",
    "* $g_2$ = Stable growth rate after the high-growth period\n",
    "* $t$ = Number of years in the high-growth period\n",
    "$$ \\text{Terminal Value} = \\frac{D_0 (1 + g_1)^t (1 + g_2)}{(r - g_2)} \\times \\frac{1}{(1 + r)^t} $$\n",
    "\n",
    "### Advantages:\n",
    "- More realistic for companies with different growth phases.\n",
    "- Allows for a more nuanced valuation compared to a constant growth model.\n",
    "\n",
    "### Disadvantages:\n",
    "- Relies on accurate growth rate projections.\n",
    "- Sensitive to changes in the discount rate and growth assumptions.\n"
   ]
  },
  {
   "cell_type": "markdown",
   "id": "724c845c-de61-4b8c-9429-12c1162754d2",
   "metadata": {},
   "source": [
    "### In simple terms: \n",
    "* The model takes next year's dividend as an initial input.\n",
    "* The model can also use the **forward EPS** or **forward FCF** instead of the forward dividend\n",
    "* It increases the cashflow according to the growth rate and number of high growth years\n",
    "* These forecasted cashflows are then discounted back to year zero (using the discount rate we calculated earlier)\n",
    "* The terminal value is the formula for a perpetuity, discounted back to year zero\n",
    "* Adding the discounted cashflows with the discounted terminal value gives the net present value of expected future cashflows\n",
    "* This output is the model's estimate of the stock's present value (i.e. price per share) today"
   ]
  },
  {
   "cell_type": "markdown",
   "id": "7867c3a0-e1ef-4d5e-90e3-12aac3f386d3",
   "metadata": {},
   "source": [
    "### We're ready to take on the two-stage growth model. We need to add some more attributes to the class."
   ]
  },
  {
   "cell_type": "code",
   "execution_count": 22,
   "id": "d3080b4a-221c-4c81-ad17-11ad47110235",
   "metadata": {},
   "outputs": [],
   "source": [
    "class Stock:\n",
    "    \"\"\"Initialize the class with a stock symbol\"\"\"\n",
    "    def __init__(self, symbol, Rf, Rm):\n",
    "        self.symbol = symbol\n",
    "        self.price = get_yf('currentPrice', symbol)\n",
    "        self.beta = get_yf('beta', symbol)\n",
    "        \n",
    "        # Calculate stock's discount rate using CAPM formula\n",
    "        self.mrp = Rm - Rf\n",
    "        self.discount_rate = Rf + self.beta * self.mrp\n",
    "\n",
    "        # Calculate free cashflow per share (this is the year 0 value), prevent division by zero\n",
    "        fcf = get_yf('freeCashflow', symbol)\n",
    "        shares = get_yf('sharesOutstanding', symbol)\n",
    "        self.fcf_0 = fcf / shares if shares else 0\n",
    "\n",
    "        self.eps = get_yf('forwardEps', symbol) \n",
    "        self.div = get_yf('dividendRate', symbol)"
   ]
  },
  {
   "cell_type": "markdown",
   "id": "4fd26338-8e88-4f5f-a6f6-f877074d31c4",
   "metadata": {},
   "source": [
    "### We're going to calculate the price per share using all three cashflow types: FCF, EPS, DIV, because why not?!\n",
    "* Since FCF divides by shares we need to prevent division by zero with an if statement"
   ]
  },
  {
   "cell_type": "code",
   "execution_count": 23,
   "id": "e1a5af28-1c89-4b69-a945-e541135d2c49",
   "metadata": {},
   "outputs": [
    {
     "name": "stdout",
     "output_type": "stream",
     "text": [
      "2.8173173155352327\n",
      "2.93\n",
      "1.72\n"
     ]
    }
   ],
   "source": [
    "print(Stock(\"PFE\", Rf, Rm).fcf_0) \n",
    "print(Stock(\"PFE\", Rf, Rm).eps) \n",
    "print(Stock(\"PFE\", Rf, Rm).div) "
   ]
  },
  {
   "cell_type": "markdown",
   "id": "8d47a0bf-9f63-412e-a41a-0d47d753f407",
   "metadata": {},
   "source": [
    "#### We've added forward FCF, forward EPS, and forward Dividend per share to the class using the yfinance library\n",
    "* For Forward Free Cashflow per share we get free cashflow, divide by shares\n",
    "* This gives us FCF per share at year 0. We'll adjust it forward by one year later\n",
    "* Notice that the Dividend per share is significantly lower than the EPS and FCF"
   ]
  },
  {
   "cell_type": "markdown",
   "id": "57e1b2b1-f30f-43b8-bb07-8775e3fc2257",
   "metadata": {},
   "source": [
    "### Before diving into the model, let's create a 'stats' dataframe to see all this data in one place, for reference\n",
    "* We'll accomplish this by adding a 'get_stats' method to the class"
   ]
  },
  {
   "cell_type": "code",
   "execution_count": 24,
   "id": "1116e388-ddb2-4dd4-9b0e-ba4d5afaaabf",
   "metadata": {},
   "outputs": [],
   "source": [
    "class Stock:\n",
    "    \"\"\"Initialize the class with a stock symbol\"\"\"\n",
    "    def __init__(self, symbol, Rf, Rm):\n",
    "        self.symbol = symbol\n",
    "        self.price = get_yf('currentPrice', symbol)\n",
    "        self.beta = get_yf('beta', symbol)\n",
    "        \n",
    "        # Calculate stock's discount rate using CAPM formula\n",
    "        self.mrp = Rm - Rf\n",
    "        self.discount_rate = Rf + self.beta * self.mrp\n",
    "\n",
    "        # Calculate free cashflow per share (this is the year 0 value), prevent division by zero\n",
    "        fcf = get_yf('freeCashflow', symbol)\n",
    "        shares = get_yf('sharesOutstanding', symbol)\n",
    "        self.fcf_0 = fcf / shares if shares else 0\n",
    "\n",
    "        self.eps = get_yf('forwardEps', symbol) \n",
    "        self.div = get_yf('dividendRate', symbol)\n",
    "        \n",
    "    def get_stats(self):\n",
    "        \"\"\"Return a dataframe with key stats necessary to calculate the two-stage growth model\"\"\"\n",
    "        df_stats = pd.DataFrame({\n",
    "            'Symbol': [self.symbol],\n",
    "            'FCF Yr 0': [self.fcf_0], \n",
    "            'Fwd EPS': [self.eps],\n",
    "            'Fwd Div': [self.div],\n",
    "            'Beta': [self.beta],\n",
    "            'Mkt Return': [Rm],\n",
    "            'Risk-Free Rate': [Rf],                   \n",
    "            'Mkt Risk Prem': [self.mrp],\n",
    "            'Discount Rate': [self.discount_rate]})\n",
    "        return df_stats"
   ]
  },
  {
   "cell_type": "code",
   "execution_count": 25,
   "id": "9685a6ac-e839-44ab-8672-cca5f46815ff",
   "metadata": {},
   "outputs": [
    {
     "data": {
      "text/html": [
       "<div>\n",
       "<style scoped>\n",
       "    .dataframe tbody tr th:only-of-type {\n",
       "        vertical-align: middle;\n",
       "    }\n",
       "\n",
       "    .dataframe tbody tr th {\n",
       "        vertical-align: top;\n",
       "    }\n",
       "\n",
       "    .dataframe thead th {\n",
       "        text-align: right;\n",
       "    }\n",
       "</style>\n",
       "<table border=\"1\" class=\"dataframe\">\n",
       "  <thead>\n",
       "    <tr style=\"text-align: right;\">\n",
       "      <th></th>\n",
       "      <th>Symbol</th>\n",
       "      <th>FCF Yr 0</th>\n",
       "      <th>Fwd EPS</th>\n",
       "      <th>Fwd Div</th>\n",
       "      <th>Beta</th>\n",
       "      <th>Mkt Return</th>\n",
       "      <th>Risk-Free Rate</th>\n",
       "      <th>Mkt Risk Prem</th>\n",
       "      <th>Discount Rate</th>\n",
       "    </tr>\n",
       "  </thead>\n",
       "  <tbody>\n",
       "    <tr>\n",
       "      <th>0</th>\n",
       "      <td>PFE</td>\n",
       "      <td>2.817317</td>\n",
       "      <td>2.93</td>\n",
       "      <td>1.72</td>\n",
       "      <td>0.465</td>\n",
       "      <td>0.106815</td>\n",
       "      <td>0.0435</td>\n",
       "      <td>0.063315</td>\n",
       "      <td>0.072941</td>\n",
       "    </tr>\n",
       "  </tbody>\n",
       "</table>\n",
       "</div>"
      ],
      "text/plain": [
       "  Symbol  FCF Yr 0  Fwd EPS  Fwd Div   Beta  Mkt Return  Risk-Free Rate  \\\n",
       "0    PFE  2.817317     2.93     1.72  0.465    0.106815          0.0435   \n",
       "\n",
       "   Mkt Risk Prem  Discount Rate  \n",
       "0       0.063315       0.072941  "
      ]
     },
     "execution_count": 25,
     "metadata": {},
     "output_type": "execute_result"
    }
   ],
   "source": [
    "Stock(\"PFE\", Rf, Rm).get_stats()"
   ]
  },
  {
   "cell_type": "markdown",
   "id": "7e52477c-eadb-4fb1-9c44-f28226de106a",
   "metadata": {},
   "source": [
    "### We can iterate to add multiple rows (e.g. stocks) to the dataframe for any further analysis we'd like to do"
   ]
  },
  {
   "cell_type": "code",
   "execution_count": 26,
   "id": "dcb1f019-2afa-480f-89ed-188c888b3501",
   "metadata": {},
   "outputs": [],
   "source": [
    "def get_multiple_stats(symbols):\n",
    "    \"\"\"Return CAPM and Two-Stage Growth Model stats for multiple stocks\"\"\"\n",
    "    all_stats = []\n",
    "\n",
    "    # Iterate to append stats to the dataframe\n",
    "    for symbol in symbols:\n",
    "        df = Stock(symbol, Rf, Rm).get_stats()\n",
    "        all_stats.append(df) \n",
    "\n",
    "    # Concatenate all the dataframes together\n",
    "    stats_df = pd.concat(all_stats, ignore_index=True)\n",
    "    return stats_df"
   ]
  },
  {
   "cell_type": "code",
   "execution_count": 27,
   "id": "0cc8e39a-5f85-4848-9be8-3d1031c6ed94",
   "metadata": {},
   "outputs": [
    {
     "data": {
      "text/html": [
       "<div>\n",
       "<style scoped>\n",
       "    .dataframe tbody tr th:only-of-type {\n",
       "        vertical-align: middle;\n",
       "    }\n",
       "\n",
       "    .dataframe tbody tr th {\n",
       "        vertical-align: top;\n",
       "    }\n",
       "\n",
       "    .dataframe thead th {\n",
       "        text-align: right;\n",
       "    }\n",
       "</style>\n",
       "<table border=\"1\" class=\"dataframe\">\n",
       "  <thead>\n",
       "    <tr style=\"text-align: right;\">\n",
       "      <th></th>\n",
       "      <th>Symbol</th>\n",
       "      <th>FCF Yr 0</th>\n",
       "      <th>Fwd EPS</th>\n",
       "      <th>Fwd Div</th>\n",
       "      <th>Beta</th>\n",
       "      <th>Mkt Return</th>\n",
       "      <th>Risk-Free Rate</th>\n",
       "      <th>Mkt Risk Prem</th>\n",
       "      <th>Discount Rate</th>\n",
       "    </tr>\n",
       "  </thead>\n",
       "  <tbody>\n",
       "    <tr>\n",
       "      <th>0</th>\n",
       "      <td>GIS</td>\n",
       "      <td>3.982161</td>\n",
       "      <td>4.70</td>\n",
       "      <td>2.44</td>\n",
       "      <td>-0.025</td>\n",
       "      <td>0.106815</td>\n",
       "      <td>0.0435</td>\n",
       "      <td>0.063315</td>\n",
       "      <td>0.041917</td>\n",
       "    </tr>\n",
       "    <tr>\n",
       "      <th>1</th>\n",
       "      <td>PFE</td>\n",
       "      <td>2.817317</td>\n",
       "      <td>2.93</td>\n",
       "      <td>1.72</td>\n",
       "      <td>0.465</td>\n",
       "      <td>0.106815</td>\n",
       "      <td>0.0435</td>\n",
       "      <td>0.063315</td>\n",
       "      <td>0.072941</td>\n",
       "    </tr>\n",
       "    <tr>\n",
       "      <th>2</th>\n",
       "      <td>TSLA</td>\n",
       "      <td>0.420545</td>\n",
       "      <td>3.24</td>\n",
       "      <td>0.00</td>\n",
       "      <td>2.086</td>\n",
       "      <td>0.106815</td>\n",
       "      <td>0.0435</td>\n",
       "      <td>0.063315</td>\n",
       "      <td>0.175575</td>\n",
       "    </tr>\n",
       "    <tr>\n",
       "      <th>3</th>\n",
       "      <td>NVDA</td>\n",
       "      <td>2.153725</td>\n",
       "      <td>4.12</td>\n",
       "      <td>0.04</td>\n",
       "      <td>2.123</td>\n",
       "      <td>0.106815</td>\n",
       "      <td>0.0435</td>\n",
       "      <td>0.063315</td>\n",
       "      <td>0.177918</td>\n",
       "    </tr>\n",
       "    <tr>\n",
       "      <th>4</th>\n",
       "      <td>BAC</td>\n",
       "      <td>0.000000</td>\n",
       "      <td>3.66</td>\n",
       "      <td>1.12</td>\n",
       "      <td>1.334</td>\n",
       "      <td>0.106815</td>\n",
       "      <td>0.0435</td>\n",
       "      <td>0.063315</td>\n",
       "      <td>0.127962</td>\n",
       "    </tr>\n",
       "    <tr>\n",
       "      <th>5</th>\n",
       "      <td>JPM</td>\n",
       "      <td>0.000000</td>\n",
       "      <td>16.74</td>\n",
       "      <td>6.00</td>\n",
       "      <td>1.127</td>\n",
       "      <td>0.106815</td>\n",
       "      <td>0.0435</td>\n",
       "      <td>0.063315</td>\n",
       "      <td>0.114856</td>\n",
       "    </tr>\n",
       "  </tbody>\n",
       "</table>\n",
       "</div>"
      ],
      "text/plain": [
       "  Symbol  FCF Yr 0  Fwd EPS  Fwd Div   Beta  Mkt Return  Risk-Free Rate  \\\n",
       "0    GIS  3.982161     4.70     2.44 -0.025    0.106815          0.0435   \n",
       "1    PFE  2.817317     2.93     1.72  0.465    0.106815          0.0435   \n",
       "2   TSLA  0.420545     3.24     0.00  2.086    0.106815          0.0435   \n",
       "3   NVDA  2.153725     4.12     0.04  2.123    0.106815          0.0435   \n",
       "4    BAC  0.000000     3.66     1.12  1.334    0.106815          0.0435   \n",
       "5    JPM  0.000000    16.74     6.00  1.127    0.106815          0.0435   \n",
       "\n",
       "   Mkt Risk Prem  Discount Rate  \n",
       "0       0.063315       0.041917  \n",
       "1       0.063315       0.072941  \n",
       "2       0.063315       0.175575  \n",
       "3       0.063315       0.177918  \n",
       "4       0.063315       0.127962  \n",
       "5       0.063315       0.114856  "
      ]
     },
     "execution_count": 27,
     "metadata": {},
     "output_type": "execute_result"
    }
   ],
   "source": [
    "get_multiple_stats([\"GIS\", \"PFE\", \"TSLA\", \"NVDA\", \"BAC\", \"JPM\"])"
   ]
  },
  {
   "cell_type": "markdown",
   "id": "e890d6e5-1ac8-4fd4-9b68-df59df107ce6",
   "metadata": {},
   "source": [
    "# OK, we have all the inputs. Time to use the model to predict stock prices! \n",
    "#### First, let's find the current year and create a list of years, based on user input"
   ]
  },
  {
   "cell_type": "code",
   "execution_count": 28,
   "id": "2fbf2a54-b16f-4053-9fc3-cf33c5d251bb",
   "metadata": {},
   "outputs": [
    {
     "name": "stdout",
     "output_type": "stream",
     "text": [
      "It's currently 2025\n",
      "\n",
      "The user chose 3 years of initial high-growth\n",
      "So we'll be forecasting cashflows for the following years: [2025, 2026, 2027, 2028]\n"
     ]
    }
   ],
   "source": [
    "# Define user inputs\n",
    "years = 3\n",
    "myStock = Stock(\"PFE\", Rf, Rm)\n",
    "g_hi = 0.03\n",
    "g_lo = 0.015\n",
    "\n",
    "current_year = datetime.datetime.now().year\n",
    "year_list = [current_year + i for i in range(years + 1)]\n",
    "\n",
    "print(f\"It's currently {current_year}\")\n",
    "print()\n",
    "print(f\"The user chose {years} years of initial high-growth\")\n",
    "print(f\"So we'll be forecasting cashflows for the following years: {year_list}\")"
   ]
  },
  {
   "cell_type": "markdown",
   "id": "e4ed019c-4286-42e2-9b48-ac7e12319645",
   "metadata": {},
   "source": [
    "### Now the fun part. Let's project cashflows into the future. We'll start using the dividend but later we'll use all three.\n",
    "* PFE (Pfizer) is a cyclical, multi-national pharmaceutical company\n",
    "* Let's be conservative and choose 3% for the high-growth phase and 1.5% as the low-growth phase (into perpetuity)\n",
    "* We'll cover esimating potential growth rates later in this tutorial using data analysis\n",
    "* But for now let's choose the growth rates without analysis"
   ]
  },
  {
   "cell_type": "code",
   "execution_count": 29,
   "id": "55233c92-6209-428c-a489-1c47b8df213b",
   "metadata": {},
   "outputs": [
    {
     "data": {
      "text/plain": [
       "[1.72, 1.7716, 1.8247479999999998, 1.8794904399999999]"
      ]
     },
     "execution_count": 29,
     "metadata": {},
     "output_type": "execute_result"
    }
   ],
   "source": [
    "# Create list of cashflows, compounded annually by the high-growth rate\n",
    "cf = myStock.div\n",
    "cf_list = [cf * (1 + g_hi) ** year \n",
    "           for year in range(years + 1)]\n",
    "cf_list"
   ]
  },
  {
   "cell_type": "markdown",
   "id": "6c1f3db4-5f71-4eaa-aa74-bc2b00a5eaf0",
   "metadata": {},
   "source": [
    "* Translation: For the first 3 years the dividend will grow 3%\n",
    "* At this rate, by 2028 it will have grown from 1.72 to 1.88"
   ]
  },
  {
   "cell_type": "markdown",
   "id": "d9425082-80a0-496e-8aaf-6f90733cb5f5",
   "metadata": {},
   "source": [
    "### Now let's calculate the undiscounted terminal value. This is the value of the perpetuity in 2028.\n",
    "* In other words, we take 1.88, multiply it by 1.015 (since our low-growth rate is 1.5%) and divide by: (discount rate minus low growth rate)"
   ]
  },
  {
   "cell_type": "code",
   "execution_count": 30,
   "id": "1d65eeec-1f33-495d-944b-1a561e917669",
   "metadata": {},
   "outputs": [
    {
     "data": {
      "text/plain": [
       "np.float64(32.9243229597949)"
      ]
     },
     "execution_count": 30,
     "metadata": {},
     "output_type": "execute_result"
    }
   ],
   "source": [
    "# Terminal Value Formula: (Final Dividend * (1 + Low Growth Rate)) / (Discount Rate - Low Growth Rate)\n",
    "tv = ((cf_list[years] * (1 + g_lo)) / (myStock.discount_rate - g_lo))\n",
    "tv"
   ]
  },
  {
   "cell_type": "markdown",
   "id": "8eb87a69-5b5f-46d6-905a-00a9f7c4bd92",
   "metadata": {},
   "source": [
    "#### Let's double check the math"
   ]
  },
  {
   "cell_type": "code",
   "execution_count": 31,
   "id": "42dd8518-8cb9-4088-a9e8-3b1b7cdf6910",
   "metadata": {},
   "outputs": [
    {
     "data": {
      "text/plain": [
       "np.float64(0.07294144344075172)"
      ]
     },
     "execution_count": 31,
     "metadata": {},
     "output_type": "execute_result"
    }
   ],
   "source": [
    "myStock.discount_rate"
   ]
  },
  {
   "cell_type": "code",
   "execution_count": 2,
   "id": "00927b9e-521e-47eb-8c21-e02143382e3f",
   "metadata": {},
   "outputs": [
    {
     "data": {
      "text/plain": [
       "32.92432295979491"
      ]
     },
     "execution_count": 2,
     "metadata": {},
     "output_type": "execute_result"
    }
   ],
   "source": [
    " 1.87949044 * 1.015 / (0.07294144344075172 - 0.015)"
   ]
  },
  {
   "cell_type": "markdown",
   "id": "c72f9368-b4b0-4b52-8d09-84a6e64ac9f0",
   "metadata": {},
   "source": [
    "### OK so we've calculated the undiscounted stream of cashflows and terminal value. \n",
    "### Now let's add the terminal value to the last year"
   ]
  },
  {
   "cell_type": "code",
   "execution_count": 33,
   "id": "b471947f-fa6a-48c0-bd03-9483cac65551",
   "metadata": {},
   "outputs": [
    {
     "data": {
      "text/plain": [
       "[1.72, 1.7716, 1.8247479999999998, np.float64(34.8038133997949)]"
      ]
     },
     "execution_count": 33,
     "metadata": {},
     "output_type": "execute_result"
    }
   ],
   "source": [
    "# Add terminal value to the final cashflow\n",
    "cf_list[years] = cf_list[years] + tv\n",
    "cf_list"
   ]
  },
  {
   "cell_type": "markdown",
   "id": "db92e633-32d0-4b66-bfe0-108e3084df68",
   "metadata": {},
   "source": [
    "#### Notice that the final cashflow is approximately 34.80 (= 1.88 + 32.92)\n",
    "## Now we'll discount all cashflows back to year 0"
   ]
  },
  {
   "cell_type": "code",
   "execution_count": 34,
   "id": "6f090e19-83ff-46d0-a5c0-2467df025245",
   "metadata": {},
   "outputs": [
    {
     "data": {
      "text/plain": [
       "[np.float64(1.72),\n",
       " np.float64(1.6511618698582113),\n",
       " np.float64(1.5850787909730606),\n",
       " np.float64(28.177260657506853)]"
      ]
     },
     "execution_count": 34,
     "metadata": {},
     "output_type": "execute_result"
    }
   ],
   "source": [
    "# Create list of discounted cashflows based on year and discount rate we previously calculated with CAPM\n",
    "pv_list = [cf_list[year] / ((1 + myStock.discount_rate) ** year) \n",
    "           for year in range(years + 1)]\n",
    "pv_list"
   ]
  },
  {
   "cell_type": "markdown",
   "id": "3241f0cb-9804-49d7-afe2-d1a0f4dcede3",
   "metadata": {},
   "source": [
    "### Finally, we'll put the results in a dataframe"
   ]
  },
  {
   "cell_type": "code",
   "execution_count": 35,
   "id": "aa54767c-2b87-4560-91f6-d470cc905c2c",
   "metadata": {},
   "outputs": [
    {
     "data": {
      "text/html": [
       "<div>\n",
       "<style scoped>\n",
       "    .dataframe tbody tr th:only-of-type {\n",
       "        vertical-align: middle;\n",
       "    }\n",
       "\n",
       "    .dataframe tbody tr th {\n",
       "        vertical-align: top;\n",
       "    }\n",
       "\n",
       "    .dataframe thead th {\n",
       "        text-align: right;\n",
       "    }\n",
       "</style>\n",
       "<table border=\"1\" class=\"dataframe\">\n",
       "  <thead>\n",
       "    <tr style=\"text-align: right;\">\n",
       "      <th></th>\n",
       "      <th>Year</th>\n",
       "      <th>Cashflow</th>\n",
       "      <th>Present Value</th>\n",
       "    </tr>\n",
       "  </thead>\n",
       "  <tbody>\n",
       "    <tr>\n",
       "      <th>0</th>\n",
       "      <td>2025</td>\n",
       "      <td>1.720000</td>\n",
       "      <td>1.720000</td>\n",
       "    </tr>\n",
       "    <tr>\n",
       "      <th>1</th>\n",
       "      <td>2026</td>\n",
       "      <td>1.771600</td>\n",
       "      <td>1.651162</td>\n",
       "    </tr>\n",
       "    <tr>\n",
       "      <th>2</th>\n",
       "      <td>2027</td>\n",
       "      <td>1.824748</td>\n",
       "      <td>1.585079</td>\n",
       "    </tr>\n",
       "    <tr>\n",
       "      <th>3</th>\n",
       "      <td>2028</td>\n",
       "      <td>34.803813</td>\n",
       "      <td>28.177261</td>\n",
       "    </tr>\n",
       "  </tbody>\n",
       "</table>\n",
       "</div>"
      ],
      "text/plain": [
       "   Year   Cashflow  Present Value\n",
       "0  2025   1.720000       1.720000\n",
       "1  2026   1.771600       1.651162\n",
       "2  2027   1.824748       1.585079\n",
       "3  2028  34.803813      28.177261"
      ]
     },
     "execution_count": 35,
     "metadata": {},
     "output_type": "execute_result"
    }
   ],
   "source": [
    "df_model = pd.DataFrame({'Year': year_list,\n",
    "                         'Cashflow': cf_list,\n",
    "                         'Present Value': pv_list})\n",
    "df_model"
   ]
  },
  {
   "cell_type": "markdown",
   "id": "d528c9bb-6602-41d3-b14f-8484ff11248f",
   "metadata": {},
   "source": [
    "### And calculate the NPV (sum of the present value column) to predict the stock price"
   ]
  },
  {
   "cell_type": "code",
   "execution_count": 36,
   "id": "28365de6-55f8-469c-8628-15f9d5f9ddff",
   "metadata": {},
   "outputs": [
    {
     "data": {
      "text/plain": [
       "33.133501318338126"
      ]
     },
     "execution_count": 36,
     "metadata": {},
     "output_type": "execute_result"
    }
   ],
   "source": [
    "npv = sum(df_model['Present Value'])\n",
    "npv"
   ]
  },
  {
   "cell_type": "markdown",
   "id": "6069951e-7758-4d21-849e-f20529752e5a",
   "metadata": {},
   "source": [
    "### And compare to the current market price"
   ]
  },
  {
   "cell_type": "code",
   "execution_count": 37,
   "id": "13b7c580-fe1a-4481-a264-97299b2974c9",
   "metadata": {},
   "outputs": [
    {
     "data": {
      "text/plain": [
       "27.37"
      ]
     },
     "execution_count": 37,
     "metadata": {},
     "output_type": "execute_result"
    }
   ],
   "source": [
    "myStock.price"
   ]
  },
  {
   "cell_type": "markdown",
   "id": "8d460af5-abf8-4114-b677-e8cde11678fd",
   "metadata": {},
   "source": [
    "### The stock appears a bit undervalued according to this single analysis"
   ]
  },
  {
   "cell_type": "markdown",
   "id": "c9a83071-1adc-401d-8ff0-8f27cbfc7626",
   "metadata": {},
   "source": [
    "# Here's the code for the class method"
   ]
  },
  {
   "cell_type": "code",
   "execution_count": 38,
   "id": "8bc9153e-3f68-4085-bbb7-8e7904130e59",
   "metadata": {},
   "outputs": [],
   "source": [
    "class Stock:\n",
    "    \"\"\"Initialize the class with a stock symbol\"\"\"\n",
    "    def __init__(self, symbol, Rf, Rm):\n",
    "        self.symbol = symbol\n",
    "        self.price = get_yf('currentPrice', symbol)\n",
    "        self.beta = get_yf('beta', symbol)\n",
    "        \n",
    "        # Calculate stock's discount rate using CAPM formula\n",
    "        self.mrp = Rm - Rf\n",
    "        self.discount_rate = Rf + self.beta * self.mrp\n",
    "\n",
    "        # Calculate free cashflow per share (this is the year 0 value), prevent division by zero\n",
    "        fcf = get_yf('freeCashflow', symbol)\n",
    "        shares = get_yf('sharesOutstanding', symbol)\n",
    "        self.fcf_0 = fcf / shares if shares else 0\n",
    "        \n",
    "        self.eps = get_yf('forwardEps', symbol) \n",
    "        self.div = get_yf('dividendRate', symbol)\n",
    "    \n",
    "    def get_two_stage_model(self, cf, years, g_hi, g_lo):\n",
    "        \"\"\"Return a dataframe with the two-stage growth model discounted cashflow calculations.\n",
    "           Years should be the number of high-growth years expected, before growth slows down.\n",
    "           Also, return the NPV, which is the estimated stock price, as a second output.\"\"\"\n",
    "        # Get the current year. Create list of years and dataframe for two-stage growth model\n",
    "        current_year = datetime.datetime.now().year\n",
    "        year_list = [current_year + i for i in range(years + 1)]\n",
    "\n",
    "        # Create list of cashflows, compounded annually by the high-growth rate\n",
    "        cf_list = [cf * (1 + g_hi) ** year \n",
    "                   for year in range(years + 1)]\n",
    "        \n",
    "        # Terminal Value Formula: (Final Dividend * (1 + Low Growth Rate)) / (Discount Rate - Low Growth Rate)\n",
    "        tv = ((cf_list[years] * (1 + g_lo)) / (self.discount_rate - g_lo))\n",
    "        \n",
    "        # Calculate terminal value and add it to the final cashflow\n",
    "        cf_list[years] = cf_list[years] + tv\n",
    "        \n",
    "        # Create list of discounted cashflows based on year and discount rate we previously calculated with CAPM\n",
    "        pv_list = [cf_list[year] / ((1 + self.discount_rate) ** year) \n",
    "                   for year in range(years + 1)]\n",
    "        \n",
    "        # Build the DataFrame\n",
    "        df_model = pd.DataFrame({'Year': year_list,\n",
    "                                 'Cashflow': cf_list,\n",
    "                                 'Present Value': pv_list})\n",
    "        \n",
    "        # Return the dataframe and the NPV in a tuple\n",
    "        npv = sum(df_model['Present Value'])\n",
    "        return (df_model, npv)\n",
    "\n",
    "    def get_all_models(self, years, g_hi, g_lo):\n",
    "        \"\"\"Print all three models and their NPV outputs, using FCF, EPS, and DIV\"\"\"\n",
    "        # Iterate over all three cashflow types\n",
    "        for name, cf in zip(['DIV', 'EPS', 'FCF'], [self.div, self.eps, self.fcf_0 * (1 + g_hi)]):\n",
    "            df, npv = self.get_two_stage_model(cf, years, g_hi, g_lo)\n",
    "\n",
    "            print(name + ':')\n",
    "            print(df)\n",
    "            print()\n",
    "            print(f\"Predicted Stock Price: ${npv: .2f}\")\n",
    "            print()\n",
    "            \n",
    "        # Print current market price, for reference to the models\n",
    "        print()\n",
    "        print(f\"Current Stock Price: ${self.price: .2f}\") "
   ]
  },
  {
   "cell_type": "code",
   "execution_count": 39,
   "id": "b5a4a8da-7cac-4d27-a14d-6ab3e1ef749e",
   "metadata": {},
   "outputs": [
    {
     "name": "stdout",
     "output_type": "stream",
     "text": [
      "   Year   Cashflow  Present Value\n",
      "0  2025   1.720000       1.720000\n",
      "1  2026   1.771600       1.651162\n",
      "2  2027   1.824748       1.585079\n",
      "3  2028  34.803813      28.177261 \n",
      " \n",
      "Predicted Stock Price: $ 33.13\n"
     ]
    }
   ],
   "source": [
    "myStock = Stock(\"PFE\", Rf, Rm)\n",
    "years = 3\n",
    "g_hi = 0.03\n",
    "g_lo = 0.015\n",
    "\n",
    "df, npv = myStock.get_two_stage_model(myStock.div, years, g_hi, g_lo)\n",
    "print(f\"{df} \\n \\nPredicted Stock Price: ${npv: .2f}\")"
   ]
  },
  {
   "cell_type": "markdown",
   "id": "5da44dda-0562-4010-81a2-f2b13d1861f1",
   "metadata": {},
   "source": [
    "### We can quickly use EPS or FCF to do the same analysis, which is super awesome."
   ]
  },
  {
   "cell_type": "code",
   "execution_count": 40,
   "id": "f78f80eb-52cc-4cac-a177-c97233700903",
   "metadata": {},
   "outputs": [
    {
     "name": "stdout",
     "output_type": "stream",
     "text": [
      "   Year   Cashflow  Present Value\n",
      "0  2025   2.930000       2.930000\n",
      "1  2026   3.017900       2.812735\n",
      "2  2027   3.108437       2.700163\n",
      "3  2028  59.287891      47.999636 \n",
      " \n",
      "Predicted Stock Price: $ 56.44\n"
     ]
    }
   ],
   "source": [
    "df, npv = myStock.get_two_stage_model(myStock.eps, years, g_hi, g_lo)\n",
    "print(f\"{df} \\n \\nPredicted Stock Price: ${npv: .2f}\")"
   ]
  },
  {
   "cell_type": "markdown",
   "id": "b3ebc3c3-6651-4037-bb4a-3cb6728335c8",
   "metadata": {},
   "source": [
    "### Notice we have to multiply FCF by 1 plus the high-growth rate to make it **forward** FCF per share"
   ]
  },
  {
   "cell_type": "code",
   "execution_count": 41,
   "id": "43821242-5cdc-4158-846f-4435c8bc42af",
   "metadata": {},
   "outputs": [
    {
     "name": "stdout",
     "output_type": "stream",
     "text": [
      "   Year   Cashflow  Present Value\n",
      "0  2025   2.901837       2.901837\n",
      "1  2026   2.988892       2.785699\n",
      "2  2027   3.078559       2.674209\n",
      "3  2028  58.718016      47.538263 \n",
      " \n",
      "Predicted Stock Price: $ 55.90\n"
     ]
    }
   ],
   "source": [
    "fcf = myStock.fcf_0 * (1 + g_hi)\n",
    "\n",
    "df, npv = myStock.get_two_stage_model(fcf, years, g_hi, g_lo)\n",
    "print(f\"{df} \\n \\nPredicted Stock Price: ${npv: .2f}\")"
   ]
  },
  {
   "cell_type": "markdown",
   "id": "b578e74d-78ca-4144-8ecd-72251dc7f37c",
   "metadata": {},
   "source": [
    "### Notice that the estimates using FCF and EPS are much higher than the esimate using Dividends"
   ]
  },
  {
   "cell_type": "markdown",
   "id": "5fc650e9-fe8e-4d98-b0c1-5979a0c672a0",
   "metadata": {},
   "source": [
    "## We can also use the 'get all models' method to return all three models in one command"
   ]
  },
  {
   "cell_type": "code",
   "execution_count": 42,
   "id": "361d7b09-4617-4453-9f57-864fc6c52f91",
   "metadata": {},
   "outputs": [
    {
     "name": "stdout",
     "output_type": "stream",
     "text": [
      "DIV:\n",
      "   Year   Cashflow  Present Value\n",
      "0  2025   1.720000       1.720000\n",
      "1  2026   1.771600       1.651162\n",
      "2  2027   1.824748       1.585079\n",
      "3  2028  34.803813      28.177261\n",
      "\n",
      "Predicted Stock Price: $ 33.13\n",
      "\n",
      "EPS:\n",
      "   Year   Cashflow  Present Value\n",
      "0  2025   2.930000       2.930000\n",
      "1  2026   3.017900       2.812735\n",
      "2  2027   3.108437       2.700163\n",
      "3  2028  59.287891      47.999636\n",
      "\n",
      "Predicted Stock Price: $ 56.44\n",
      "\n",
      "FCF:\n",
      "   Year   Cashflow  Present Value\n",
      "0  2025   2.901837       2.901837\n",
      "1  2026   2.988892       2.785699\n",
      "2  2027   3.078559       2.674209\n",
      "3  2028  58.718016      47.538263\n",
      "\n",
      "Predicted Stock Price: $ 55.90\n",
      "\n",
      "\n",
      "Current Stock Price: $ 27.37\n"
     ]
    }
   ],
   "source": [
    "myStock.get_all_models(years, g_hi, g_lo)"
   ]
  },
  {
   "cell_type": "markdown",
   "id": "dbd2b6cf-134a-46f9-956a-aa3a71d1cdbe",
   "metadata": {},
   "source": [
    "### We can also get predictions for multiple symbols"
   ]
  },
  {
   "cell_type": "code",
   "execution_count": 43,
   "id": "81cd61e3-8909-4c67-888b-83ac7d8d234e",
   "metadata": {},
   "outputs": [
    {
     "name": "stdout",
     "output_type": "stream",
     "text": [
      "GIS:\n",
      "DIV Prediction: $ 98.48\n",
      "EPS Prediction: $ 189.70\n",
      "FCF Prediction: $ 165.55\n",
      "\n",
      "PFE:\n",
      "DIV Prediction: $ 33.13\n",
      "EPS Prediction: $ 56.44\n",
      "FCF Prediction: $ 55.90\n",
      "\n",
      "TSLA:\n",
      "DIV Prediction: $ 0.00\n",
      "EPS Prediction: $ 24.52\n",
      "FCF Prediction: $ 3.28\n",
      "\n",
      "NVDA:\n",
      "DIV Prediction: $ 0.30\n",
      "EPS Prediction: $ 30.79\n",
      "FCF Prediction: $ 16.58\n",
      "\n",
      "BAC:\n",
      "DIV Prediction: $ 11.59\n",
      "EPS Prediction: $ 37.88\n",
      "FCF Prediction: $ 0.00\n",
      "\n",
      "JPM:\n",
      "DIV Prediction: $ 69.49\n",
      "EPS Prediction: $ 193.88\n",
      "FCF Prediction: $ 0.00\n",
      "\n"
     ]
    }
   ],
   "source": [
    "for symbol in [\"GIS\", \"PFE\", \"TSLA\", \"NVDA\", \"BAC\", \"JPM\"]:\n",
    "    stock = Stock(symbol, Rf, Rm)\n",
    "    fcf = stock.fcf_0 * (1 + g_hi)\n",
    "    \n",
    "    df, npv = stock.get_two_stage_model(stock.div, years, g_hi, g_lo)\n",
    "\n",
    "    print(symbol + \":\")\n",
    "    print(f\"DIV Prediction: ${npv: .2f}\")\n",
    "\n",
    "    df, npv = stock.get_two_stage_model(stock.eps, years, g_hi, g_lo)\n",
    "    print(f\"EPS Prediction: ${npv: .2f}\")\n",
    "\n",
    "    df, npv = stock.get_two_stage_model(fcf, years, g_hi, g_lo)\n",
    "    print(f\"FCF Prediction: ${npv: .2f}\")    \n",
    "    print()"
   ]
  },
  {
   "cell_type": "markdown",
   "id": "d3be6f2b-4d9a-4ffd-b9b8-c66038e2c0c5",
   "metadata": {},
   "source": [
    "* Of course these results are meaningless, since the growth rates are all the same, which is unrealistic\n",
    "* For example, it's highly unlikely Tesla or Nvidia would grow at only 1.5% to 3% per year! They should grow faster.\n",
    "* Likewise, General Mills (GIS) should probably grow slower than that. For example the market is pricing in -1% to 1% growth rates"
   ]
  },
  {
   "cell_type": "code",
   "execution_count": 44,
   "id": "7aadd68d-a59a-47d4-8dad-a6e9fed1b922",
   "metadata": {},
   "outputs": [
    {
     "name": "stdout",
     "output_type": "stream",
     "text": [
      "   Year   Cashflow  Present Value\n",
      "0  2025   2.440000       2.440000\n",
      "1  2026   2.464400       2.365255\n",
      "2  2027   2.489044       2.292800\n",
      "3  2028  50.451778      44.604322\n",
      "\n",
      "GIS Predicted Price: $ 51.70\n",
      "GIS Current Price: $ 50.36\n"
     ]
    }
   ],
   "source": [
    "stock = Stock(\"GIS\", Rf, Rm)\n",
    "df, npv = stock.get_two_stage_model(stock.div, years, 0.01, -0.01)\n",
    "print(df)\n",
    "print()\n",
    "print(f\"{stock.symbol} Predicted Price: ${npv: .2f}\")\n",
    "print(f\"{stock.symbol} Current Price: ${stock.price: .2f}\")"
   ]
  },
  {
   "cell_type": "markdown",
   "id": "1173278d-5221-4c23-b6d1-153faa6fe26e",
   "metadata": {},
   "source": [
    "# So now, let's explore how to estimate growth rates using financial data\n",
    "* First, we'll pull the income statement\n",
    "* It only has a few years of data\n",
    "* But it's enough to estimate intermediate-term growth rates"
   ]
  },
  {
   "cell_type": "code",
   "execution_count": 45,
   "id": "f8153de5-2930-44be-8332-e85c13891f5f",
   "metadata": {},
   "outputs": [
    {
     "data": {
      "text/html": [
       "<div>\n",
       "<style scoped>\n",
       "    .dataframe tbody tr th:only-of-type {\n",
       "        vertical-align: middle;\n",
       "    }\n",
       "\n",
       "    .dataframe tbody tr th {\n",
       "        vertical-align: top;\n",
       "    }\n",
       "\n",
       "    .dataframe thead th {\n",
       "        text-align: right;\n",
       "    }\n",
       "</style>\n",
       "<table border=\"1\" class=\"dataframe\">\n",
       "  <thead>\n",
       "    <tr style=\"text-align: right;\">\n",
       "      <th></th>\n",
       "      <th>2024-12-31</th>\n",
       "      <th>2023-12-31</th>\n",
       "      <th>2022-12-31</th>\n",
       "      <th>2021-12-31</th>\n",
       "      <th>2020-12-31</th>\n",
       "    </tr>\n",
       "  </thead>\n",
       "  <tbody>\n",
       "    <tr>\n",
       "      <th>Tax Effect Of Unusual Items</th>\n",
       "      <td>-9.399600e+08</td>\n",
       "      <td>-8.721300e+08</td>\n",
       "      <td>-2.938560e+08</td>\n",
       "      <td>2.264800e+07</td>\n",
       "      <td>NaN</td>\n",
       "    </tr>\n",
       "    <tr>\n",
       "      <th>Tax Rate For Calcs</th>\n",
       "      <td>2.100000e-01</td>\n",
       "      <td>2.100000e-01</td>\n",
       "      <td>9.600000e-02</td>\n",
       "      <td>7.600000e-02</td>\n",
       "      <td>NaN</td>\n",
       "    </tr>\n",
       "    <tr>\n",
       "      <th>Normalized EBITDA</th>\n",
       "      <td>2.260300e+10</td>\n",
       "      <td>1.371000e+10</td>\n",
       "      <td>4.409200e+10</td>\n",
       "      <td>3.049500e+10</td>\n",
       "      <td>NaN</td>\n",
       "    </tr>\n",
       "    <tr>\n",
       "      <th>Total Unusual Items</th>\n",
       "      <td>-4.476000e+09</td>\n",
       "      <td>-4.153000e+09</td>\n",
       "      <td>-3.061000e+09</td>\n",
       "      <td>2.980000e+08</td>\n",
       "      <td>NaN</td>\n",
       "    </tr>\n",
       "    <tr>\n",
       "      <th>Total Unusual Items Excluding Goodwill</th>\n",
       "      <td>-4.476000e+09</td>\n",
       "      <td>-4.153000e+09</td>\n",
       "      <td>-3.061000e+09</td>\n",
       "      <td>2.980000e+08</td>\n",
       "      <td>NaN</td>\n",
       "    </tr>\n",
       "    <tr>\n",
       "      <th>Net Income From Continuing Operation Net Minority Interest</th>\n",
       "      <td>8.020000e+09</td>\n",
       "      <td>2.134000e+09</td>\n",
       "      <td>3.136600e+10</td>\n",
       "      <td>2.241300e+10</td>\n",
       "      <td>NaN</td>\n",
       "    </tr>\n",
       "    <tr>\n",
       "      <th>Reconciled Depreciation</th>\n",
       "      <td>7.013000e+09</td>\n",
       "      <td>6.290000e+09</td>\n",
       "      <td>5.064000e+09</td>\n",
       "      <td>5.191000e+09</td>\n",
       "      <td>NaN</td>\n",
       "    </tr>\n",
       "    <tr>\n",
       "      <th>Reconciled Cost Of Revenue</th>\n",
       "      <td>1.612400e+10</td>\n",
       "      <td>2.339700e+10</td>\n",
       "      <td>3.288900e+10</td>\n",
       "      <td>2.933000e+10</td>\n",
       "      <td>NaN</td>\n",
       "    </tr>\n",
       "    <tr>\n",
       "      <th>EBITDA</th>\n",
       "      <td>1.812700e+10</td>\n",
       "      <td>9.557000e+09</td>\n",
       "      <td>4.103100e+10</td>\n",
       "      <td>3.079300e+10</td>\n",
       "      <td>NaN</td>\n",
       "    </tr>\n",
       "    <tr>\n",
       "      <th>EBIT</th>\n",
       "      <td>1.111400e+10</td>\n",
       "      <td>3.267000e+09</td>\n",
       "      <td>3.596700e+10</td>\n",
       "      <td>2.560200e+10</td>\n",
       "      <td>NaN</td>\n",
       "    </tr>\n",
       "    <tr>\n",
       "      <th>Net Interest Income</th>\n",
       "      <td>-2.546000e+09</td>\n",
       "      <td>-5.850000e+08</td>\n",
       "      <td>-9.870000e+08</td>\n",
       "      <td>-1.255000e+09</td>\n",
       "      <td>NaN</td>\n",
       "    </tr>\n",
       "    <tr>\n",
       "      <th>Interest Expense</th>\n",
       "      <td>3.091000e+09</td>\n",
       "      <td>2.209000e+09</td>\n",
       "      <td>1.238000e+09</td>\n",
       "      <td>1.291000e+09</td>\n",
       "      <td>NaN</td>\n",
       "    </tr>\n",
       "    <tr>\n",
       "      <th>Interest Income</th>\n",
       "      <td>5.450000e+08</td>\n",
       "      <td>1.624000e+09</td>\n",
       "      <td>2.510000e+08</td>\n",
       "      <td>3.600000e+07</td>\n",
       "      <td>NaN</td>\n",
       "    </tr>\n",
       "    <tr>\n",
       "      <th>Normalized Income</th>\n",
       "      <td>1.155604e+10</td>\n",
       "      <td>5.414870e+09</td>\n",
       "      <td>3.413314e+10</td>\n",
       "      <td>2.213765e+10</td>\n",
       "      <td>NaN</td>\n",
       "    </tr>\n",
       "    <tr>\n",
       "      <th>Net Income From Continuing And Discontinued Operation</th>\n",
       "      <td>8.031000e+09</td>\n",
       "      <td>2.119000e+09</td>\n",
       "      <td>3.137200e+10</td>\n",
       "      <td>2.197900e+10</td>\n",
       "      <td>NaN</td>\n",
       "    </tr>\n",
       "    <tr>\n",
       "      <th>Total Expenses</th>\n",
       "      <td>4.879700e+10</td>\n",
       "      <td>5.533100e+10</td>\n",
       "      <td>6.401100e+10</td>\n",
       "      <td>6.105300e+10</td>\n",
       "      <td>NaN</td>\n",
       "    </tr>\n",
       "    <tr>\n",
       "      <th>Diluted Average Shares</th>\n",
       "      <td>5.700000e+09</td>\n",
       "      <td>5.709000e+09</td>\n",
       "      <td>5.733000e+09</td>\n",
       "      <td>5.708000e+09</td>\n",
       "      <td>NaN</td>\n",
       "    </tr>\n",
       "    <tr>\n",
       "      <th>Basic Average Shares</th>\n",
       "      <td>5.664000e+09</td>\n",
       "      <td>5.643000e+09</td>\n",
       "      <td>5.608000e+09</td>\n",
       "      <td>5.601000e+09</td>\n",
       "      <td>NaN</td>\n",
       "    </tr>\n",
       "    <tr>\n",
       "      <th>Diluted EPS</th>\n",
       "      <td>1.410000e+00</td>\n",
       "      <td>3.700000e-01</td>\n",
       "      <td>5.470000e+00</td>\n",
       "      <td>3.850000e+00</td>\n",
       "      <td>NaN</td>\n",
       "    </tr>\n",
       "    <tr>\n",
       "      <th>Basic EPS</th>\n",
       "      <td>1.420000e+00</td>\n",
       "      <td>3.800000e-01</td>\n",
       "      <td>5.590000e+00</td>\n",
       "      <td>3.920000e+00</td>\n",
       "      <td>NaN</td>\n",
       "    </tr>\n",
       "    <tr>\n",
       "      <th>Diluted NI Availto Com Stockholders</th>\n",
       "      <td>8.031000e+09</td>\n",
       "      <td>2.119000e+09</td>\n",
       "      <td>3.137200e+10</td>\n",
       "      <td>2.197900e+10</td>\n",
       "      <td>NaN</td>\n",
       "    </tr>\n",
       "    <tr>\n",
       "      <th>Net Income Common Stockholders</th>\n",
       "      <td>8.031000e+09</td>\n",
       "      <td>2.119000e+09</td>\n",
       "      <td>3.137200e+10</td>\n",
       "      <td>2.197900e+10</td>\n",
       "      <td>NaN</td>\n",
       "    </tr>\n",
       "    <tr>\n",
       "      <th>Net Income</th>\n",
       "      <td>8.031000e+09</td>\n",
       "      <td>2.119000e+09</td>\n",
       "      <td>3.137200e+10</td>\n",
       "      <td>2.197900e+10</td>\n",
       "      <td>NaN</td>\n",
       "    </tr>\n",
       "    <tr>\n",
       "      <th>Minority Interests</th>\n",
       "      <td>-3.100000e+07</td>\n",
       "      <td>-3.900000e+07</td>\n",
       "      <td>-3.500000e+07</td>\n",
       "      <td>-4.500000e+07</td>\n",
       "      <td>NaN</td>\n",
       "    </tr>\n",
       "    <tr>\n",
       "      <th>Net Income Including Noncontrolling Interests</th>\n",
       "      <td>8.062000e+09</td>\n",
       "      <td>2.158000e+09</td>\n",
       "      <td>3.140700e+10</td>\n",
       "      <td>2.202500e+10</td>\n",
       "      <td>NaN</td>\n",
       "    </tr>\n",
       "    <tr>\n",
       "      <th>Net Income Discontinuous Operations</th>\n",
       "      <td>1.100000e+07</td>\n",
       "      <td>-1.500000e+07</td>\n",
       "      <td>6.000000e+06</td>\n",
       "      <td>-4.340000e+08</td>\n",
       "      <td>NaN</td>\n",
       "    </tr>\n",
       "    <tr>\n",
       "      <th>Net Income Continuous Operations</th>\n",
       "      <td>8.051000e+09</td>\n",
       "      <td>2.172000e+09</td>\n",
       "      <td>3.140100e+10</td>\n",
       "      <td>2.245900e+10</td>\n",
       "      <td>NaN</td>\n",
       "    </tr>\n",
       "    <tr>\n",
       "      <th>Tax Provision</th>\n",
       "      <td>-2.800000e+07</td>\n",
       "      <td>-1.115000e+09</td>\n",
       "      <td>3.328000e+09</td>\n",
       "      <td>1.852000e+09</td>\n",
       "      <td>NaN</td>\n",
       "    </tr>\n",
       "    <tr>\n",
       "      <th>Pretax Income</th>\n",
       "      <td>8.023000e+09</td>\n",
       "      <td>1.058000e+09</td>\n",
       "      <td>3.472900e+10</td>\n",
       "      <td>2.431100e+10</td>\n",
       "      <td>NaN</td>\n",
       "    </tr>\n",
       "    <tr>\n",
       "      <th>Other Income Expense</th>\n",
       "      <td>-4.261000e+09</td>\n",
       "      <td>-2.580000e+09</td>\n",
       "      <td>-1.447000e+09</td>\n",
       "      <td>5.331000e+09</td>\n",
       "      <td>NaN</td>\n",
       "    </tr>\n",
       "    <tr>\n",
       "      <th>Other Non Operating Income Expenses</th>\n",
       "      <td>1.130000e+08</td>\n",
       "      <td>1.068000e+09</td>\n",
       "      <td>1.178000e+09</td>\n",
       "      <td>4.562000e+09</td>\n",
       "      <td>NaN</td>\n",
       "    </tr>\n",
       "    <tr>\n",
       "      <th>Special Income Charges</th>\n",
       "      <td>-5.756000e+09</td>\n",
       "      <td>-6.219000e+09</td>\n",
       "      <td>-2.102000e+09</td>\n",
       "      <td>-1.212000e+09</td>\n",
       "      <td>NaN</td>\n",
       "    </tr>\n",
       "    <tr>\n",
       "      <th>Gain On Sale Of Ppe</th>\n",
       "      <td>NaN</td>\n",
       "      <td>NaN</td>\n",
       "      <td>0.000000e+00</td>\n",
       "      <td>9.900000e+07</td>\n",
       "      <td>-237000000.0</td>\n",
       "    </tr>\n",
       "    <tr>\n",
       "      <th>Gain On Sale Of Business</th>\n",
       "      <td>5.250000e+08</td>\n",
       "      <td>2.220000e+08</td>\n",
       "      <td>NaN</td>\n",
       "      <td>NaN</td>\n",
       "      <td>NaN</td>\n",
       "    </tr>\n",
       "    <tr>\n",
       "      <th>Other Special Charges</th>\n",
       "      <td>5.670000e+08</td>\n",
       "      <td>4.740000e+08</td>\n",
       "      <td>2.300000e+08</td>\n",
       "      <td>1.820000e+08</td>\n",
       "      <td>NaN</td>\n",
       "    </tr>\n",
       "    <tr>\n",
       "      <th>Write Off</th>\n",
       "      <td>4.320000e+08</td>\n",
       "      <td>2.270000e+08</td>\n",
       "      <td>5.200000e+07</td>\n",
       "      <td>5.300000e+07</td>\n",
       "      <td>NaN</td>\n",
       "    </tr>\n",
       "    <tr>\n",
       "      <th>Impairment Of Capital Assets</th>\n",
       "      <td>3.295000e+09</td>\n",
       "      <td>3.024000e+09</td>\n",
       "      <td>4.210000e+08</td>\n",
       "      <td>8.600000e+07</td>\n",
       "      <td>NaN</td>\n",
       "    </tr>\n",
       "    <tr>\n",
       "      <th>Restructuring And Mergern Acquisition</th>\n",
       "      <td>2.419000e+09</td>\n",
       "      <td>2.943000e+09</td>\n",
       "      <td>1.451000e+09</td>\n",
       "      <td>9.440000e+08</td>\n",
       "      <td>NaN</td>\n",
       "    </tr>\n",
       "    <tr>\n",
       "      <th>Earnings From Equity Interest</th>\n",
       "      <td>1.020000e+08</td>\n",
       "      <td>5.050000e+08</td>\n",
       "      <td>4.360000e+08</td>\n",
       "      <td>4.710000e+08</td>\n",
       "      <td>NaN</td>\n",
       "    </tr>\n",
       "    <tr>\n",
       "      <th>Gain On Sale Of Security</th>\n",
       "      <td>1.280000e+09</td>\n",
       "      <td>2.066000e+09</td>\n",
       "      <td>-9.590000e+08</td>\n",
       "      <td>1.510000e+09</td>\n",
       "      <td>NaN</td>\n",
       "    </tr>\n",
       "    <tr>\n",
       "      <th>Net Non Operating Interest Income Expense</th>\n",
       "      <td>-2.546000e+09</td>\n",
       "      <td>-5.850000e+08</td>\n",
       "      <td>-9.870000e+08</td>\n",
       "      <td>-1.255000e+09</td>\n",
       "      <td>NaN</td>\n",
       "    </tr>\n",
       "    <tr>\n",
       "      <th>Interest Expense Non Operating</th>\n",
       "      <td>3.091000e+09</td>\n",
       "      <td>2.209000e+09</td>\n",
       "      <td>1.238000e+09</td>\n",
       "      <td>1.291000e+09</td>\n",
       "      <td>NaN</td>\n",
       "    </tr>\n",
       "    <tr>\n",
       "      <th>Interest Income Non Operating</th>\n",
       "      <td>5.450000e+08</td>\n",
       "      <td>1.624000e+09</td>\n",
       "      <td>2.510000e+08</td>\n",
       "      <td>3.600000e+07</td>\n",
       "      <td>NaN</td>\n",
       "    </tr>\n",
       "    <tr>\n",
       "      <th>Operating Income</th>\n",
       "      <td>1.483000e+10</td>\n",
       "      <td>4.223000e+09</td>\n",
       "      <td>3.716400e+10</td>\n",
       "      <td>2.023500e+10</td>\n",
       "      <td>NaN</td>\n",
       "    </tr>\n",
       "    <tr>\n",
       "      <th>Operating Expense</th>\n",
       "      <td>3.094600e+10</td>\n",
       "      <td>3.037700e+10</td>\n",
       "      <td>2.966700e+10</td>\n",
       "      <td>3.023200e+10</td>\n",
       "      <td>NaN</td>\n",
       "    </tr>\n",
       "    <tr>\n",
       "      <th>Depreciation Amortization Depletion Income Statement</th>\n",
       "      <td>5.286000e+09</td>\n",
       "      <td>4.733000e+09</td>\n",
       "      <td>3.609000e+09</td>\n",
       "      <td>3.700000e+09</td>\n",
       "      <td>NaN</td>\n",
       "    </tr>\n",
       "    <tr>\n",
       "      <th>Depreciation And Amortization In Income Statement</th>\n",
       "      <td>5.286000e+09</td>\n",
       "      <td>4.733000e+09</td>\n",
       "      <td>3.609000e+09</td>\n",
       "      <td>3.700000e+09</td>\n",
       "      <td>NaN</td>\n",
       "    </tr>\n",
       "    <tr>\n",
       "      <th>Amortization</th>\n",
       "      <td>5.286000e+09</td>\n",
       "      <td>4.733000e+09</td>\n",
       "      <td>3.609000e+09</td>\n",
       "      <td>3.700000e+09</td>\n",
       "      <td>NaN</td>\n",
       "    </tr>\n",
       "    <tr>\n",
       "      <th>Amortization Of Intangibles Income Statement</th>\n",
       "      <td>5.286000e+09</td>\n",
       "      <td>4.733000e+09</td>\n",
       "      <td>3.609000e+09</td>\n",
       "      <td>3.700000e+09</td>\n",
       "      <td>NaN</td>\n",
       "    </tr>\n",
       "    <tr>\n",
       "      <th>Research And Development</th>\n",
       "      <td>1.093000e+10</td>\n",
       "      <td>1.087300e+10</td>\n",
       "      <td>1.238100e+10</td>\n",
       "      <td>1.382900e+10</td>\n",
       "      <td>NaN</td>\n",
       "    </tr>\n",
       "    <tr>\n",
       "      <th>Selling General And Administration</th>\n",
       "      <td>1.473000e+10</td>\n",
       "      <td>1.477100e+10</td>\n",
       "      <td>1.367700e+10</td>\n",
       "      <td>1.270300e+10</td>\n",
       "      <td>NaN</td>\n",
       "    </tr>\n",
       "    <tr>\n",
       "      <th>Gross Profit</th>\n",
       "      <td>4.577600e+10</td>\n",
       "      <td>3.460000e+10</td>\n",
       "      <td>6.683100e+10</td>\n",
       "      <td>5.046700e+10</td>\n",
       "      <td>NaN</td>\n",
       "    </tr>\n",
       "    <tr>\n",
       "      <th>Cost Of Revenue</th>\n",
       "      <td>1.785100e+10</td>\n",
       "      <td>2.495400e+10</td>\n",
       "      <td>3.434400e+10</td>\n",
       "      <td>3.082100e+10</td>\n",
       "      <td>NaN</td>\n",
       "    </tr>\n",
       "    <tr>\n",
       "      <th>Total Revenue</th>\n",
       "      <td>6.362700e+10</td>\n",
       "      <td>5.955400e+10</td>\n",
       "      <td>1.011750e+11</td>\n",
       "      <td>8.128800e+10</td>\n",
       "      <td>NaN</td>\n",
       "    </tr>\n",
       "    <tr>\n",
       "      <th>Operating Revenue</th>\n",
       "      <td>6.362700e+10</td>\n",
       "      <td>5.955400e+10</td>\n",
       "      <td>1.011750e+11</td>\n",
       "      <td>8.128800e+10</td>\n",
       "      <td>NaN</td>\n",
       "    </tr>\n",
       "  </tbody>\n",
       "</table>\n",
       "</div>"
      ],
      "text/plain": [
       "                                                      2024-12-31  \\\n",
       "Tax Effect Of Unusual Items                        -9.399600e+08   \n",
       "Tax Rate For Calcs                                  2.100000e-01   \n",
       "Normalized EBITDA                                   2.260300e+10   \n",
       "Total Unusual Items                                -4.476000e+09   \n",
       "Total Unusual Items Excluding Goodwill             -4.476000e+09   \n",
       "Net Income From Continuing Operation Net Minori...  8.020000e+09   \n",
       "Reconciled Depreciation                             7.013000e+09   \n",
       "Reconciled Cost Of Revenue                          1.612400e+10   \n",
       "EBITDA                                              1.812700e+10   \n",
       "EBIT                                                1.111400e+10   \n",
       "Net Interest Income                                -2.546000e+09   \n",
       "Interest Expense                                    3.091000e+09   \n",
       "Interest Income                                     5.450000e+08   \n",
       "Normalized Income                                   1.155604e+10   \n",
       "Net Income From Continuing And Discontinued Ope...  8.031000e+09   \n",
       "Total Expenses                                      4.879700e+10   \n",
       "Diluted Average Shares                              5.700000e+09   \n",
       "Basic Average Shares                                5.664000e+09   \n",
       "Diluted EPS                                         1.410000e+00   \n",
       "Basic EPS                                           1.420000e+00   \n",
       "Diluted NI Availto Com Stockholders                 8.031000e+09   \n",
       "Net Income Common Stockholders                      8.031000e+09   \n",
       "Net Income                                          8.031000e+09   \n",
       "Minority Interests                                 -3.100000e+07   \n",
       "Net Income Including Noncontrolling Interests       8.062000e+09   \n",
       "Net Income Discontinuous Operations                 1.100000e+07   \n",
       "Net Income Continuous Operations                    8.051000e+09   \n",
       "Tax Provision                                      -2.800000e+07   \n",
       "Pretax Income                                       8.023000e+09   \n",
       "Other Income Expense                               -4.261000e+09   \n",
       "Other Non Operating Income Expenses                 1.130000e+08   \n",
       "Special Income Charges                             -5.756000e+09   \n",
       "Gain On Sale Of Ppe                                          NaN   \n",
       "Gain On Sale Of Business                            5.250000e+08   \n",
       "Other Special Charges                               5.670000e+08   \n",
       "Write Off                                           4.320000e+08   \n",
       "Impairment Of Capital Assets                        3.295000e+09   \n",
       "Restructuring And Mergern Acquisition               2.419000e+09   \n",
       "Earnings From Equity Interest                       1.020000e+08   \n",
       "Gain On Sale Of Security                            1.280000e+09   \n",
       "Net Non Operating Interest Income Expense          -2.546000e+09   \n",
       "Interest Expense Non Operating                      3.091000e+09   \n",
       "Interest Income Non Operating                       5.450000e+08   \n",
       "Operating Income                                    1.483000e+10   \n",
       "Operating Expense                                   3.094600e+10   \n",
       "Depreciation Amortization Depletion Income Stat...  5.286000e+09   \n",
       "Depreciation And Amortization In Income Statement   5.286000e+09   \n",
       "Amortization                                        5.286000e+09   \n",
       "Amortization Of Intangibles Income Statement        5.286000e+09   \n",
       "Research And Development                            1.093000e+10   \n",
       "Selling General And Administration                  1.473000e+10   \n",
       "Gross Profit                                        4.577600e+10   \n",
       "Cost Of Revenue                                     1.785100e+10   \n",
       "Total Revenue                                       6.362700e+10   \n",
       "Operating Revenue                                   6.362700e+10   \n",
       "\n",
       "                                                      2023-12-31  \\\n",
       "Tax Effect Of Unusual Items                        -8.721300e+08   \n",
       "Tax Rate For Calcs                                  2.100000e-01   \n",
       "Normalized EBITDA                                   1.371000e+10   \n",
       "Total Unusual Items                                -4.153000e+09   \n",
       "Total Unusual Items Excluding Goodwill             -4.153000e+09   \n",
       "Net Income From Continuing Operation Net Minori...  2.134000e+09   \n",
       "Reconciled Depreciation                             6.290000e+09   \n",
       "Reconciled Cost Of Revenue                          2.339700e+10   \n",
       "EBITDA                                              9.557000e+09   \n",
       "EBIT                                                3.267000e+09   \n",
       "Net Interest Income                                -5.850000e+08   \n",
       "Interest Expense                                    2.209000e+09   \n",
       "Interest Income                                     1.624000e+09   \n",
       "Normalized Income                                   5.414870e+09   \n",
       "Net Income From Continuing And Discontinued Ope...  2.119000e+09   \n",
       "Total Expenses                                      5.533100e+10   \n",
       "Diluted Average Shares                              5.709000e+09   \n",
       "Basic Average Shares                                5.643000e+09   \n",
       "Diluted EPS                                         3.700000e-01   \n",
       "Basic EPS                                           3.800000e-01   \n",
       "Diluted NI Availto Com Stockholders                 2.119000e+09   \n",
       "Net Income Common Stockholders                      2.119000e+09   \n",
       "Net Income                                          2.119000e+09   \n",
       "Minority Interests                                 -3.900000e+07   \n",
       "Net Income Including Noncontrolling Interests       2.158000e+09   \n",
       "Net Income Discontinuous Operations                -1.500000e+07   \n",
       "Net Income Continuous Operations                    2.172000e+09   \n",
       "Tax Provision                                      -1.115000e+09   \n",
       "Pretax Income                                       1.058000e+09   \n",
       "Other Income Expense                               -2.580000e+09   \n",
       "Other Non Operating Income Expenses                 1.068000e+09   \n",
       "Special Income Charges                             -6.219000e+09   \n",
       "Gain On Sale Of Ppe                                          NaN   \n",
       "Gain On Sale Of Business                            2.220000e+08   \n",
       "Other Special Charges                               4.740000e+08   \n",
       "Write Off                                           2.270000e+08   \n",
       "Impairment Of Capital Assets                        3.024000e+09   \n",
       "Restructuring And Mergern Acquisition               2.943000e+09   \n",
       "Earnings From Equity Interest                       5.050000e+08   \n",
       "Gain On Sale Of Security                            2.066000e+09   \n",
       "Net Non Operating Interest Income Expense          -5.850000e+08   \n",
       "Interest Expense Non Operating                      2.209000e+09   \n",
       "Interest Income Non Operating                       1.624000e+09   \n",
       "Operating Income                                    4.223000e+09   \n",
       "Operating Expense                                   3.037700e+10   \n",
       "Depreciation Amortization Depletion Income Stat...  4.733000e+09   \n",
       "Depreciation And Amortization In Income Statement   4.733000e+09   \n",
       "Amortization                                        4.733000e+09   \n",
       "Amortization Of Intangibles Income Statement        4.733000e+09   \n",
       "Research And Development                            1.087300e+10   \n",
       "Selling General And Administration                  1.477100e+10   \n",
       "Gross Profit                                        3.460000e+10   \n",
       "Cost Of Revenue                                     2.495400e+10   \n",
       "Total Revenue                                       5.955400e+10   \n",
       "Operating Revenue                                   5.955400e+10   \n",
       "\n",
       "                                                      2022-12-31  \\\n",
       "Tax Effect Of Unusual Items                        -2.938560e+08   \n",
       "Tax Rate For Calcs                                  9.600000e-02   \n",
       "Normalized EBITDA                                   4.409200e+10   \n",
       "Total Unusual Items                                -3.061000e+09   \n",
       "Total Unusual Items Excluding Goodwill             -3.061000e+09   \n",
       "Net Income From Continuing Operation Net Minori...  3.136600e+10   \n",
       "Reconciled Depreciation                             5.064000e+09   \n",
       "Reconciled Cost Of Revenue                          3.288900e+10   \n",
       "EBITDA                                              4.103100e+10   \n",
       "EBIT                                                3.596700e+10   \n",
       "Net Interest Income                                -9.870000e+08   \n",
       "Interest Expense                                    1.238000e+09   \n",
       "Interest Income                                     2.510000e+08   \n",
       "Normalized Income                                   3.413314e+10   \n",
       "Net Income From Continuing And Discontinued Ope...  3.137200e+10   \n",
       "Total Expenses                                      6.401100e+10   \n",
       "Diluted Average Shares                              5.733000e+09   \n",
       "Basic Average Shares                                5.608000e+09   \n",
       "Diluted EPS                                         5.470000e+00   \n",
       "Basic EPS                                           5.590000e+00   \n",
       "Diluted NI Availto Com Stockholders                 3.137200e+10   \n",
       "Net Income Common Stockholders                      3.137200e+10   \n",
       "Net Income                                          3.137200e+10   \n",
       "Minority Interests                                 -3.500000e+07   \n",
       "Net Income Including Noncontrolling Interests       3.140700e+10   \n",
       "Net Income Discontinuous Operations                 6.000000e+06   \n",
       "Net Income Continuous Operations                    3.140100e+10   \n",
       "Tax Provision                                       3.328000e+09   \n",
       "Pretax Income                                       3.472900e+10   \n",
       "Other Income Expense                               -1.447000e+09   \n",
       "Other Non Operating Income Expenses                 1.178000e+09   \n",
       "Special Income Charges                             -2.102000e+09   \n",
       "Gain On Sale Of Ppe                                 0.000000e+00   \n",
       "Gain On Sale Of Business                                     NaN   \n",
       "Other Special Charges                               2.300000e+08   \n",
       "Write Off                                           5.200000e+07   \n",
       "Impairment Of Capital Assets                        4.210000e+08   \n",
       "Restructuring And Mergern Acquisition               1.451000e+09   \n",
       "Earnings From Equity Interest                       4.360000e+08   \n",
       "Gain On Sale Of Security                           -9.590000e+08   \n",
       "Net Non Operating Interest Income Expense          -9.870000e+08   \n",
       "Interest Expense Non Operating                      1.238000e+09   \n",
       "Interest Income Non Operating                       2.510000e+08   \n",
       "Operating Income                                    3.716400e+10   \n",
       "Operating Expense                                   2.966700e+10   \n",
       "Depreciation Amortization Depletion Income Stat...  3.609000e+09   \n",
       "Depreciation And Amortization In Income Statement   3.609000e+09   \n",
       "Amortization                                        3.609000e+09   \n",
       "Amortization Of Intangibles Income Statement        3.609000e+09   \n",
       "Research And Development                            1.238100e+10   \n",
       "Selling General And Administration                  1.367700e+10   \n",
       "Gross Profit                                        6.683100e+10   \n",
       "Cost Of Revenue                                     3.434400e+10   \n",
       "Total Revenue                                       1.011750e+11   \n",
       "Operating Revenue                                   1.011750e+11   \n",
       "\n",
       "                                                      2021-12-31   2020-12-31  \n",
       "Tax Effect Of Unusual Items                         2.264800e+07          NaN  \n",
       "Tax Rate For Calcs                                  7.600000e-02          NaN  \n",
       "Normalized EBITDA                                   3.049500e+10          NaN  \n",
       "Total Unusual Items                                 2.980000e+08          NaN  \n",
       "Total Unusual Items Excluding Goodwill              2.980000e+08          NaN  \n",
       "Net Income From Continuing Operation Net Minori...  2.241300e+10          NaN  \n",
       "Reconciled Depreciation                             5.191000e+09          NaN  \n",
       "Reconciled Cost Of Revenue                          2.933000e+10          NaN  \n",
       "EBITDA                                              3.079300e+10          NaN  \n",
       "EBIT                                                2.560200e+10          NaN  \n",
       "Net Interest Income                                -1.255000e+09          NaN  \n",
       "Interest Expense                                    1.291000e+09          NaN  \n",
       "Interest Income                                     3.600000e+07          NaN  \n",
       "Normalized Income                                   2.213765e+10          NaN  \n",
       "Net Income From Continuing And Discontinued Ope...  2.197900e+10          NaN  \n",
       "Total Expenses                                      6.105300e+10          NaN  \n",
       "Diluted Average Shares                              5.708000e+09          NaN  \n",
       "Basic Average Shares                                5.601000e+09          NaN  \n",
       "Diluted EPS                                         3.850000e+00          NaN  \n",
       "Basic EPS                                           3.920000e+00          NaN  \n",
       "Diluted NI Availto Com Stockholders                 2.197900e+10          NaN  \n",
       "Net Income Common Stockholders                      2.197900e+10          NaN  \n",
       "Net Income                                          2.197900e+10          NaN  \n",
       "Minority Interests                                 -4.500000e+07          NaN  \n",
       "Net Income Including Noncontrolling Interests       2.202500e+10          NaN  \n",
       "Net Income Discontinuous Operations                -4.340000e+08          NaN  \n",
       "Net Income Continuous Operations                    2.245900e+10          NaN  \n",
       "Tax Provision                                       1.852000e+09          NaN  \n",
       "Pretax Income                                       2.431100e+10          NaN  \n",
       "Other Income Expense                                5.331000e+09          NaN  \n",
       "Other Non Operating Income Expenses                 4.562000e+09          NaN  \n",
       "Special Income Charges                             -1.212000e+09          NaN  \n",
       "Gain On Sale Of Ppe                                 9.900000e+07 -237000000.0  \n",
       "Gain On Sale Of Business                                     NaN          NaN  \n",
       "Other Special Charges                               1.820000e+08          NaN  \n",
       "Write Off                                           5.300000e+07          NaN  \n",
       "Impairment Of Capital Assets                        8.600000e+07          NaN  \n",
       "Restructuring And Mergern Acquisition               9.440000e+08          NaN  \n",
       "Earnings From Equity Interest                       4.710000e+08          NaN  \n",
       "Gain On Sale Of Security                            1.510000e+09          NaN  \n",
       "Net Non Operating Interest Income Expense          -1.255000e+09          NaN  \n",
       "Interest Expense Non Operating                      1.291000e+09          NaN  \n",
       "Interest Income Non Operating                       3.600000e+07          NaN  \n",
       "Operating Income                                    2.023500e+10          NaN  \n",
       "Operating Expense                                   3.023200e+10          NaN  \n",
       "Depreciation Amortization Depletion Income Stat...  3.700000e+09          NaN  \n",
       "Depreciation And Amortization In Income Statement   3.700000e+09          NaN  \n",
       "Amortization                                        3.700000e+09          NaN  \n",
       "Amortization Of Intangibles Income Statement        3.700000e+09          NaN  \n",
       "Research And Development                            1.382900e+10          NaN  \n",
       "Selling General And Administration                  1.270300e+10          NaN  \n",
       "Gross Profit                                        5.046700e+10          NaN  \n",
       "Cost Of Revenue                                     3.082100e+10          NaN  \n",
       "Total Revenue                                       8.128800e+10          NaN  \n",
       "Operating Revenue                                   8.128800e+10          NaN  "
      ]
     },
     "execution_count": 45,
     "metadata": {},
     "output_type": "execute_result"
    }
   ],
   "source": [
    "yf.Ticker('PFE').income_stmt"
   ]
  },
  {
   "cell_type": "markdown",
   "id": "aa64b531-8349-4b92-9fab-8ef244114293",
   "metadata": {},
   "source": [
    "### Now let's define a function that returns only net income and total revenue data"
   ]
  },
  {
   "cell_type": "code",
   "execution_count": 46,
   "id": "f57242a0-a2b5-4f7a-880f-f70a5f065cea",
   "metadata": {},
   "outputs": [],
   "source": [
    "def get_historical_tr_ni(symbol):\n",
    "    \"\"\"Get a stock's multi-year income statements from yfinance and \n",
    "       clean it up to show only the net income and total revenue\"\"\"\n",
    "    \n",
    "    df = yf.Ticker(symbol).income_stmt.loc[['Total Revenue', 'Net Income']]\n",
    "    \n",
    "    # Drop NaN column and transpose dataframe so that dates are rows, not columns\n",
    "    df = df.dropna(axis=1, how='any').T\n",
    "\n",
    "    # Reverse order of rows so older years are at top\n",
    "    df = df[::-1]\n",
    "    return df"
   ]
  },
  {
   "cell_type": "code",
   "execution_count": 47,
   "id": "1fc13811-9f29-4a93-82a0-6b925b6cbd51",
   "metadata": {},
   "outputs": [
    {
     "data": {
      "text/html": [
       "<div>\n",
       "<style scoped>\n",
       "    .dataframe tbody tr th:only-of-type {\n",
       "        vertical-align: middle;\n",
       "    }\n",
       "\n",
       "    .dataframe tbody tr th {\n",
       "        vertical-align: top;\n",
       "    }\n",
       "\n",
       "    .dataframe thead th {\n",
       "        text-align: right;\n",
       "    }\n",
       "</style>\n",
       "<table border=\"1\" class=\"dataframe\">\n",
       "  <thead>\n",
       "    <tr style=\"text-align: right;\">\n",
       "      <th></th>\n",
       "      <th>Total Revenue</th>\n",
       "      <th>Net Income</th>\n",
       "    </tr>\n",
       "  </thead>\n",
       "  <tbody>\n",
       "    <tr>\n",
       "      <th>2021-12-31</th>\n",
       "      <td>8.128800e+10</td>\n",
       "      <td>2.197900e+10</td>\n",
       "    </tr>\n",
       "    <tr>\n",
       "      <th>2022-12-31</th>\n",
       "      <td>1.011750e+11</td>\n",
       "      <td>3.137200e+10</td>\n",
       "    </tr>\n",
       "    <tr>\n",
       "      <th>2023-12-31</th>\n",
       "      <td>5.955400e+10</td>\n",
       "      <td>2.119000e+09</td>\n",
       "    </tr>\n",
       "    <tr>\n",
       "      <th>2024-12-31</th>\n",
       "      <td>6.362700e+10</td>\n",
       "      <td>8.031000e+09</td>\n",
       "    </tr>\n",
       "  </tbody>\n",
       "</table>\n",
       "</div>"
      ],
      "text/plain": [
       "            Total Revenue    Net Income\n",
       "2021-12-31   8.128800e+10  2.197900e+10\n",
       "2022-12-31   1.011750e+11  3.137200e+10\n",
       "2023-12-31   5.955400e+10  2.119000e+09\n",
       "2024-12-31   6.362700e+10  8.031000e+09"
      ]
     },
     "execution_count": 47,
     "metadata": {},
     "output_type": "execute_result"
    }
   ],
   "source": [
    "get_historical_tr_ni('PFE')"
   ]
  },
  {
   "cell_type": "markdown",
   "id": "0397fc09-b2a0-428e-9325-f1c660cab4cd",
   "metadata": {},
   "source": [
    "### Now we'll apply the CAGR formula we used previously on the S&P 500 \n",
    "* This examples calculates the annualized growth rate for total revenue and net income but you could use EBITDA or other IS items\n",
    "* As we did previously with daily return for the S&P 500, let's calculate the perecentage change, this time across years"
   ]
  },
  {
   "cell_type": "code",
   "execution_count": 48,
   "id": "9c4c6a84-56ec-490b-b8c5-6df8c314ff86",
   "metadata": {},
   "outputs": [
    {
     "data": {
      "text/html": [
       "<div>\n",
       "<style scoped>\n",
       "    .dataframe tbody tr th:only-of-type {\n",
       "        vertical-align: middle;\n",
       "    }\n",
       "\n",
       "    .dataframe tbody tr th {\n",
       "        vertical-align: top;\n",
       "    }\n",
       "\n",
       "    .dataframe thead th {\n",
       "        text-align: right;\n",
       "    }\n",
       "</style>\n",
       "<table border=\"1\" class=\"dataframe\">\n",
       "  <thead>\n",
       "    <tr style=\"text-align: right;\">\n",
       "      <th></th>\n",
       "      <th>Total Revenue</th>\n",
       "      <th>Net Income</th>\n",
       "      <th>RevPctChange</th>\n",
       "      <th>NIPctChange</th>\n",
       "    </tr>\n",
       "  </thead>\n",
       "  <tbody>\n",
       "    <tr>\n",
       "      <th>2022-12-31</th>\n",
       "      <td>1.011750e+11</td>\n",
       "      <td>3.137200e+10</td>\n",
       "      <td>0.244649</td>\n",
       "      <td>0.427362</td>\n",
       "    </tr>\n",
       "    <tr>\n",
       "      <th>2023-12-31</th>\n",
       "      <td>5.955400e+10</td>\n",
       "      <td>2.119000e+09</td>\n",
       "      <td>-0.411376</td>\n",
       "      <td>-0.932456</td>\n",
       "    </tr>\n",
       "    <tr>\n",
       "      <th>2024-12-31</th>\n",
       "      <td>6.362700e+10</td>\n",
       "      <td>8.031000e+09</td>\n",
       "      <td>0.068392</td>\n",
       "      <td>2.789995</td>\n",
       "    </tr>\n",
       "  </tbody>\n",
       "</table>\n",
       "</div>"
      ],
      "text/plain": [
       "            Total Revenue    Net Income  RevPctChange  NIPctChange\n",
       "2022-12-31   1.011750e+11  3.137200e+10      0.244649     0.427362\n",
       "2023-12-31   5.955400e+10  2.119000e+09     -0.411376    -0.932456\n",
       "2024-12-31   6.362700e+10  8.031000e+09      0.068392     2.789995"
      ]
     },
     "execution_count": 48,
     "metadata": {},
     "output_type": "execute_result"
    }
   ],
   "source": [
    "df = get_historical_tr_ni('PFE')\n",
    "\n",
    "df['RevPctChange'] = df['Total Revenue'].pct_change()\n",
    "df['NIPctChange'] = df['Net Income'].pct_change()\n",
    "\n",
    "# Drop NaN row\n",
    "df = df.dropna()\n",
    "df"
   ]
  },
  {
   "cell_type": "markdown",
   "id": "79563f46-d6a3-496b-8364-7d0ac4d573c2",
   "metadata": {},
   "source": [
    "### First we get the cumulative return, as we did before"
   ]
  },
  {
   "cell_type": "code",
   "execution_count": 49,
   "id": "b58b672b-df65-46a1-a9a7-ec7592ff78b9",
   "metadata": {},
   "outputs": [
    {
     "data": {
      "text/plain": [
       "(np.float64(0.7827354591083554), np.float64(0.36539423995632203))"
      ]
     },
     "execution_count": 49,
     "metadata": {},
     "output_type": "execute_result"
    }
   ],
   "source": [
    "cumulative_tr_return = (1 + df['RevPctChange']).prod()\n",
    "cumulative_ni_return = (1 + df['NIPctChange']).prod()\n",
    "cumulative_tr_return, cumulative_ni_return"
   ]
  },
  {
   "cell_type": "markdown",
   "id": "bf70df76-f200-4817-a2bd-6bc988fac20b",
   "metadata": {},
   "source": [
    "### Now we get the number of periods to analyze (which is the same as the number of rows in the dataframe)"
   ]
  },
  {
   "cell_type": "code",
   "execution_count": 50,
   "id": "e7e5d420-bc37-4c48-ad09-e95d095e6462",
   "metadata": {},
   "outputs": [
    {
     "data": {
      "text/plain": [
       "3"
      ]
     },
     "execution_count": 50,
     "metadata": {},
     "output_type": "execute_result"
    }
   ],
   "source": [
    "total_years = len(df) \n",
    "total_years"
   ]
  },
  {
   "cell_type": "markdown",
   "id": "b1f5d272-9cb0-42d8-b3ee-4f7fa6e99fc3",
   "metadata": {},
   "source": [
    "### Finally, calculate the annual return for TR and NI using the CAGR formula"
   ]
  },
  {
   "cell_type": "code",
   "execution_count": 51,
   "id": "8eb2fcb0-a43c-46b5-99b0-27252b710e7f",
   "metadata": {},
   "outputs": [
    {
     "data": {
      "text/plain": [
       "(np.float64(-0.07840876391375418), np.float64(-0.28508584012162597))"
      ]
     },
     "execution_count": 51,
     "metadata": {},
     "output_type": "execute_result"
    }
   ],
   "source": [
    "cagr_tr = (cumulative_tr_return)**(1/total_years) - 1\n",
    "cagr_ni = (cumulative_ni_return)**(1/total_years) - 1\n",
    "cagr_tr, cagr_ni"
   ]
  },
  {
   "cell_type": "markdown",
   "id": "d1aeff58-2a69-4b31-a756-1e9119831e80",
   "metadata": {},
   "source": [
    "### The entire function:"
   ]
  },
  {
   "cell_type": "code",
   "execution_count": 52,
   "id": "d07b5e5a-e709-4b0d-8a8e-a66ee518a19b",
   "metadata": {},
   "outputs": [],
   "source": [
    "def estimate_growth_rates(symbol):\n",
    "    \"\"\"Estimates a stock's growth rates based on annualized growth of total revenue \n",
    "       and net income, pulled from the company's historical income statements using yfinance\"\"\"\n",
    "    df = get_historical_tr_ni(symbol)\n",
    "\n",
    "    # Display only the columns we'll need for analysis\n",
    "    df['RevPctChange'] = df['Total Revenue'].pct_change()\n",
    "    df['NIPctChange'] = df['Net Income'].pct_change()\n",
    "    \n",
    "    # Drop NaN row\n",
    "    df = df.dropna()\n",
    "\n",
    "    # Calculate the cumulative return for TR and NI over the entire period\n",
    "    cumulative_tr_return = (1 + df['RevPctChange']).prod()\n",
    "    cumulative_ni_return = (1 + df['NIPctChange']).prod()\n",
    "\n",
    "    # Get total years which is the number of rows in the dataframe\n",
    "    total_years = len(df) \n",
    "\n",
    "    # Calculate CAGR for TR and NI\n",
    "    cagr_tr = (cumulative_tr_return)**(1/total_years) - 1\n",
    "    cagr_ni = (cumulative_ni_return)**(1/total_years) - 1\n",
    "    \n",
    "    return cagr_tr, cagr_ni"
   ]
  },
  {
   "cell_type": "code",
   "execution_count": 53,
   "id": "2d63a47a-bab7-45a3-9f6d-c6a9e4a54a68",
   "metadata": {},
   "outputs": [
    {
     "name": "stdout",
     "output_type": "stream",
     "text": [
      "Total Revenue Growth: -7.84%\n",
      "Net Income Growth: -28.51%\n"
     ]
    }
   ],
   "source": [
    "tr_growth, ni_growth = estimate_growth_rates(\"PFE\")\n",
    "print(f\"Total Revenue Growth: {tr_growth * 100: .2f}%\")\n",
    "print(f\"Net Income Growth: {ni_growth * 100: .2f}%\")   "
   ]
  },
  {
   "cell_type": "markdown",
   "id": "4bdfa829-4179-4410-b5e9-7decf176bffc",
   "metadata": {},
   "source": [
    "#### Pfizer has experienced negative growth in the wake of its pandemic boom, these might not be realistic rates moving forward\n",
    "* Let's examine GIS"
   ]
  },
  {
   "cell_type": "code",
   "execution_count": 54,
   "id": "0f062244-eb5a-49a6-bcb2-81a230388b8a",
   "metadata": {},
   "outputs": [
    {
     "name": "stdout",
     "output_type": "stream",
     "text": [
      "Total Revenue Growth:  0.86%\n",
      "Net Income Growth: -5.36%\n"
     ]
    }
   ],
   "source": [
    "tr_growth, ni_growth = estimate_growth_rates(\"GIS\")\n",
    "print(f\"Total Revenue Growth: {tr_growth * 100: .2f}%\")\n",
    "print(f\"Net Income Growth: {ni_growth * 100: .2f}%\")   "
   ]
  },
  {
   "cell_type": "markdown",
   "id": "fe5d6f56-4cd2-4c68-9747-96faecf645a6",
   "metadata": {},
   "source": [
    "### So now we have some interesting data for growth rates we can use in the two-stage model"
   ]
  },
  {
   "cell_type": "code",
   "execution_count": 55,
   "id": "a1757e1a-21f5-42dc-8da1-ee079ab3e501",
   "metadata": {},
   "outputs": [
    {
     "name": "stdout",
     "output_type": "stream",
     "text": [
      "DIV:\n",
      "   Year   Cashflow  Present Value\n",
      "0  2025   2.440000       2.440000\n",
      "1  2026   2.623000       2.517475\n",
      "2  2027   2.819725       2.597409\n",
      "3  2028  55.488812      49.057554\n",
      "\n",
      "Predicted Stock Price: $ 56.61\n",
      "\n",
      "EPS:\n",
      "   Year    Cashflow  Present Value\n",
      "0  2025    4.700000       4.700000\n",
      "1  2026    5.052500       4.849234\n",
      "2  2027    5.431437       5.003207\n",
      "3  2028  106.884187      94.496109\n",
      "\n",
      "Predicted Stock Price: $ 109.05\n",
      "\n",
      "FCF:\n",
      "   Year   Cashflow  Present Value\n",
      "0  2025   4.280823       4.280823\n",
      "1  2026   4.601885       4.416747\n",
      "2  2027   4.947026       4.556988\n",
      "3  2028  97.351549      86.068322\n",
      "\n",
      "Predicted Stock Price: $ 99.32\n",
      "\n",
      "\n",
      "Current Stock Price: $ 50.36\n"
     ]
    }
   ],
   "source": [
    "years = 3\n",
    "g_hi = 0.075\n",
    "g_lo = -0.015\n",
    "Rf = get_rf_rate()\n",
    "Rm = get_market_return()\n",
    "\n",
    "Stock('GIS', Rf, Rm).get_all_models(years, g_hi, g_lo)"
   ]
  },
  {
   "cell_type": "markdown",
   "id": "9ffa2796-cf68-44ef-915e-57f1c3ecbec7",
   "metadata": {},
   "source": [
    "#### The stock appears to be fairly or slightly undervalued based on the dividend model \n",
    "#### It appears to be heavily undervalued in the EPS and FCF models"
   ]
  },
  {
   "cell_type": "markdown",
   "id": "86c0da65-b196-4d8e-a89c-3600e6f1eda7",
   "metadata": {},
   "source": [
    "#### We could continue further analyzing more stocks, pulling growth rates and using them as inputs to the model"
   ]
  },
  {
   "cell_type": "markdown",
   "id": "7a8e9aec-bffa-4770-a72a-32aed206aa51",
   "metadata": {},
   "source": [
    "# But wait, can't you do all this in Excel?"
   ]
  },
  {
   "cell_type": "markdown",
   "id": "57148ae6-c3a6-4934-9785-1d953cb8f28d",
   "metadata": {},
   "source": [
    "#### The answer is: yes, you can. BUT:\n",
    "* You can't do it dynamically and this fast (you'd spend hours doing what this class does in seconds)\n",
    "* Pulling API data into Excel is possible with VBA, but it's code-heavy and annoying and more complex.\n",
    "* You'd have to manually do a lot of this: scraping inputs, estimating rates (believe me, I've done this, it's very labor-intensive!)"
   ]
  },
  {
   "cell_type": "markdown",
   "id": "41935481-ba5b-4ba7-aab5-4d8d3a645375",
   "metadata": {},
   "source": [
    "# Enjoy the Power of Python! And happy stock-picking, everybody"
   ]
  },
  {
   "cell_type": "markdown",
   "id": "be68a658-3208-499d-a1c0-41850049469c",
   "metadata": {},
   "source": [
    "### For reference here is the full code"
   ]
  },
  {
   "cell_type": "code",
   "execution_count": 56,
   "id": "1ecf45e2-a7fc-4e0b-8446-550e26b15d96",
   "metadata": {},
   "outputs": [],
   "source": [
    "import pandas as pd\n",
    "import yfinance as yf\n",
    "import numpy as np\n",
    "import datetime\n",
    "from yahooquery import Ticker\n",
    "\n",
    "def get_yf(value, symbol):\n",
    "    \"\"\" Fetch a specific value for a given stock symbol using yfinance. \n",
    "        Return 0 if the value is None or missing\"\"\"\n",
    "    try:\n",
    "        x = yf.Ticker(symbol).info.get(value)\n",
    "        if x is None:\n",
    "            return 0\n",
    "        else:\n",
    "            return x\n",
    "    except Exception as e:\n",
    "        return 0       \n",
    "###################################################################################################\n",
    "\n",
    "def get_rf_rate():\n",
    "    \"\"\"Estimate of risk-free rate that uses iShares \n",
    "        0-3 month Treasury dividend yield (Ticker: SGOV)\"\"\"\n",
    "    return float(get_yf('dividendYield', 'SGOV') / 100)\n",
    "###################################################################################################\n",
    "\n",
    "def get_market_return():\n",
    "    \"\"\"Calculate annualized market return (CAGR) from SPY daily close prices\"\"\"\n",
    "    # Add daily return column for SPY in order to estimate Market Return\n",
    "    spy = yf.Ticker(\"SPY\").history(period='max')\n",
    "    spy['Daily Return'] = spy['Close'].pct_change()\n",
    "    \n",
    "    spy = spy.dropna() # Drop row one\n",
    "\n",
    "    # Multiply all daily growth factors to get total compounded return over the entire period\n",
    "    cumulative_return = (1 + spy['Daily Return']).prod()\n",
    "    \n",
    "    # Calculate total number of years for the period\n",
    "    total_days = float((spy.index[-1] - spy.index[0]).days)\n",
    "    total_years = total_days / 365.25\n",
    "    \n",
    "    # Calculate compounded annual growth rate. This is the market return over the period.\n",
    "    cagr = (cumulative_return ** (1 / total_years) - 1)\n",
    "    return  cagr\n",
    "###################################################################################################\n",
    "    \n",
    "def get_multiple_stats(symbols):\n",
    "    \"\"\"Return CAPM and Two-Stage Growth Model stats for multiple stocks\"\"\"\n",
    "    all_stats = []\n",
    "\n",
    "    # Iterate to append stats to the dataframe\n",
    "    for symbol in symbols:\n",
    "        df = Stock(symbol, Rf, Rm).get_stats()\n",
    "        all_stats.append(df) \n",
    "\n",
    "    # Concatenate all the dataframes together\n",
    "    stats_df = pd.concat(all_stats, ignore_index=True)\n",
    "    return stats_df\n",
    "###################################################################################################\n",
    "\n",
    "class Stock:\n",
    "    \"\"\"Initialize the class with a stock symbol\"\"\"\n",
    "    def __init__(self, symbol, Rf, Rm):\n",
    "        self.symbol = symbol\n",
    "        self.price = get_yf('currentPrice', symbol)\n",
    "        self.beta = get_yf('beta', symbol)\n",
    "        \n",
    "        # Calculate stock's discount rate using CAPM formula\n",
    "        self.mrp = Rm - Rf\n",
    "        self.discount_rate = Rf + self.beta * self.mrp\n",
    "\n",
    "        # Calculate free cashflow per share (this is the year 0 value), prevent division by zero\n",
    "        fcf = get_yf('freeCashflow', symbol)\n",
    "        shares = get_yf('sharesOutstanding', symbol)\n",
    "        self.fcf_0 = fcf / shares if shares else 0\n",
    "\n",
    "        self.eps = get_yf('forwardEps', symbol) \n",
    "        self.div = get_yf('dividendRate', symbol)\n",
    "    ###############################################################################################\n",
    "    \n",
    "    def get_stats(self):\n",
    "        \"\"\"Return a dataframe with key stats necessary to calculate the two-stage growth model\"\"\"\n",
    "        df_stats = pd.DataFrame({\n",
    "            'Symbol': [self.symbol],\n",
    "            'FCF Yr 0': [self.fcf_0], \n",
    "            'Fwd EPS': [self.eps],\n",
    "            'Fwd Div': [self.div],\n",
    "            'Beta': [self.beta],\n",
    "            'Mkt Return': [Rm],\n",
    "            'Risk-Free Rate': [Rf],                   \n",
    "            'Mkt Risk Prem': [self.mrp],\n",
    "            'Discount Rate': [self.discount_rate]})\n",
    "        return df_stats\n",
    "    ###############################################################################################\n",
    "    \n",
    "    def get_two_stage_model(self, cf, years, g_hi, g_lo):\n",
    "        \"\"\"Return a dataframe with the two-stage growth model discounted cashflow calculations.\n",
    "           Years should be the number of high-growth years expected, before growth slows down.\n",
    "           Also, return the NPV, which is the estimated stock price, as a second output.\"\"\"\n",
    "        # Get the current year. Create list of years and dataframe for two-stage growth model\n",
    "        current_year = datetime.datetime.now().year\n",
    "        year_list = [current_year + i for i in range(years + 1)]\n",
    "        \n",
    "        # Create list of cashflows, compounded annually by the high-growth rate\n",
    "        cf_list = [cf * (1 + g_hi) ** year \n",
    "                   for year in range(years + 1)]\n",
    "        \n",
    "        # Terminal Value Formula: (Final Dividend * (1 + Low Growth Rate)) / (Discount Rate - Low Growth Rate)\n",
    "        tv = ((cf_list[years] * (1 + g_lo)) / (self.discount_rate - g_lo))\n",
    "        \n",
    "        # Calculate terminal value and add it to the final cashflow\n",
    "        cf_list[years] = cf_list[years] + tv\n",
    "        \n",
    "        # Create list of discounted cashflows based on year and discount rate we previously calculated with CAPM\n",
    "        pv_list = [cf_list[year] / ((1 + self.discount_rate) ** year) \n",
    "                   for year in range(years + 1)]\n",
    "        \n",
    "        # Build the DataFrame\n",
    "        df_model = pd.DataFrame({'Year': year_list,\n",
    "                                 'Cashflow': cf_list,\n",
    "                                 'Present Value': pv_list})\n",
    "        \n",
    "        # Return the dataframe and the NPV in a tuple\n",
    "        npv = sum(df_model['Present Value'])\n",
    "        return (df_model, npv)\n",
    "    ###############################################################################################\n",
    "\n",
    "    def get_all_models(self, years, g_hi, g_lo):\n",
    "        \"\"\"Print all three models and their NPV outputs, using FCF, EPS, and DIV\"\"\"\n",
    "        # Iterate over all three cashflow types\n",
    "        for name, cf in zip(['DIV', 'EPS', 'FCF'], [self.div, self.eps, self.fcf_0 * (1 + g_hi)]):\n",
    "            df, npv = self.get_two_stage_model(cf, years, g_hi, g_lo)\n",
    "\n",
    "            print(name + ':')\n",
    "            print(df)\n",
    "            print()\n",
    "            print(f\"Predicted Stock Price: ${npv: .2f}\")\n",
    "            \n",
    "            #print(self.get_two_stage_model(cf, years, g_hi, g_lo))\n",
    "            # print()\n",
    "        \n",
    "        # Print current market price, for reference to the models\n",
    "        print()\n",
    "        print(f\"Current Stock Price: {self.price}\") \n",
    "###################################################################################################\n",
    "\n",
    "def get_historical_tr_ni(symbol):\n",
    "    \"\"\"Get a stock's multi-year income statements from yfinance and \n",
    "       clean it up to show only the net income and total revenue\"\"\"\n",
    "    \n",
    "    df = yf.Ticker(symbol).income_stmt.loc[['Total Revenue', 'Net Income']]\n",
    "    \n",
    "    # Drop NaN column and transpose dataframe so that dates are rows, not columns\n",
    "    df = df.dropna(axis=1, how='any').T\n",
    "\n",
    "    # Reverse order of rows so older years are at top\n",
    "    df = df[::-1]\n",
    "    return df\n",
    "###################################################################################################\n",
    "\n",
    "def estimate_growth_rates(symbol):\n",
    "    \"\"\"Estimates a stock's growth rates based on annualized growth of total revenue \n",
    "       and net income, pulled from the company's historical income statements using yfinance\"\"\"\n",
    "    df = get_historical_tr_ni(symbol)\n",
    "\n",
    "    # Display only the columns we'll need for analysis\n",
    "    df['RevPctChange'] = df['Total Revenue'].pct_change()\n",
    "    df['NIPctChange'] = df['Net Income'].pct_change()\n",
    "    \n",
    "    # Drop NaN row\n",
    "    df = df.dropna()\n",
    "\n",
    "    # Calculate the cumulative return for TR and NI over the entire period\n",
    "    cumulative_tr_return = (1 + df['RevPctChange']).prod()\n",
    "    cumulative_ni_return = (1 + df['NIPctChange']).prod()\n",
    "\n",
    "    # Get total years which is the number of rows in the dataframe\n",
    "    total_years = len(df) \n",
    "\n",
    "    # Calculate CAGR for TR and NI\n",
    "    cagr_tr = (cumulative_tr_return)**(1/total_years) - 1\n",
    "    cagr_ni = (cumulative_ni_return)**(1/total_years) - 1\n",
    "    \n",
    "    return cagr_tr, cagr_ni"
   ]
  },
  {
   "cell_type": "markdown",
   "id": "0a48e207-d1c3-468b-b347-9ce6aa115623",
   "metadata": {},
   "source": [
    "## Author: Yusif Refae, MBA\n",
    "#### Let's work together: <a href = \"https://www.linkedin.com/in/yusifrefae/\">Message me on LinkedIn!</a>"
   ]
  }
 ],
 "metadata": {
  "kernelspec": {
   "display_name": "Python 3 (ipykernel)",
   "language": "python",
   "name": "python3"
  },
  "language_info": {
   "codemirror_mode": {
    "name": "ipython",
    "version": 3
   },
   "file_extension": ".py",
   "mimetype": "text/x-python",
   "name": "python",
   "nbconvert_exporter": "python",
   "pygments_lexer": "ipython3",
   "version": "3.13.7"
  }
 },
 "nbformat": 4,
 "nbformat_minor": 5
}
