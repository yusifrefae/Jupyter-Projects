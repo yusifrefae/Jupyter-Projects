{
 "cells": [
  {
   "cell_type": "markdown",
   "id": "a78bd34c-1f47-4636-84f9-d98a3a37c48f",
   "metadata": {},
   "source": [
    "# Portfolio Mathematics: Calculating Risk & Return \n",
    "## Learn the Basics of Modern Portfolio Theory (MPT)\n",
    "### Plus: Sharpe Ratio and How to Choose an Optimal Mix Of Stocks for your Portfolio\n",
    "### Also: Testing Ray Dalio's All-Weather Portfolio"
   ]
  },
  {
   "cell_type": "markdown",
   "id": "9bb87972-a5ec-49ac-be1c-6b85147f3eaa",
   "metadata": {},
   "source": [
    "In this tutorial you'll learn: \n",
    "* How to calculate expected risk and standard deviation (risk) for a group of stocks\n",
    "* How to calculate and interpret risk-adjusted returns using the Sharpe ratio\n",
    "* How to choose specific companies and their allocations for your portfolio\n",
    "* To work with classes, functions, and visuals in Python using pandas, yfinance, numpy, matplotlib, and more"
   ]
  },
  {
   "cell_type": "markdown",
   "id": "c4e68c1f-e344-44c4-82b2-9a7f43ca0194",
   "metadata": {},
   "source": [
    "#### For previous tutorials, please check:\n",
    "* [How to Fetch Stock Data](https://github.com/yusifrefae/Jupyter-Projects/blob/main/fetch-stock-data.ipynb)\n",
    "* [Stock Options Data Analysis](https://github.com/yusifrefae/Jupyter-Projects/blob/main/stock-options-data-analysis.ipynb)\n",
    "* [Calculate Expected Move using Options](https://github.com/yusifrefae/Jupyter-Projects/blob/main/calculate-expected-move.ipynb)\n",
    "* [Automating Two-Stage Dividend Growth Model](https://github.com/yusifrefae/Jupyter-Projects/blob/main/two-stage-growth-model.ipynb)\n",
    "* [Predicting Stock Prices using Multiple Linear Regression](http://localhost:8977/notebooks/7-multiple-linear-regression-tutorial.ipynb)"
   ]
  },
  {
   "cell_type": "markdown",
   "id": "c7913d66-b1f6-4dcb-8a2e-0af471487e79",
   "metadata": {},
   "source": [
    "### Import necessary libraries"
   ]
  },
  {
   "cell_type": "code",
   "execution_count": 1,
   "id": "628d1ae9-5b52-411f-85ee-fd96fac893cd",
   "metadata": {},
   "outputs": [],
   "source": [
    "import pandas as pd\n",
    "import yfinance as yf\n",
    "import numpy as np\n",
    "import matplotlib\n",
    "import matplotlib.pyplot as plt"
   ]
  },
  {
   "cell_type": "markdown",
   "id": "a435ef50-731f-498e-9652-5dc226e9fd2b",
   "metadata": {},
   "source": [
    "### Create a function to find the risk-free rate of return, which we'll use later in calculating Sharpe Ratio"
   ]
  },
  {
   "cell_type": "code",
   "execution_count": 2,
   "id": "a4435dae-0d85-43e2-8861-a3959a800fff",
   "metadata": {},
   "outputs": [],
   "source": [
    "def rf_rate():\n",
    "    \"\"\"Estimate of risk-free rate that uses iShares 0-3 month Treasury dividend yield (Ticker: SGOV)\"\"\"\n",
    "    rate = yf.Ticker('SGOV').info.get('dividendYield')\n",
    "    return rate / 100    "
   ]
  },
  {
   "cell_type": "code",
   "execution_count": 3,
   "id": "f4786d81-a5e9-47fb-89c3-4f9266bb6b31",
   "metadata": {},
   "outputs": [
    {
     "data": {
      "text/plain": [
       "0.0435"
      ]
     },
     "execution_count": 3,
     "metadata": {},
     "output_type": "execute_result"
    }
   ],
   "source": [
    "rf_rate()"
   ]
  },
  {
   "cell_type": "markdown",
   "id": "87d604e3-da09-4e00-92d2-2b0740c09483",
   "metadata": {},
   "source": [
    "### Now let's define a simple portfolio to test as we build the class.\n",
    "We'll do more complex testing at the end after we've built it."
   ]
  },
  {
   "cell_type": "code",
   "execution_count": 4,
   "id": "3e7401ae-0bab-4f38-ae81-436d327d69f3",
   "metadata": {},
   "outputs": [],
   "source": [
    "tickers = ['AMZN', 'MSFT', 'GOOGL']\n",
    "stock_amounts = [200000, 300000, 400000]\n",
    "cash_reserves = 100000\n",
    "total_capital = sum(stock_amounts) + cash_reserves"
   ]
  },
  {
   "cell_type": "markdown",
   "id": "8e54d40a-71cd-43d3-881c-14cfac96a411",
   "metadata": {},
   "source": [
    "### Let's define a helper function to convert cash amounts to percentage weights\n",
    "We'll use if statements to handle:\n",
    "* Non-numeric inputs\n",
    "* Cases where the total amount is zero"
   ]
  },
  {
   "cell_type": "code",
   "execution_count": 5,
   "id": "80af3009-8988-435d-af9d-b9409c5e06e0",
   "metadata": {},
   "outputs": [],
   "source": [
    "def amounts_to_weights(amounts, total_amount):\n",
    "    \"\"\"Convert cash amounts in portfolio of stocks to percentage allocation weights\"\"\"\n",
    "    # Validate amounts as numeric\n",
    "    for amount in amounts:\n",
    "        if not isinstance(amount, (int, float)):\n",
    "            raise ValueError(\"Amounts must be numeric.\")\n",
    "    \n",
    "    # Prevent division by zero error\n",
    "    if abs(total_amount) < 1e-12:\n",
    "        raise ValueError(\"Amounts sum to 0 — can't convert to weights.\")\n",
    "        \n",
    "    return [amount / total_amount for amount in amounts]"
   ]
  },
  {
   "cell_type": "code",
   "execution_count": 6,
   "id": "2a6a08b1-760d-4cf1-abe7-0af4933b9a8f",
   "metadata": {},
   "outputs": [
    {
     "data": {
      "text/plain": [
       "[0.2, 0.3, 0.4, 0.1]"
      ]
     },
     "execution_count": 6,
     "metadata": {},
     "output_type": "execute_result"
    }
   ],
   "source": [
    "stock_weights = amounts_to_weights(stock_amounts, total_capital)\n",
    "cash_weight = cash_reserves / total_capital\n",
    "stock_weights + [cash_weight]"
   ]
  },
  {
   "cell_type": "code",
   "execution_count": 7,
   "id": "f2865136-b9ed-4b67-997c-2f8c33c6ee27",
   "metadata": {},
   "outputs": [
    {
     "name": "stdout",
     "output_type": "stream",
     "text": [
      "AMZN: $200000.00-  20.00%\n",
      "MSFT: $300000.00-  30.00%\n",
      "GOOGL: $400000.00-  40.00%\n",
      "Cash: $ 100000.00 -  10.00%\n",
      "Total: $1000000.00\n"
     ]
    }
   ],
   "source": [
    "for w, ticker, amount in zip(range(0, 3), tickers, stock_amounts):\n",
    "    print(f'{ticker}: ${amount:.2f}- {stock_weights[w] * 100: .2f}%')\n",
    "print(f'Cash: ${cash_reserves: .2f} - {cash_weight * 100: .2f}%')\n",
    "print(f'Total: ${total_capital:.2f}')"
   ]
  },
  {
   "cell_type": "markdown",
   "id": "3574eb82-a3ce-4a78-8214-2ff71f0fee83",
   "metadata": {},
   "source": [
    "### First, define a class with an initialization method that creates a 'Portfolio' object\n",
    "* Note that we'll treat the cash weight separately, as an absolute weight (10% in this case).\n",
    "* Later we'll build a helper method to handle different weights of cash and stocks and ensure they sum up to 100%."
   ]
  },
  {
   "cell_type": "code",
   "execution_count": 8,
   "id": "0eccb607-2125-4179-92c2-6d9a659a507a",
   "metadata": {},
   "outputs": [],
   "source": [
    "class Portfolio:\n",
    "    \"\"\"Portfolio class to calculate weighted risk/return metrics.\"\"\"\n",
    "    # Initialize portfolio, default cash weight is 0%\n",
    "    def __init__(self, symbols_in, weights_in, cash_weight_in = 0.0):\n",
    "        self.symbols = symbols_in\n",
    "        self.weights = weights_in\n",
    "        self.cash_weight = cash_weight_in"
   ]
  },
  {
   "cell_type": "code",
   "execution_count": 9,
   "id": "0684e81b-1936-4b33-9614-c7950b5386c6",
   "metadata": {},
   "outputs": [
    {
     "name": "stdout",
     "output_type": "stream",
     "text": [
      "The portfolio contains the following stocks: ['AMZN', 'MSFT', 'GOOGL']\n",
      "The portfolio weights (in order) are: [0.2, 0.3, 0.4]\n",
      "The cash weight of the portfolio is: 0.1\n",
      "\n",
      "The portfolio is of type <class '__main__.Portfolio'>\n"
     ]
    }
   ],
   "source": [
    "p = Portfolio(tickers, stock_weights, cash_weight)\n",
    "print(f'The portfolio contains the following stocks: {p.symbols}')\n",
    "print(f'The portfolio weights (in order) are: {p.weights}')\n",
    "print(f'The cash weight of the portfolio is: {p.cash_weight}')\n",
    "print()\n",
    "print(f'The portfolio is of type {type(p)}')"
   ]
  },
  {
   "cell_type": "markdown",
   "id": "03a687cc-21b8-4405-a3fd-c480248f7eac",
   "metadata": {},
   "source": [
    "### So far so good. Now let's build that helper method.\n",
    "We begin with some if statements:\n",
    "* To ensure weights are numeric\n",
    "* To prevent duplicate symbols (we could handle these, but let's keep the code simple)\n",
    "* To ensure the number of symbols matches the number of weights\n",
    "* To ensure the weights don't sum to zero\n",
    "\n",
    "We keep the given cash weight absolute (e.g. if we're given 10%, it doesn't rescale, only the stock weights do)"
   ]
  },
  {
   "cell_type": "code",
   "execution_count": 10,
   "id": "6b8dc05a-6030-4b0b-8444-a88492037ad8",
   "metadata": {},
   "outputs": [],
   "source": [
    "def scale_weights(self):\n",
    "    \"\"\"Scale asset weights so that assets sum to (1 - cash_weight).\n",
    "       Allows negative weights (shorts) and handles numeric validation.\n",
    "       Raises ValueError on duplicates, length mismatch, or zero-sum weights.\"\"\"\n",
    "    # Validate cash_weight as numeric\n",
    "    if not isinstance(self.cash_weight, (int, float)):\n",
    "        raise ValueError(\"Cash weight must be numeric.\")\n",
    "    \n",
    "    # Check for duplicate symbols\n",
    "    if len(self.symbols) != len(set(self.symbols)):\n",
    "        raise ValueError(\"Duplicate symbols not allowed. Use only unique symbols.\")\n",
    "\n",
    "    # Check that number of weights matches number of symbols\n",
    "    if len(self.weights) != len(self.symbols):\n",
    "        raise ValueError(\"Number of weights must match number symbols.\")\n",
    "########################################################################################\n",
    "    \n",
    "    # Set up logic to scale input weights\n",
    "    sum_w = sum(self.weights)\n",
    "    target = 1 - self.cash_weight\n",
    "    \n",
    "    if abs(sum_w) < 1e-12:\n",
    "        raise ValueError(\"Asset weights sum to 0 — can't scale.\")\n",
    "########################################################################################\n",
    "\n",
    "    # Rescale stock weights, while keeping cash weight aboslute\n",
    "    scaled_weights = [w * target / sum_w for w in self.weights]\n",
    "\n",
    "    # Return dataframe of symbols keyed to weights\n",
    "    return pd.DataFrame({'Symbol': self.symbols + ['Cash Reserves'],\n",
    "                         'Weight': scaled_weights + [self.cash_weight]})"
   ]
  },
  {
   "cell_type": "markdown",
   "id": "f25bbf0e-06c0-4579-b625-163f0ed3c461",
   "metadata": {},
   "source": [
    "### Now we'll add the method to the class and test it."
   ]
  },
  {
   "cell_type": "code",
   "execution_count": 11,
   "id": "61c6e7e7-ac5e-4bdf-8e4b-c8d28cdbb5b7",
   "metadata": {},
   "outputs": [],
   "source": [
    "Portfolio.scale_weights = scale_weights"
   ]
  },
  {
   "cell_type": "code",
   "execution_count": 12,
   "id": "ddadbf84-9d10-46e9-b56c-6287cdd2ba7d",
   "metadata": {},
   "outputs": [
    {
     "data": {
      "text/html": [
       "<div>\n",
       "<style scoped>\n",
       "    .dataframe tbody tr th:only-of-type {\n",
       "        vertical-align: middle;\n",
       "    }\n",
       "\n",
       "    .dataframe tbody tr th {\n",
       "        vertical-align: top;\n",
       "    }\n",
       "\n",
       "    .dataframe thead th {\n",
       "        text-align: right;\n",
       "    }\n",
       "</style>\n",
       "<table border=\"1\" class=\"dataframe\">\n",
       "  <thead>\n",
       "    <tr style=\"text-align: right;\">\n",
       "      <th></th>\n",
       "      <th>Symbol</th>\n",
       "      <th>Weight</th>\n",
       "    </tr>\n",
       "  </thead>\n",
       "  <tbody>\n",
       "    <tr>\n",
       "      <th>0</th>\n",
       "      <td>AMZN</td>\n",
       "      <td>0.2</td>\n",
       "    </tr>\n",
       "    <tr>\n",
       "      <th>1</th>\n",
       "      <td>MSFT</td>\n",
       "      <td>0.3</td>\n",
       "    </tr>\n",
       "    <tr>\n",
       "      <th>2</th>\n",
       "      <td>GOOGL</td>\n",
       "      <td>0.4</td>\n",
       "    </tr>\n",
       "    <tr>\n",
       "      <th>3</th>\n",
       "      <td>Cash Reserves</td>\n",
       "      <td>0.1</td>\n",
       "    </tr>\n",
       "  </tbody>\n",
       "</table>\n",
       "</div>"
      ],
      "text/plain": [
       "          Symbol  Weight\n",
       "0           AMZN     0.2\n",
       "1           MSFT     0.3\n",
       "2          GOOGL     0.4\n",
       "3  Cash Reserves     0.1"
      ]
     },
     "execution_count": 12,
     "metadata": {},
     "output_type": "execute_result"
    }
   ],
   "source": [
    "p.scale_weights()"
   ]
  },
  {
   "cell_type": "markdown",
   "id": "fa953688-3ef3-479b-8c3f-737ca7663fc6",
   "metadata": {},
   "source": [
    "### It might seem redundant, but this step makes sure we can handle:\n",
    "* Negative cash weights (e.g. leveraging a portfolio)\n",
    "* Short positions (e.g. negative asset weights)\n",
    "* Division by zero errors \n",
    "* Scaling weights properly so that total (non-cash) weights sum to 1 - cash_weight\n",
    "* Returning a clean DataFrame with all asset weights and a final row for 'Cash Reserves'"
   ]
  },
  {
   "cell_type": "markdown",
   "id": "4842f27d-80f5-40c9-82a9-9f5c08a1d6d8",
   "metadata": {},
   "source": [
    "# Let's calculate expected return. \n",
    "\n",
    "### First we make a helper function to scale the returns.\n",
    "* The first step is to scale the returns using the natural logarithm (LN).\n",
    "* First we use the dates method to get start and end dates.\n",
    "* Then we use it to download all the symbols at once.\n",
    "* This improves speed/performance (for dozens of symbols it can get quite slow otherwise).\n",
    "* We use NumPy and the shift function to calculate daily LN of returns for each stock.\n",
    "* We force the returns to be in the same order as the symbols were (just in case they shifted)\n",
    "* Note that by default the return for cash is 0\n",
    "* Finally we return the dataframe"
   ]
  },
  {
   "cell_type": "code",
   "execution_count": 13,
   "id": "97cec683-2895-4ef4-b392-2aae0315eab7",
   "metadata": {},
   "outputs": [],
   "source": [
    "def scale_returns(self):\n",
    "    \"\"\"Calculate daily natural log of returns for portfolio assets and add a cash column.\"\"\"    \n",
    "    # Get close price data for all symbols based on start and end dates\n",
    "    returns = yf.download(self.symbols, period='max', auto_adjust=True, progress=False)['Close']\n",
    "    \n",
    "    # Calculate daily natural log (continuous) returns and drop the first row of NaNs\n",
    "    returns = np.log(returns / returns.shift(1))\n",
    "    \n",
    "    # Reorder dataframe columns to match weights dataframe, add cash reserves columns\n",
    "    returns =  returns[self.symbols]\n",
    "    \n",
    "    # Add cash column after ordering\n",
    "    returns.loc[:, 'Cash Reserves'] = 0.0\n",
    "    \n",
    "    return returns"
   ]
  },
  {
   "cell_type": "markdown",
   "id": "76ef0382-da8e-470b-bd2d-92c62dddefde",
   "metadata": {},
   "source": [
    "### It might help to break this out a bit more to see what's happening."
   ]
  },
  {
   "cell_type": "markdown",
   "id": "9915430a-26dd-42f3-b89f-62f4fcd17093",
   "metadata": {},
   "source": [
    "#### Create a compound dataframe by downloading all stock data from yfinance."
   ]
  },
  {
   "cell_type": "code",
   "execution_count": 14,
   "id": "a89ebea0-e232-463d-bc6a-334a3e474015",
   "metadata": {},
   "outputs": [
    {
     "data": {
      "text/html": [
       "<div>\n",
       "<style scoped>\n",
       "    .dataframe tbody tr th:only-of-type {\n",
       "        vertical-align: middle;\n",
       "    }\n",
       "\n",
       "    .dataframe tbody tr th {\n",
       "        vertical-align: top;\n",
       "    }\n",
       "\n",
       "    .dataframe thead th {\n",
       "        text-align: right;\n",
       "    }\n",
       "</style>\n",
       "<table border=\"1\" class=\"dataframe\">\n",
       "  <thead>\n",
       "    <tr style=\"text-align: right;\">\n",
       "      <th>Ticker</th>\n",
       "      <th>AMZN</th>\n",
       "      <th>GOOGL</th>\n",
       "      <th>MSFT</th>\n",
       "    </tr>\n",
       "    <tr>\n",
       "      <th>Date</th>\n",
       "      <th></th>\n",
       "      <th></th>\n",
       "      <th></th>\n",
       "    </tr>\n",
       "  </thead>\n",
       "  <tbody>\n",
       "    <tr>\n",
       "      <th>1986-03-13</th>\n",
       "      <td>NaN</td>\n",
       "      <td>NaN</td>\n",
       "      <td>0.059500</td>\n",
       "    </tr>\n",
       "    <tr>\n",
       "      <th>1986-03-14</th>\n",
       "      <td>NaN</td>\n",
       "      <td>NaN</td>\n",
       "      <td>0.061625</td>\n",
       "    </tr>\n",
       "    <tr>\n",
       "      <th>1986-03-17</th>\n",
       "      <td>NaN</td>\n",
       "      <td>NaN</td>\n",
       "      <td>0.062688</td>\n",
       "    </tr>\n",
       "    <tr>\n",
       "      <th>1986-03-18</th>\n",
       "      <td>NaN</td>\n",
       "      <td>NaN</td>\n",
       "      <td>0.061093</td>\n",
       "    </tr>\n",
       "    <tr>\n",
       "      <th>1986-03-19</th>\n",
       "      <td>NaN</td>\n",
       "      <td>NaN</td>\n",
       "      <td>0.060031</td>\n",
       "    </tr>\n",
       "    <tr>\n",
       "      <th>...</th>\n",
       "      <td>...</td>\n",
       "      <td>...</td>\n",
       "      <td>...</td>\n",
       "    </tr>\n",
       "    <tr>\n",
       "      <th>2025-10-15</th>\n",
       "      <td>215.570007</td>\n",
       "      <td>251.029999</td>\n",
       "      <td>513.429993</td>\n",
       "    </tr>\n",
       "    <tr>\n",
       "      <th>2025-10-16</th>\n",
       "      <td>214.470001</td>\n",
       "      <td>251.460007</td>\n",
       "      <td>511.609985</td>\n",
       "    </tr>\n",
       "    <tr>\n",
       "      <th>2025-10-17</th>\n",
       "      <td>213.039993</td>\n",
       "      <td>253.300003</td>\n",
       "      <td>513.580017</td>\n",
       "    </tr>\n",
       "    <tr>\n",
       "      <th>2025-10-20</th>\n",
       "      <td>216.479996</td>\n",
       "      <td>256.549988</td>\n",
       "      <td>516.789978</td>\n",
       "    </tr>\n",
       "    <tr>\n",
       "      <th>2025-10-21</th>\n",
       "      <td>222.029999</td>\n",
       "      <td>250.460007</td>\n",
       "      <td>517.659973</td>\n",
       "    </tr>\n",
       "  </tbody>\n",
       "</table>\n",
       "<p>9980 rows × 3 columns</p>\n",
       "</div>"
      ],
      "text/plain": [
       "Ticker            AMZN       GOOGL        MSFT\n",
       "Date                                          \n",
       "1986-03-13         NaN         NaN    0.059500\n",
       "1986-03-14         NaN         NaN    0.061625\n",
       "1986-03-17         NaN         NaN    0.062688\n",
       "1986-03-18         NaN         NaN    0.061093\n",
       "1986-03-19         NaN         NaN    0.060031\n",
       "...                ...         ...         ...\n",
       "2025-10-15  215.570007  251.029999  513.429993\n",
       "2025-10-16  214.470001  251.460007  511.609985\n",
       "2025-10-17  213.039993  253.300003  513.580017\n",
       "2025-10-20  216.479996  256.549988  516.789978\n",
       "2025-10-21  222.029999  250.460007  517.659973\n",
       "\n",
       "[9980 rows x 3 columns]"
      ]
     },
     "execution_count": 14,
     "metadata": {},
     "output_type": "execute_result"
    }
   ],
   "source": [
    "returns = yf.download(tickers, period='max', auto_adjust=True, progress=False)['Close']\n",
    "returns"
   ]
  },
  {
   "cell_type": "markdown",
   "id": "097d68ac-601b-49dc-8a3d-a8f669b891ed",
   "metadata": {},
   "source": [
    "#### Calculate daily returns using LN and shift functions."
   ]
  },
  {
   "cell_type": "code",
   "execution_count": 15,
   "id": "73cc66ea-aed9-4f24-af77-11a3dc5f0b3a",
   "metadata": {},
   "outputs": [
    {
     "data": {
      "text/html": [
       "<div>\n",
       "<style scoped>\n",
       "    .dataframe tbody tr th:only-of-type {\n",
       "        vertical-align: middle;\n",
       "    }\n",
       "\n",
       "    .dataframe tbody tr th {\n",
       "        vertical-align: top;\n",
       "    }\n",
       "\n",
       "    .dataframe thead th {\n",
       "        text-align: right;\n",
       "    }\n",
       "</style>\n",
       "<table border=\"1\" class=\"dataframe\">\n",
       "  <thead>\n",
       "    <tr style=\"text-align: right;\">\n",
       "      <th>Ticker</th>\n",
       "      <th>AMZN</th>\n",
       "      <th>GOOGL</th>\n",
       "      <th>MSFT</th>\n",
       "    </tr>\n",
       "    <tr>\n",
       "      <th>Date</th>\n",
       "      <th></th>\n",
       "      <th></th>\n",
       "      <th></th>\n",
       "    </tr>\n",
       "  </thead>\n",
       "  <tbody>\n",
       "    <tr>\n",
       "      <th>1986-03-13</th>\n",
       "      <td>NaN</td>\n",
       "      <td>NaN</td>\n",
       "      <td>NaN</td>\n",
       "    </tr>\n",
       "    <tr>\n",
       "      <th>1986-03-14</th>\n",
       "      <td>NaN</td>\n",
       "      <td>NaN</td>\n",
       "      <td>0.035089</td>\n",
       "    </tr>\n",
       "    <tr>\n",
       "      <th>1986-03-17</th>\n",
       "      <td>NaN</td>\n",
       "      <td>NaN</td>\n",
       "      <td>0.017103</td>\n",
       "    </tr>\n",
       "    <tr>\n",
       "      <th>1986-03-18</th>\n",
       "      <td>NaN</td>\n",
       "      <td>NaN</td>\n",
       "      <td>-0.025760</td>\n",
       "    </tr>\n",
       "    <tr>\n",
       "      <th>1986-03-19</th>\n",
       "      <td>NaN</td>\n",
       "      <td>NaN</td>\n",
       "      <td>-0.017543</td>\n",
       "    </tr>\n",
       "    <tr>\n",
       "      <th>...</th>\n",
       "      <td>...</td>\n",
       "      <td>...</td>\n",
       "      <td>...</td>\n",
       "    </tr>\n",
       "    <tr>\n",
       "      <th>2025-10-15</th>\n",
       "      <td>-0.003797</td>\n",
       "      <td>0.022479</td>\n",
       "      <td>-0.000273</td>\n",
       "    </tr>\n",
       "    <tr>\n",
       "      <th>2025-10-16</th>\n",
       "      <td>-0.005116</td>\n",
       "      <td>0.001712</td>\n",
       "      <td>-0.003551</td>\n",
       "    </tr>\n",
       "    <tr>\n",
       "      <th>2025-10-17</th>\n",
       "      <td>-0.006690</td>\n",
       "      <td>0.007291</td>\n",
       "      <td>0.003843</td>\n",
       "    </tr>\n",
       "    <tr>\n",
       "      <th>2025-10-20</th>\n",
       "      <td>0.016018</td>\n",
       "      <td>0.012749</td>\n",
       "      <td>0.006231</td>\n",
       "    </tr>\n",
       "    <tr>\n",
       "      <th>2025-10-21</th>\n",
       "      <td>0.025314</td>\n",
       "      <td>-0.024024</td>\n",
       "      <td>0.001682</td>\n",
       "    </tr>\n",
       "  </tbody>\n",
       "</table>\n",
       "<p>9980 rows × 3 columns</p>\n",
       "</div>"
      ],
      "text/plain": [
       "Ticker          AMZN     GOOGL      MSFT\n",
       "Date                                    \n",
       "1986-03-13       NaN       NaN       NaN\n",
       "1986-03-14       NaN       NaN  0.035089\n",
       "1986-03-17       NaN       NaN  0.017103\n",
       "1986-03-18       NaN       NaN -0.025760\n",
       "1986-03-19       NaN       NaN -0.017543\n",
       "...              ...       ...       ...\n",
       "2025-10-15 -0.003797  0.022479 -0.000273\n",
       "2025-10-16 -0.005116  0.001712 -0.003551\n",
       "2025-10-17 -0.006690  0.007291  0.003843\n",
       "2025-10-20  0.016018  0.012749  0.006231\n",
       "2025-10-21  0.025314 -0.024024  0.001682\n",
       "\n",
       "[9980 rows x 3 columns]"
      ]
     },
     "execution_count": 15,
     "metadata": {},
     "output_type": "execute_result"
    }
   ],
   "source": [
    "returns = np.log(returns / returns.shift(1))\n",
    "returns      "
   ]
  },
  {
   "cell_type": "markdown",
   "id": "d91f857a-3433-49fa-b88d-deaf671d7ce6",
   "metadata": {},
   "source": [
    "#### Forcibly reorder columns if they got out of order (they DID in this case). \n",
    "#### Add cash column, which has default return of 0%."
   ]
  },
  {
   "cell_type": "code",
   "execution_count": 16,
   "id": "4647fdb9-fb81-452e-8864-32a5b9d4c06e",
   "metadata": {},
   "outputs": [
    {
     "data": {
      "text/html": [
       "<div>\n",
       "<style scoped>\n",
       "    .dataframe tbody tr th:only-of-type {\n",
       "        vertical-align: middle;\n",
       "    }\n",
       "\n",
       "    .dataframe tbody tr th {\n",
       "        vertical-align: top;\n",
       "    }\n",
       "\n",
       "    .dataframe thead th {\n",
       "        text-align: right;\n",
       "    }\n",
       "</style>\n",
       "<table border=\"1\" class=\"dataframe\">\n",
       "  <thead>\n",
       "    <tr style=\"text-align: right;\">\n",
       "      <th>Ticker</th>\n",
       "      <th>AMZN</th>\n",
       "      <th>MSFT</th>\n",
       "      <th>GOOGL</th>\n",
       "      <th>Cash Reserves</th>\n",
       "    </tr>\n",
       "    <tr>\n",
       "      <th>Date</th>\n",
       "      <th></th>\n",
       "      <th></th>\n",
       "      <th></th>\n",
       "      <th></th>\n",
       "    </tr>\n",
       "  </thead>\n",
       "  <tbody>\n",
       "    <tr>\n",
       "      <th>1986-03-13</th>\n",
       "      <td>NaN</td>\n",
       "      <td>NaN</td>\n",
       "      <td>NaN</td>\n",
       "      <td>0.0</td>\n",
       "    </tr>\n",
       "    <tr>\n",
       "      <th>1986-03-14</th>\n",
       "      <td>NaN</td>\n",
       "      <td>0.035089</td>\n",
       "      <td>NaN</td>\n",
       "      <td>0.0</td>\n",
       "    </tr>\n",
       "    <tr>\n",
       "      <th>1986-03-17</th>\n",
       "      <td>NaN</td>\n",
       "      <td>0.017103</td>\n",
       "      <td>NaN</td>\n",
       "      <td>0.0</td>\n",
       "    </tr>\n",
       "    <tr>\n",
       "      <th>1986-03-18</th>\n",
       "      <td>NaN</td>\n",
       "      <td>-0.025760</td>\n",
       "      <td>NaN</td>\n",
       "      <td>0.0</td>\n",
       "    </tr>\n",
       "    <tr>\n",
       "      <th>1986-03-19</th>\n",
       "      <td>NaN</td>\n",
       "      <td>-0.017543</td>\n",
       "      <td>NaN</td>\n",
       "      <td>0.0</td>\n",
       "    </tr>\n",
       "    <tr>\n",
       "      <th>...</th>\n",
       "      <td>...</td>\n",
       "      <td>...</td>\n",
       "      <td>...</td>\n",
       "      <td>...</td>\n",
       "    </tr>\n",
       "    <tr>\n",
       "      <th>2025-10-15</th>\n",
       "      <td>-0.003797</td>\n",
       "      <td>-0.000273</td>\n",
       "      <td>0.022479</td>\n",
       "      <td>0.0</td>\n",
       "    </tr>\n",
       "    <tr>\n",
       "      <th>2025-10-16</th>\n",
       "      <td>-0.005116</td>\n",
       "      <td>-0.003551</td>\n",
       "      <td>0.001712</td>\n",
       "      <td>0.0</td>\n",
       "    </tr>\n",
       "    <tr>\n",
       "      <th>2025-10-17</th>\n",
       "      <td>-0.006690</td>\n",
       "      <td>0.003843</td>\n",
       "      <td>0.007291</td>\n",
       "      <td>0.0</td>\n",
       "    </tr>\n",
       "    <tr>\n",
       "      <th>2025-10-20</th>\n",
       "      <td>0.016018</td>\n",
       "      <td>0.006231</td>\n",
       "      <td>0.012749</td>\n",
       "      <td>0.0</td>\n",
       "    </tr>\n",
       "    <tr>\n",
       "      <th>2025-10-21</th>\n",
       "      <td>0.025314</td>\n",
       "      <td>0.001682</td>\n",
       "      <td>-0.024024</td>\n",
       "      <td>0.0</td>\n",
       "    </tr>\n",
       "  </tbody>\n",
       "</table>\n",
       "<p>9980 rows × 4 columns</p>\n",
       "</div>"
      ],
      "text/plain": [
       "Ticker          AMZN      MSFT     GOOGL  Cash Reserves\n",
       "Date                                                   \n",
       "1986-03-13       NaN       NaN       NaN            0.0\n",
       "1986-03-14       NaN  0.035089       NaN            0.0\n",
       "1986-03-17       NaN  0.017103       NaN            0.0\n",
       "1986-03-18       NaN -0.025760       NaN            0.0\n",
       "1986-03-19       NaN -0.017543       NaN            0.0\n",
       "...              ...       ...       ...            ...\n",
       "2025-10-15 -0.003797 -0.000273  0.022479            0.0\n",
       "2025-10-16 -0.005116 -0.003551  0.001712            0.0\n",
       "2025-10-17 -0.006690  0.003843  0.007291            0.0\n",
       "2025-10-20  0.016018  0.006231  0.012749            0.0\n",
       "2025-10-21  0.025314  0.001682 -0.024024            0.0\n",
       "\n",
       "[9980 rows x 4 columns]"
      ]
     },
     "execution_count": 16,
     "metadata": {},
     "output_type": "execute_result"
    }
   ],
   "source": [
    "returns = returns[tickers].copy()  # Set as copy to avoid warning message\n",
    "returns.loc[:, 'Cash Reserves'] = 0.0\n",
    "returns"
   ]
  },
  {
   "cell_type": "markdown",
   "id": "cc445309-9725-4af6-8655-a4b844c44c74",
   "metadata": {},
   "source": [
    "### Putting it all together with one class method call"
   ]
  },
  {
   "cell_type": "code",
   "execution_count": 17,
   "id": "1760ceef-4b33-4143-a1cd-620ac38f0455",
   "metadata": {},
   "outputs": [],
   "source": [
    "Portfolio.scale_returns = scale_returns"
   ]
  },
  {
   "cell_type": "code",
   "execution_count": 18,
   "id": "5247abfd-fff8-4986-bbb2-5be87a295548",
   "metadata": {},
   "outputs": [
    {
     "data": {
      "text/html": [
       "<div>\n",
       "<style scoped>\n",
       "    .dataframe tbody tr th:only-of-type {\n",
       "        vertical-align: middle;\n",
       "    }\n",
       "\n",
       "    .dataframe tbody tr th {\n",
       "        vertical-align: top;\n",
       "    }\n",
       "\n",
       "    .dataframe thead th {\n",
       "        text-align: right;\n",
       "    }\n",
       "</style>\n",
       "<table border=\"1\" class=\"dataframe\">\n",
       "  <thead>\n",
       "    <tr style=\"text-align: right;\">\n",
       "      <th>Ticker</th>\n",
       "      <th>AMZN</th>\n",
       "      <th>MSFT</th>\n",
       "      <th>GOOGL</th>\n",
       "      <th>Cash Reserves</th>\n",
       "    </tr>\n",
       "    <tr>\n",
       "      <th>Date</th>\n",
       "      <th></th>\n",
       "      <th></th>\n",
       "      <th></th>\n",
       "      <th></th>\n",
       "    </tr>\n",
       "  </thead>\n",
       "  <tbody>\n",
       "    <tr>\n",
       "      <th>1986-03-13</th>\n",
       "      <td>NaN</td>\n",
       "      <td>NaN</td>\n",
       "      <td>NaN</td>\n",
       "      <td>0.0</td>\n",
       "    </tr>\n",
       "    <tr>\n",
       "      <th>1986-03-14</th>\n",
       "      <td>NaN</td>\n",
       "      <td>0.035089</td>\n",
       "      <td>NaN</td>\n",
       "      <td>0.0</td>\n",
       "    </tr>\n",
       "    <tr>\n",
       "      <th>1986-03-17</th>\n",
       "      <td>NaN</td>\n",
       "      <td>0.017103</td>\n",
       "      <td>NaN</td>\n",
       "      <td>0.0</td>\n",
       "    </tr>\n",
       "    <tr>\n",
       "      <th>1986-03-18</th>\n",
       "      <td>NaN</td>\n",
       "      <td>-0.025761</td>\n",
       "      <td>NaN</td>\n",
       "      <td>0.0</td>\n",
       "    </tr>\n",
       "    <tr>\n",
       "      <th>1986-03-19</th>\n",
       "      <td>NaN</td>\n",
       "      <td>-0.017543</td>\n",
       "      <td>NaN</td>\n",
       "      <td>0.0</td>\n",
       "    </tr>\n",
       "    <tr>\n",
       "      <th>...</th>\n",
       "      <td>...</td>\n",
       "      <td>...</td>\n",
       "      <td>...</td>\n",
       "      <td>...</td>\n",
       "    </tr>\n",
       "    <tr>\n",
       "      <th>2025-10-15</th>\n",
       "      <td>-0.003797</td>\n",
       "      <td>-0.000273</td>\n",
       "      <td>0.022479</td>\n",
       "      <td>0.0</td>\n",
       "    </tr>\n",
       "    <tr>\n",
       "      <th>2025-10-16</th>\n",
       "      <td>-0.005116</td>\n",
       "      <td>-0.003551</td>\n",
       "      <td>0.001712</td>\n",
       "      <td>0.0</td>\n",
       "    </tr>\n",
       "    <tr>\n",
       "      <th>2025-10-17</th>\n",
       "      <td>-0.006690</td>\n",
       "      <td>0.003843</td>\n",
       "      <td>0.007291</td>\n",
       "      <td>0.0</td>\n",
       "    </tr>\n",
       "    <tr>\n",
       "      <th>2025-10-20</th>\n",
       "      <td>0.016018</td>\n",
       "      <td>0.006231</td>\n",
       "      <td>0.012749</td>\n",
       "      <td>0.0</td>\n",
       "    </tr>\n",
       "    <tr>\n",
       "      <th>2025-10-21</th>\n",
       "      <td>0.025314</td>\n",
       "      <td>0.001682</td>\n",
       "      <td>-0.024024</td>\n",
       "      <td>0.0</td>\n",
       "    </tr>\n",
       "  </tbody>\n",
       "</table>\n",
       "<p>9980 rows × 4 columns</p>\n",
       "</div>"
      ],
      "text/plain": [
       "Ticker          AMZN      MSFT     GOOGL  Cash Reserves\n",
       "Date                                                   \n",
       "1986-03-13       NaN       NaN       NaN            0.0\n",
       "1986-03-14       NaN  0.035089       NaN            0.0\n",
       "1986-03-17       NaN  0.017103       NaN            0.0\n",
       "1986-03-18       NaN -0.025761       NaN            0.0\n",
       "1986-03-19       NaN -0.017543       NaN            0.0\n",
       "...              ...       ...       ...            ...\n",
       "2025-10-15 -0.003797 -0.000273  0.022479            0.0\n",
       "2025-10-16 -0.005116 -0.003551  0.001712            0.0\n",
       "2025-10-17 -0.006690  0.003843  0.007291            0.0\n",
       "2025-10-20  0.016018  0.006231  0.012749            0.0\n",
       "2025-10-21  0.025314  0.001682 -0.024024            0.0\n",
       "\n",
       "[9980 rows x 4 columns]"
      ]
     },
     "execution_count": 18,
     "metadata": {},
     "output_type": "execute_result"
    }
   ],
   "source": [
    "scaled_Returns = p.scale_returns()\n",
    "scaled_Returns"
   ]
  },
  {
   "cell_type": "markdown",
   "id": "12de2486-42cf-4f1e-93be-60794bfe58e2",
   "metadata": {},
   "source": [
    "### Let's quickly visualize the returns as histograms to see the probability distributions of daily returns\n",
    "* The daily returns are approximately normally distributed in a bell-shaped curve, as expected, with a peak around 0%."
   ]
  },
  {
   "cell_type": "code",
   "execution_count": 19,
   "id": "6244786c-a942-4d67-92d1-7ce55b5867dc",
   "metadata": {},
   "outputs": [
    {
     "data": {
      "image/png": "[encoded data removed]",
      "text/plain": [
       "<Figure size 640x480 with 1 Axes>"
      ]
     },
     "metadata": {},
     "output_type": "display_data"
    },
    {
     "data": {
      "image/png": "[encoded data removed]",
      "text/plain": [
       "<Figure size 640x480 with 1 Axes>"
      ]
     },
     "metadata": {},
     "output_type": "display_data"
    },
    {
     "data": {
      "image/png": "[encoded data removed]",
      "text/plain": [
       "<Figure size 640x480 with 1 Axes>"
      ]
     },
     "metadata": {},
     "output_type": "display_data"
    }
   ],
   "source": [
    "for t in tickers: \n",
    "    data = scaled_Returns[t]\n",
    "    data.plot(kind='hist', \n",
    "              bins=100, \n",
    "              edgecolor='black', \n",
    "              title = t + ' Daily Returns')\n",
    "    plt.show()"
   ]
  },
  {
   "cell_type": "markdown",
   "id": "203a2862-2031-45b5-a5c5-d9860a617c36",
   "metadata": {},
   "source": [
    "### Voila! We have a neat dataframe with daily returns. We're now ready to calculate expected return and volatility."
   ]
  },
  {
   "cell_type": "code",
   "execution_count": 20,
   "id": "e98529e8-eb77-4940-a715-81fc31573d19",
   "metadata": {},
   "outputs": [],
   "source": [
    "def risk_and_return(self):\n",
    "    \"\"\"Calculate annualized portfolio risk and expected return using daily log (continuous) returns.\n",
    "       Returns risk-free rate and sharpe ratio as well.\"\"\"\n",
    "    # Get scaled returns dataframe\n",
    "    returns = self.scale_returns() \n",
    "    \n",
    "    # Create covariance matrix dataframe. Annualize based on number of trading days per year\n",
    "    cov_matrix = returns.cov() * 252\n",
    "\n",
    "    # Convert weights from series to numpy array, ensuring order of weights matches order of columns\n",
    "    weights_array = self.scale_weights().set_index('Symbol')['Weight'].reindex(cov_matrix.columns).fillna(0).to_numpy()\n",
    "\n",
    "    # Calculate portfolio risk using NumPy dot product\n",
    "    portfolio_risk = np.sqrt(np.dot(weights_array, np.dot(cov_matrix, weights_array)))\n",
    "\n",
    "    # Calculate the portfolio's expected return as a weighted average\n",
    "    portfolio_expected_return = (returns.mean() * 252 * weights_array).sum()\n",
    "\n",
    "    risk_free_rate = rf_rate()\n",
    "    \n",
    "    sharpe_ratio = (portfolio_expected_return - risk_free_rate) / portfolio_risk\n",
    "    \n",
    "    return portfolio_expected_return, risk_free_rate, portfolio_risk, sharpe_ratio"
   ]
  },
  {
   "cell_type": "markdown",
   "id": "40d01c01-0425-4c66-bac1-e384b61aadbd",
   "metadata": {},
   "source": [
    "### This function does a lot. \n",
    "* It calculates the portfolio's risk and expected return.\n",
    "* It calculates the risk-free rate of return.\n",
    "* It calculates the portfolio's Sharpe Ratio.\n",
    "---\n",
    "# $$\\text{Sharpe Ratio} = \\frac{R_p - R_f}{\\sigma_p}$$\n",
    "#### * $R_p$: Return of the portfolio  \n",
    "#### * $R_f$: Return of a risk-free asset (e.g. short-term US Treasury bonds)  \n",
    "#### * $\\sigma_p$: Standard deviation of the portfolio's returns\n",
    "\n",
    "### Standard Deviation Formula:\n",
    "## $\\sigma = \\sqrt{\\frac{1}{N - 1} \\sum_{i=1}^{N} (x_i - \\bar{x})^2}$\n",
    "- **$\\sigma$** — Standard deviation (measure of volatility or dispersion).  \n",
    "- **$N$** — Number of observations (e.g., trading days).  \n",
    "- **$x_i$** — Each individual data point (e.g., a daily return).  \n",
    "- **$\\bar{x}$** — Mean (average) of all data points.  \n",
    "- **$(x_i - \\bar{x})^2$** — Squared deviation of each point from the mean.  \n",
    "- **$\\frac{1}{N - 1}$** — Normalization factor (uses *N − 1* for an unbiased sample estimate).\n"
   ]
  },
  {
   "cell_type": "markdown",
   "id": "e5d4d7f6-a31b-477d-9671-b90ca9a9b99d",
   "metadata": {},
   "source": [
    "## Calculating Portfolio Risk \n",
    "---\n",
    "#### * **Portfolio risk** (standard deviation) measures the overall volatility of a portfolio's returns.\n",
    "#### * It considers individual asset risks ($\\sigma_i$) and their correlations ($\\rho_{ij}$).\n",
    "#### * It also considers asset weights in the portfolio.\n",
    "\n",
    "#### For 2 assets:\n",
    "## $$ \\sigma_p = \\sqrt{w_1^2 \\sigma_1^2 + w_2^2 \\sigma_2^2 + 2 w_1 w_2 \\sigma_1 \\sigma_2 \\rho_{12}}$$\n",
    "\n",
    "#### For 3 assets:\n",
    "## $$ \\sigma_p = \\sqrt{w_1^2 \\sigma_1^2 + w_2^2 \\sigma_2^2 + w_3^2 \\sigma_3^2 + 2 w_1 w_2 \\sigma_1 \\sigma_2 \\rho_{12} + 2 w_1 w_3 \\sigma_1 \\sigma_3\\rho_{13} + 2 w_2 w_3 \\sigma_2 \\sigma_3 \\rho_{23}}$$\n",
    "* The math gets significantly more complex and error-prone from there. \n",
    "* The number of terms greatly expands, so we use a covariance matrix to automate the calculations."
   ]
  },
  {
   "cell_type": "markdown",
   "id": "57367a5a-fa78-4b35-beab-51c720302f91",
   "metadata": {},
   "source": [
    "## Portfolio Expected Return\n",
    "---\n",
    "#### The portfolio expected return is the weighted sum of the expected returns of its assets:\n",
    "## $$E(R_p) = \\sum_i w_i E(R_i)$$\n",
    "\n",
    "#### - $w_i$ = weight of asset $i$ in the portfolio\n",
    "#### - $E(R_i)$ = expected return of asset $i$\n",
    "\n",
    "* We calculate the mean daily return of each asset.\n",
    "* Then we multiply by 252 (the number of trading days per year) to annualizes the daily return.\n",
    "* We use the sum product to compute the weighted sum of these annualized returns to get total expected return for the portfolio."
   ]
  },
  {
   "cell_type": "markdown",
   "id": "801a95d3-9439-4d55-9480-24d430783222",
   "metadata": {},
   "source": [
    "#### For 3 Assets:\n",
    "## $$E(R_p) = w_1 E(R_1) + w_2 E(R_2) + w_3 E(R_3)$$\n",
    "\n",
    "* This is basically the sumproduct function in Excel. Much simpler than the risk calculation!"
   ]
  },
  {
   "cell_type": "markdown",
   "id": "00a52d0e-6c26-4666-a43b-50f94c829ca2",
   "metadata": {},
   "source": [
    "### Phew! Heavy theory. But it's pretty slick in Python. Let's calculate return. The payoff is coming soon..."
   ]
  },
  {
   "cell_type": "code",
   "execution_count": 21,
   "id": "9ada1a64-2a93-422c-9e51-8f7b1ed52239",
   "metadata": {},
   "outputs": [
    {
     "data": {
      "text/html": [
       "<div>\n",
       "<style scoped>\n",
       "    .dataframe tbody tr th:only-of-type {\n",
       "        vertical-align: middle;\n",
       "    }\n",
       "\n",
       "    .dataframe tbody tr th {\n",
       "        vertical-align: top;\n",
       "    }\n",
       "\n",
       "    .dataframe thead th {\n",
       "        text-align: right;\n",
       "    }\n",
       "</style>\n",
       "<table border=\"1\" class=\"dataframe\">\n",
       "  <thead>\n",
       "    <tr style=\"text-align: right;\">\n",
       "      <th>Ticker</th>\n",
       "      <th>AMZN</th>\n",
       "      <th>MSFT</th>\n",
       "      <th>GOOGL</th>\n",
       "      <th>Cash Reserves</th>\n",
       "    </tr>\n",
       "    <tr>\n",
       "      <th>Date</th>\n",
       "      <th></th>\n",
       "      <th></th>\n",
       "      <th></th>\n",
       "      <th></th>\n",
       "    </tr>\n",
       "  </thead>\n",
       "  <tbody>\n",
       "    <tr>\n",
       "      <th>1986-03-13</th>\n",
       "      <td>NaN</td>\n",
       "      <td>NaN</td>\n",
       "      <td>NaN</td>\n",
       "      <td>0.0</td>\n",
       "    </tr>\n",
       "    <tr>\n",
       "      <th>1986-03-14</th>\n",
       "      <td>NaN</td>\n",
       "      <td>0.035089</td>\n",
       "      <td>NaN</td>\n",
       "      <td>0.0</td>\n",
       "    </tr>\n",
       "    <tr>\n",
       "      <th>1986-03-17</th>\n",
       "      <td>NaN</td>\n",
       "      <td>0.017103</td>\n",
       "      <td>NaN</td>\n",
       "      <td>0.0</td>\n",
       "    </tr>\n",
       "    <tr>\n",
       "      <th>1986-03-18</th>\n",
       "      <td>NaN</td>\n",
       "      <td>-0.025761</td>\n",
       "      <td>NaN</td>\n",
       "      <td>0.0</td>\n",
       "    </tr>\n",
       "    <tr>\n",
       "      <th>1986-03-19</th>\n",
       "      <td>NaN</td>\n",
       "      <td>-0.017544</td>\n",
       "      <td>NaN</td>\n",
       "      <td>0.0</td>\n",
       "    </tr>\n",
       "    <tr>\n",
       "      <th>...</th>\n",
       "      <td>...</td>\n",
       "      <td>...</td>\n",
       "      <td>...</td>\n",
       "      <td>...</td>\n",
       "    </tr>\n",
       "    <tr>\n",
       "      <th>2025-10-15</th>\n",
       "      <td>-0.003797</td>\n",
       "      <td>-0.000273</td>\n",
       "      <td>0.022479</td>\n",
       "      <td>0.0</td>\n",
       "    </tr>\n",
       "    <tr>\n",
       "      <th>2025-10-16</th>\n",
       "      <td>-0.005116</td>\n",
       "      <td>-0.003551</td>\n",
       "      <td>0.001712</td>\n",
       "      <td>0.0</td>\n",
       "    </tr>\n",
       "    <tr>\n",
       "      <th>2025-10-17</th>\n",
       "      <td>-0.006690</td>\n",
       "      <td>0.003843</td>\n",
       "      <td>0.007291</td>\n",
       "      <td>0.0</td>\n",
       "    </tr>\n",
       "    <tr>\n",
       "      <th>2025-10-20</th>\n",
       "      <td>0.016018</td>\n",
       "      <td>0.006231</td>\n",
       "      <td>0.012749</td>\n",
       "      <td>0.0</td>\n",
       "    </tr>\n",
       "    <tr>\n",
       "      <th>2025-10-21</th>\n",
       "      <td>0.025314</td>\n",
       "      <td>0.001682</td>\n",
       "      <td>-0.024024</td>\n",
       "      <td>0.0</td>\n",
       "    </tr>\n",
       "  </tbody>\n",
       "</table>\n",
       "<p>9980 rows × 4 columns</p>\n",
       "</div>"
      ],
      "text/plain": [
       "Ticker          AMZN      MSFT     GOOGL  Cash Reserves\n",
       "Date                                                   \n",
       "1986-03-13       NaN       NaN       NaN            0.0\n",
       "1986-03-14       NaN  0.035089       NaN            0.0\n",
       "1986-03-17       NaN  0.017103       NaN            0.0\n",
       "1986-03-18       NaN -0.025761       NaN            0.0\n",
       "1986-03-19       NaN -0.017544       NaN            0.0\n",
       "...              ...       ...       ...            ...\n",
       "2025-10-15 -0.003797 -0.000273  0.022479            0.0\n",
       "2025-10-16 -0.005116 -0.003551  0.001712            0.0\n",
       "2025-10-17 -0.006690  0.003843  0.007291            0.0\n",
       "2025-10-20  0.016018  0.006231  0.012749            0.0\n",
       "2025-10-21  0.025314  0.001682 -0.024024            0.0\n",
       "\n",
       "[9980 rows x 4 columns]"
      ]
     },
     "execution_count": 21,
     "metadata": {},
     "output_type": "execute_result"
    }
   ],
   "source": [
    "p.scale_returns()"
   ]
  },
  {
   "cell_type": "code",
   "execution_count": 22,
   "id": "c0b035ed-bc89-4891-b954-2e4b6d7025a1",
   "metadata": {},
   "outputs": [
    {
     "data": {
      "text/plain": [
       "Ticker\n",
       "AMZN             0.001080\n",
       "MSFT             0.000909\n",
       "GOOGL            0.000865\n",
       "Cash Reserves    0.000000\n",
       "dtype: float64"
      ]
     },
     "execution_count": 22,
     "metadata": {},
     "output_type": "execute_result"
    }
   ],
   "source": [
    "p.scale_returns().mean()"
   ]
  },
  {
   "cell_type": "code",
   "execution_count": 23,
   "id": "7c293e9b-75f5-418a-baf5-0549ee19a93f",
   "metadata": {},
   "outputs": [
    {
     "data": {
      "text/plain": [
       "Ticker\n",
       "AMZN             0.272203\n",
       "MSFT             0.229073\n",
       "GOOGL            0.218057\n",
       "Cash Reserves    0.000000\n",
       "dtype: float64"
      ]
     },
     "execution_count": 23,
     "metadata": {},
     "output_type": "execute_result"
    }
   ],
   "source": [
    "p.scale_returns().mean() * 252"
   ]
  },
  {
   "cell_type": "code",
   "execution_count": 24,
   "id": "2ab0503e-916d-4c8b-bbfa-0036cd8fa139",
   "metadata": {},
   "outputs": [
    {
     "data": {
      "text/plain": [
       "[0.2, 0.3, 0.4, 0.1]"
      ]
     },
     "execution_count": 24,
     "metadata": {},
     "output_type": "execute_result"
    }
   ],
   "source": [
    "stock_weights + [cash_weight]"
   ]
  },
  {
   "cell_type": "code",
   "execution_count": 25,
   "id": "38e5ea61-cbd3-4e19-9af3-9fba5d484d17",
   "metadata": {},
   "outputs": [
    {
     "data": {
      "text/plain": [
       "np.float64(0.21038523976391027)"
      ]
     },
     "execution_count": 25,
     "metadata": {},
     "output_type": "execute_result"
    }
   ],
   "source": [
    "portfolio_expected_return = np.dot(p.scale_returns().mean() * 252, stock_weights + [cash_weight])\n",
    "portfolio_expected_return"
   ]
  },
  {
   "cell_type": "markdown",
   "id": "776af92a-fff3-4cb9-a033-b4dddfe08e27",
   "metadata": {},
   "source": [
    "### Let's check manually"
   ]
  },
  {
   "cell_type": "code",
   "execution_count": 26,
   "id": "9e7cb634-f902-4971-81e4-eba6d4537e1c",
   "metadata": {},
   "outputs": [
    {
     "data": {
      "text/plain": [
       "0.2103853"
      ]
     },
     "execution_count": 26,
     "metadata": {},
     "output_type": "execute_result"
    }
   ],
   "source": [
    "(0.272203 * 0.2) + (0.229073 * 0.3) + (0.218057 * 0.4) + (0.1 * 0)"
   ]
  },
  {
   "cell_type": "markdown",
   "id": "e89f57b0-e3fa-43c8-beb7-07ca75fd5381",
   "metadata": {},
   "source": [
    "#### Basically the same result. The difference is due to rounding. So you see how it works for return, it's very simple.\n",
    "* Get the daily close price data.\n",
    "* Calculate the continuously compounded daily returns using natural log (LN).\n",
    "* Find the average of those daily returns (often thousands of samples per stock!)\n",
    "* Annualize that average so it's a yearly return, not a daily one.\n",
    "* Do the sumproduct of the weights based on stock's weight and its annualized return."
   ]
  },
  {
   "cell_type": "markdown",
   "id": "6e76d6df-1605-4c3f-8635-440d5377f6f5",
   "metadata": {},
   "source": [
    "### Now. Let's create a covariance matrix."
   ]
  },
  {
   "cell_type": "code",
   "execution_count": 27,
   "id": "5585f5eb-cf7a-41bf-bda7-b8eeafc57c94",
   "metadata": {},
   "outputs": [
    {
     "data": {
      "text/html": [
       "<div>\n",
       "<style scoped>\n",
       "    .dataframe tbody tr th:only-of-type {\n",
       "        vertical-align: middle;\n",
       "    }\n",
       "\n",
       "    .dataframe tbody tr th {\n",
       "        vertical-align: top;\n",
       "    }\n",
       "\n",
       "    .dataframe thead th {\n",
       "        text-align: right;\n",
       "    }\n",
       "</style>\n",
       "<table border=\"1\" class=\"dataframe\">\n",
       "  <thead>\n",
       "    <tr style=\"text-align: right;\">\n",
       "      <th>Ticker</th>\n",
       "      <th>AMZN</th>\n",
       "      <th>MSFT</th>\n",
       "      <th>GOOGL</th>\n",
       "      <th>Cash Reserves</th>\n",
       "    </tr>\n",
       "    <tr>\n",
       "      <th>Ticker</th>\n",
       "      <th></th>\n",
       "      <th></th>\n",
       "      <th></th>\n",
       "      <th></th>\n",
       "    </tr>\n",
       "  </thead>\n",
       "  <tbody>\n",
       "    <tr>\n",
       "      <th>AMZN</th>\n",
       "      <td>0.001189</td>\n",
       "      <td>0.000280</td>\n",
       "      <td>0.000237</td>\n",
       "      <td>0.0</td>\n",
       "    </tr>\n",
       "    <tr>\n",
       "      <th>MSFT</th>\n",
       "      <td>0.000280</td>\n",
       "      <td>0.000441</td>\n",
       "      <td>0.000183</td>\n",
       "      <td>0.0</td>\n",
       "    </tr>\n",
       "    <tr>\n",
       "      <th>GOOGL</th>\n",
       "      <td>0.000237</td>\n",
       "      <td>0.000183</td>\n",
       "      <td>0.000369</td>\n",
       "      <td>0.0</td>\n",
       "    </tr>\n",
       "    <tr>\n",
       "      <th>Cash Reserves</th>\n",
       "      <td>0.000000</td>\n",
       "      <td>0.000000</td>\n",
       "      <td>0.000000</td>\n",
       "      <td>0.0</td>\n",
       "    </tr>\n",
       "  </tbody>\n",
       "</table>\n",
       "</div>"
      ],
      "text/plain": [
       "Ticker             AMZN      MSFT     GOOGL  Cash Reserves\n",
       "Ticker                                                    \n",
       "AMZN           0.001189  0.000280  0.000237            0.0\n",
       "MSFT           0.000280  0.000441  0.000183            0.0\n",
       "GOOGL          0.000237  0.000183  0.000369            0.0\n",
       "Cash Reserves  0.000000  0.000000  0.000000            0.0"
      ]
     },
     "execution_count": 27,
     "metadata": {},
     "output_type": "execute_result"
    }
   ],
   "source": [
    "p.scale_returns().cov()"
   ]
  },
  {
   "cell_type": "markdown",
   "id": "de33526b-a118-4420-84ca-e328ec0423c4",
   "metadata": {},
   "source": [
    "### This table represents the **covariances** between the returns of each pair of assets.\n",
    "* Larger values mean the assets tend to move together more.\n",
    "* Diagonal elements represent the **variance** of each asset.\n",
    "* Cash has **zero** covariance with any of the stocks."
   ]
  },
  {
   "cell_type": "markdown",
   "id": "a69f6cd6-2b0d-4c65-bf1b-65e4f75706a4",
   "metadata": {},
   "source": [
    "#### Let's examine the risk formula for 4 assets:\n",
    "#### $$ \n",
    "\\sigma_p = \\sqrt{\n",
    "w_1^2 \\sigma_1^2 + \n",
    "w_2^2 \\sigma_2^2 + \n",
    "w_3^2 \\sigma_3^2 + \n",
    "w_4^2 \\sigma_4^2 + \n",
    "2 w_1 w_2 \\sigma_1 \\sigma_2 \\rho_{12} + \n",
    "2 w_1 w_3 \\sigma_1 \\sigma_3 \\rho_{13} + \n",
    "2 w_1 w_4 \\sigma_1 \\sigma_4 \\rho_{14} + \n",
    "2 w_2 w_3 \\sigma_2 \\sigma_3 \\rho_{23} + \n",
    "2 w_2 w_4 \\sigma_2 \\sigma_4 \\rho_{24} + \n",
    "2 w_3 w_4 \\sigma_3 \\sigma_4 \\rho_{34}\n",
    "} \n",
    "$$\n",
    "\n",
    "* But the standard deviation for the fourth asset (Cash) is 0.\n",
    "* Any covariance that includes cash is also 0.\n",
    "* So all terms involving $\\sigma_4$ and $\\rho_4$ become 0, and the formula simplifies to the formula for 3 assets:\n",
    "### $$ \n",
    "\\sigma_p = \\sqrt{\n",
    "w_1^2 \\sigma_1^2 + \n",
    "w_2^2 \\sigma_2^2 + \n",
    "w_3^2 \\sigma_3^2 + \n",
    "2 w_1 w_2 \\sigma_1 \\sigma_2 \\rho_{12} + \n",
    "2 w_1 w_3 \\sigma_1 \\sigma_3 \\rho_{13} + \n",
    "2 w_2 w_3 \\sigma_2 \\sigma_3 \\rho_{23}\n",
    "} \n",
    "$$"
   ]
  },
  {
   "cell_type": "markdown",
   "id": "c80c3836-a887-4669-930d-70b70a34b52d",
   "metadata": {},
   "source": [
    "### Let's calculate manually first and then check it against our NumPy matrix shortcut\n",
    "Start by calculating standard deviation for each stock's daily returns (it's 0 by default for cash)"
   ]
  },
  {
   "cell_type": "code",
   "execution_count": 28,
   "id": "5a3de9eb-5e31-49e6-a61f-a749f9b0c51f",
   "metadata": {},
   "outputs": [
    {
     "data": {
      "text/plain": [
       "Ticker\n",
       "AMZN             0.034483\n",
       "MSFT             0.020998\n",
       "GOOGL            0.019221\n",
       "Cash Reserves    0.000000\n",
       "dtype: float64"
      ]
     },
     "execution_count": 28,
     "metadata": {},
     "output_type": "execute_result"
    }
   ],
   "source": [
    "p.scale_returns().std()"
   ]
  },
  {
   "cell_type": "markdown",
   "id": "33f6f915-ab9f-4c2f-9b62-b24bf023ee64",
   "metadata": {},
   "source": [
    "#### Also note the correlation coefficient formula:\n",
    "\n",
    "The correlation between two assets is calculated by dividing their covariance by the product of their standard deviations:\n",
    "\n",
    "### $$\\rho_{ij} = \\frac{\\text{cov}(r_i, r_j)}{\\sigma_i \\sigma_j}$$\n",
    "\n",
    "### Now let's set up this super messy formula. "
   ]
  },
  {
   "cell_type": "code",
   "execution_count": 29,
   "id": "dbebc5e2-8b0d-403a-a36c-074bac8c7720",
   "metadata": {},
   "outputs": [
    {
     "data": {
      "text/plain": [
       "np.float64(0.2568518068321887)"
      ]
     },
     "execution_count": 29,
     "metadata": {},
     "output_type": "execute_result"
    }
   ],
   "source": [
    "w1 = 0.2\n",
    "w2 = 0.3\n",
    "w3 = 0.4\n",
    "\n",
    "s1 = 0.034483\n",
    "s2 = 0.020998\n",
    "s3 = 0.019221\n",
    "\n",
    "cov12 = 0.000280\n",
    "cov13 = 0.000237\n",
    "cov23 = 0.000183\n",
    "\n",
    "corr12 = cov12 / (s1 * s2)\n",
    "corr13 = cov13 / (s1 * s3)\n",
    "corr23 = cov23 / (s2 * s3)\n",
    "\n",
    "risk1 = np.sqrt(252) * np.sqrt((w1**2 * s1**2) + \n",
    "                              (w2**2 * s2**2) + \n",
    "                              (w3**2 * s3**2) + \n",
    "                              (2*w1*w2*s1*s2*corr12) + \n",
    "                              (2*w1*w3*s1*s3*corr13) + \n",
    "                              (2*w2*w3*s2*s3*corr23))\n",
    "risk1"
   ]
  },
  {
   "cell_type": "markdown",
   "id": "e610ba2b-39c1-40e3-ab02-0ba2a6ada292",
   "metadata": {},
   "source": [
    "* We multiply by sqrt(252) because we need ANNUALIZED calculations, just like how we annualized returns previously"
   ]
  },
  {
   "cell_type": "markdown",
   "id": "0b77bc7a-0dd7-465b-b7b8-5d15c089f0f7",
   "metadata": {},
   "source": [
    "### Now let's use the linear algebra shortcut: covariance matrix and NumPy dot product."
   ]
  },
  {
   "cell_type": "code",
   "execution_count": 30,
   "id": "b91d30f8-8718-40aa-ba5a-80ac6d9fa547",
   "metadata": {},
   "outputs": [
    {
     "data": {
      "text/plain": [
       "np.float64(0.25682666390218245)"
      ]
     },
     "execution_count": 30,
     "metadata": {},
     "output_type": "execute_result"
    }
   ],
   "source": [
    "cov_matrix = p.scale_returns().cov() * 252\n",
    "weights_array = np.array(p.scale_weights()['Weight'])\n",
    "risk2 = np.sqrt(np.dot(weights_array, np.dot(cov_matrix, weights_array)))\n",
    "risk2"
   ]
  },
  {
   "cell_type": "markdown",
   "id": "7b4c5f22-212e-4a66-aea8-0603be3daf6d",
   "metadata": {},
   "source": [
    "#### The only difference is due to rounding. Boom. Our code works perfectly. Let's get the Sharpe Ratio now."
   ]
  },
  {
   "cell_type": "code",
   "execution_count": 31,
   "id": "62b7e96d-0ce2-4225-bbb6-89484c5898cc",
   "metadata": {},
   "outputs": [
    {
     "data": {
      "text/plain": [
       "np.float64(0.6497971714785497)"
      ]
     },
     "execution_count": 31,
     "metadata": {},
     "output_type": "execute_result"
    }
   ],
   "source": [
    "sharpe_ratio = (portfolio_expected_return - rf_rate()) / risk2\n",
    "sharpe_ratio"
   ]
  },
  {
   "cell_type": "markdown",
   "id": "f88baa0b-8721-41ec-b85f-55cb1c3646d6",
   "metadata": {},
   "source": [
    "### What this means:\n",
    "* The Sharpe ratio is a measure of **risk-adusted return**.\n",
    "* It tells you approximately how much return you'll earn for a given level of risk.\n",
    "* It's easy to earn high returns in the market. But those usually come with **high risk** and greater volatility.\n",
    "* It's also easy to make **low-risk** investments. However, these might not always optimize for the **highest** returns.\n",
    "* What we want to maximize is the **risk-adjusted** return.\n",
    "* In other words: for a given level of risk, we want to maximize the return of the portfolio.\n",
    "* Stated another way: for a given desired return on the portfolio, we want to miinimize the level of portfolio risk."
   ]
  },
  {
   "cell_type": "markdown",
   "id": "c04f0f97-8d2e-4dc5-afef-8f8706b49de9",
   "metadata": {},
   "source": [
    "### Putting it all together\n",
    "* We have the inputs to the sharpe ratio formula now.\n",
    "* Let's bypass all this math with a single function"
   ]
  },
  {
   "cell_type": "markdown",
   "id": "e7451067-99a3-4a04-966a-325c7060bc72",
   "metadata": {},
   "source": [
    "### Let's add the method to the class and demonstrate."
   ]
  },
  {
   "cell_type": "code",
   "execution_count": 32,
   "id": "1e06c51c-9e0a-4606-8d01-30b9595dae26",
   "metadata": {},
   "outputs": [],
   "source": [
    "Portfolio.risk_and_return = risk_and_return"
   ]
  },
  {
   "cell_type": "markdown",
   "id": "fcb02557-6454-4bdf-905b-6da789b856e8",
   "metadata": {},
   "source": [
    "### Define a function to print the portfolio's output stats."
   ]
  },
  {
   "cell_type": "code",
   "execution_count": 33,
   "id": "df6f822d-b8ba-414e-ab05-a4fcfab69794",
   "metadata": {},
   "outputs": [],
   "source": [
    "def print_stats(self): \n",
    "    p_return, Rf, p_risk, p_sharpe = self.risk_and_return() \n",
    "    print(f'Expected Return: {p_return: .4f}')\n",
    "    print(f'Risk-Free Rate: {Rf: .4f}')\n",
    "    print(f'Standard Deviation: {p_risk: .4f}')\n",
    "    print(f'Sharpe Ratio: {p_sharpe: .4f}')"
   ]
  },
  {
   "cell_type": "code",
   "execution_count": 34,
   "id": "3898776a-94cd-4f81-86d4-219e8cd176b9",
   "metadata": {},
   "outputs": [],
   "source": [
    "Portfolio.print_stats = print_stats"
   ]
  },
  {
   "cell_type": "code",
   "execution_count": 35,
   "id": "895550fc-8d1c-4701-ac4b-e705c1bcf19a",
   "metadata": {},
   "outputs": [
    {
     "name": "stdout",
     "output_type": "stream",
     "text": [
      "Expected Return:  0.2104\n",
      "Risk-Free Rate:  0.0435\n",
      "Standard Deviation:  0.2568\n",
      "Sharpe Ratio:  0.6498\n"
     ]
    }
   ],
   "source": [
    "p.print_stats()"
   ]
  },
  {
   "cell_type": "markdown",
   "id": "cebe372c-7ed5-4119-b22b-1db7d8d9b88f",
   "metadata": {},
   "source": [
    "### Ok, we've accomplished our goal, but soon we'll apply this logic to create cooler things.\n",
    "For now, let's note:\n",
    "* The portfolio has an expected return of approximately 21%.\n",
    "* The standard deviation of returns is about 26%.\n",
    "* This means some years might see negative returns, while other years returns could approach over 40%.\n",
    "* The Sharpe Ratio is around 0.65, which is roughly the historical baseline for the S&P 500 (around 0.5).\n",
    "* However, we want to aim for a GREAT Sharpe Ratio — typically anything above 1.0 is considered excellent.\n"
   ]
  },
  {
   "cell_type": "markdown",
   "id": "49274b80-902e-40b2-b909-8760934b22ef",
   "metadata": {},
   "source": [
    "### Let's visualize our portfolio's weights"
   ]
  },
  {
   "cell_type": "code",
   "execution_count": 36,
   "id": "b7104169-767a-46a1-b5fa-2e9fe95e7a6f",
   "metadata": {},
   "outputs": [],
   "source": [
    "def plot_weights(self):\n",
    "    \"\"\"Take scaled weights dataframe and plot allocation percentages with horizontal bar graph\"\"\"\n",
    "    weights_df = self.scale_weights()\n",
    "    fig, ax = plt.subplots(figsize=(5, 3)) \n",
    "    ax.barh(weights_df['Symbol'], \n",
    "            weights_df['Weight'], \n",
    "            color='blue', \n",
    "            height=0.5)  # Bar thickness\n",
    "    \n",
    "    ax.set_xlabel('Weight (%)')\n",
    "    ax.set_title('Portfolio Weights by Symbol')\n",
    "    plt.tight_layout()\n",
    "    plt.show()"
   ]
  },
  {
   "cell_type": "code",
   "execution_count": 37,
   "id": "fc96cb90-2fef-40b8-86c5-04a3ca8ee2c6",
   "metadata": {},
   "outputs": [],
   "source": [
    "Portfolio.plot_weights = plot_weights"
   ]
  },
  {
   "cell_type": "code",
   "execution_count": 38,
   "id": "740f1300-c449-4bee-80e3-f65ff47b54e8",
   "metadata": {},
   "outputs": [
    {
     "data": {
      "image/png": "[encoded data removed]",
      "text/plain": [
       "<Figure size 500x300 with 1 Axes>"
      ]
     },
     "metadata": {},
     "output_type": "display_data"
    }
   ],
   "source": [
    "p.plot_weights()"
   ]
  },
  {
   "cell_type": "markdown",
   "id": "668debe8-660a-4185-9b29-739de0abe5d5",
   "metadata": {},
   "source": [
    "### Very cool! Let's quickly add a lot more symbols and weight them equally."
   ]
  },
  {
   "cell_type": "code",
   "execution_count": 39,
   "id": "3f8cc5c3-5407-4a36-96e3-7bde9c9d95f3",
   "metadata": {},
   "outputs": [
    {
     "name": "stdout",
     "output_type": "stream",
     "text": [
      "Expected Return:  0.1457\n",
      "Risk-Free Rate:  0.0435\n",
      "Standard Deviation:  0.1741\n",
      "Sharpe Ratio:  0.5869\n"
     ]
    }
   ],
   "source": [
    "tickers2 = ['AMZN', 'MSFT', 'GOOGL', 'CPB', 'GIS', 'PFE', 'O', 'MCD', 'SBUX', 'CVX']\n",
    "weights = [1/len(tickers2)] * len(tickers2) \n",
    "p2 = Portfolio(tickers2, weights, 0.05)\n",
    "p2.print_stats()"
   ]
  },
  {
   "cell_type": "markdown",
   "id": "2473e9f3-65ba-47ab-92d9-ce4ccc05da9f",
   "metadata": {},
   "source": [
    "### Notice that the **Sharpe Ratio has decreased**! Oh no! \n",
    "* This is because we added a bunch of 'boring' non-tech companies.\n",
    "* The expected return went down from 21% to approximately 15%.\n",
    "* The volatility also reduced from 26% to around 17%, which is good.\n",
    "* But our risk-adjusted return is now lower. No bueno.\n",
    "### We'll examine stock selection methods in a moment, and learn how to **increase** Sharpe Ratio. Stick with it."
   ]
  },
  {
   "cell_type": "code",
   "execution_count": 40,
   "id": "eb32c732-4eee-4883-896c-b8bb45464e44",
   "metadata": {},
   "outputs": [
    {
     "data": {
      "image/png": "[encoded data removed]",
      "text/plain": [
       "<Figure size 500x300 with 1 Axes>"
      ]
     },
     "metadata": {},
     "output_type": "display_data"
    }
   ],
   "source": [
    "p2.plot_weights()"
   ]
  },
  {
   "cell_type": "markdown",
   "id": "70346283-9b8b-4b68-ab57-b59ae14cddf5",
   "metadata": {},
   "source": [
    "#### Notice that the cash weight remained 5% (the absolute amount we specified) while the rest of the stocks were allocated equally."
   ]
  },
  {
   "cell_type": "markdown",
   "id": "40b66174-c7c9-4c76-aa93-2724a2fa115b",
   "metadata": {},
   "source": [
    "### Now let's turn to stock selection. How can we choose stocks to increase the portfolio's Sharpe Ratio?\n",
    "* As you **diversify** a portfolio by adding more stocks to it, it's possible to increase the risk-adjusted return.\n",
    "* This occurs if the assets have less volatility and/or correlation with one another.\n",
    "* By adding stocks with high ratios to the portfolio we can achieve a much higher ratio than each stock could achieve on its own.\n",
    "* It's possible to diversify away idiosynchratic risk associated with individual securities.\n",
    "* But it's NOT possible to reduce systemic, market risk through diversification.\n",
    "* For example one cannot diversify to protect against recessions, wars, covid, black swan events, etc. "
   ]
  },
  {
   "cell_type": "markdown",
   "id": "18c71145-a094-49a8-b982-8ab392b68fd8",
   "metadata": {},
   "source": [
    "### Let's define a function to examine and filter the Sharpe Ratios for multiple stocks.\n",
    "* This works similar to the previous 'risk_and_return' function, so let's not rehash the details of the code.\n",
    "* Thankfully it **does** skip the linear alegbra!  :-)\n",
    "* Anyhow, the magic is in the **application** of these principles, not the coding itself!\n",
    "* First we download all the stock data and put it in a dataframe\n",
    "* To speed up progress we limit the number of API calls.\n",
    "* Then we calculate daily returns using the natural log and annualize them.\n",
    "* Next we find the daily standard deviation of returns and annualize those.\n",
    "* We grab the risk-free rate and put it in a variable.\n",
    "* Finally we calculate the sharpe ratio and return a dataframe with the outputs, with symbols as keys."
   ]
  },
  {
   "cell_type": "code",
   "execution_count": 41,
   "id": "70834bef-b489-4692-b56a-50811c03a67c",
   "metadata": {},
   "outputs": [],
   "source": [
    "def get_sharpe_ratios(symbols):\n",
    "    # Build a DataFrame of each ticker’s full closing-price history, aligned by date.\n",
    "    data = yf.download(symbols, period=\"max\", auto_adjust=True, progress=True)[\"Close\"]\n",
    "    \n",
    "    # Build a dataframe of returns based on data using nautral logarithm\n",
    "    returns = np.log(data.values[1:] / data.values[:-1])\n",
    "    returns = pd.DataFrame(returns, index=data.index[1:], columns=data.columns)\n",
    "\n",
    "    # Drop NaNs per column and calculate annualized return and \n",
    "    # standard deviation for each column based on 252 trading days per day    \n",
    "    annualized_returns = returns.mean(skipna=True) * 252\n",
    "    annualized_volatility = returns.std(skipna=True) * np.sqrt(252)\n",
    "\n",
    "    # Calculate risk-free rate for use in Sharpe Ratio formula\n",
    "    risk_free_rate = rf_rate()\n",
    "\n",
    "    # Calculate sharpe ratios \n",
    "    sharpe_ratios = (annualized_returns - risk_free_rate) / annualized_volatility\n",
    "    \n",
    "    summary = pd.DataFrame({\"annual_return\": annualized_returns,\n",
    "                            \"annual_volatility\": annualized_volatility,\n",
    "                            \"sharpe_ratio\": sharpe_ratios})\n",
    "    return summary"
   ]
  },
  {
   "cell_type": "code",
   "execution_count": 42,
   "id": "c2494f33-39d8-4be7-b87f-6e4620d86a4b",
   "metadata": {},
   "outputs": [
    {
     "name": "stderr",
     "output_type": "stream",
     "text": [
      "[*********************100%***********************]  11 of 11 completed\n"
     ]
    },
    {
     "data": {
      "text/html": [
       "<div>\n",
       "<style scoped>\n",
       "    .dataframe tbody tr th:only-of-type {\n",
       "        vertical-align: middle;\n",
       "    }\n",
       "\n",
       "    .dataframe tbody tr th {\n",
       "        vertical-align: top;\n",
       "    }\n",
       "\n",
       "    .dataframe thead th {\n",
       "        text-align: right;\n",
       "    }\n",
       "</style>\n",
       "<table border=\"1\" class=\"dataframe\">\n",
       "  <thead>\n",
       "    <tr style=\"text-align: right;\">\n",
       "      <th></th>\n",
       "      <th>annual_return</th>\n",
       "      <th>annual_volatility</th>\n",
       "      <th>sharpe_ratio</th>\n",
       "    </tr>\n",
       "    <tr>\n",
       "      <th>Ticker</th>\n",
       "      <th></th>\n",
       "      <th></th>\n",
       "      <th></th>\n",
       "    </tr>\n",
       "  </thead>\n",
       "  <tbody>\n",
       "    <tr>\n",
       "      <th>AAPL</th>\n",
       "      <td>0.175857</td>\n",
       "      <td>0.446135</td>\n",
       "      <td>0.296674</td>\n",
       "    </tr>\n",
       "    <tr>\n",
       "      <th>ACGL</th>\n",
       "      <td>0.121929</td>\n",
       "      <td>0.288439</td>\n",
       "      <td>0.271910</td>\n",
       "    </tr>\n",
       "    <tr>\n",
       "      <th>ADI</th>\n",
       "      <td>0.138361</td>\n",
       "      <td>0.432835</td>\n",
       "      <td>0.219162</td>\n",
       "    </tr>\n",
       "    <tr>\n",
       "      <th>AMAT</th>\n",
       "      <td>0.177380</td>\n",
       "      <td>0.478477</td>\n",
       "      <td>0.279804</td>\n",
       "    </tr>\n",
       "    <tr>\n",
       "      <th>AMGN</th>\n",
       "      <td>0.168922</td>\n",
       "      <td>0.375214</td>\n",
       "      <td>0.334269</td>\n",
       "    </tr>\n",
       "    <tr>\n",
       "      <th>AON</th>\n",
       "      <td>0.126924</td>\n",
       "      <td>0.277633</td>\n",
       "      <td>0.300484</td>\n",
       "    </tr>\n",
       "    <tr>\n",
       "      <th>APA</th>\n",
       "      <td>0.054767</td>\n",
       "      <td>0.444489</td>\n",
       "      <td>0.025348</td>\n",
       "    </tr>\n",
       "    <tr>\n",
       "      <th>APH</th>\n",
       "      <td>0.203345</td>\n",
       "      <td>0.353738</td>\n",
       "      <td>0.451875</td>\n",
       "    </tr>\n",
       "    <tr>\n",
       "      <th>APO</th>\n",
       "      <td>0.197574</td>\n",
       "      <td>0.361356</td>\n",
       "      <td>0.426376</td>\n",
       "    </tr>\n",
       "    <tr>\n",
       "      <th>APP</th>\n",
       "      <td>0.474525</td>\n",
       "      <td>0.755071</td>\n",
       "      <td>0.570841</td>\n",
       "    </tr>\n",
       "    <tr>\n",
       "      <th>APTV</th>\n",
       "      <td>0.119233</td>\n",
       "      <td>0.372275</td>\n",
       "      <td>0.203433</td>\n",
       "    </tr>\n",
       "  </tbody>\n",
       "</table>\n",
       "</div>"
      ],
      "text/plain": [
       "        annual_return  annual_volatility  sharpe_ratio\n",
       "Ticker                                                \n",
       "AAPL         0.175857           0.446135      0.296674\n",
       "ACGL         0.121929           0.288439      0.271910\n",
       "ADI          0.138361           0.432835      0.219162\n",
       "AMAT         0.177380           0.478477      0.279804\n",
       "AMGN         0.168922           0.375214      0.334269\n",
       "AON          0.126924           0.277633      0.300484\n",
       "APA          0.054767           0.444489      0.025348\n",
       "APH          0.203345           0.353738      0.451875\n",
       "APO          0.197574           0.361356      0.426376\n",
       "APP          0.474525           0.755071      0.570841\n",
       "APTV         0.119233           0.372275      0.203433"
      ]
     },
     "execution_count": 42,
     "metadata": {},
     "output_type": "execute_result"
    }
   ],
   "source": [
    "mySymbols = [\"AMGN\", \"APH\", \"ADI\", \"AON\", \"APA\", \"APO\", \"AAPL\", \"AMAT\", \"APP\", \"APTV\", \"ACGL\"]\n",
    "\n",
    "df = get_sharpe_ratios(mySymbols)\n",
    "df"
   ]
  },
  {
   "cell_type": "markdown",
   "id": "5fbdf828-54f3-4b19-87ba-7b4d45f6536e",
   "metadata": {},
   "source": [
    "### Now let's calculate sharpe ratios for every stock in the S&P 500!"
   ]
  },
  {
   "cell_type": "code",
   "execution_count": 43,
   "id": "d9fb7055-53fb-4b5a-a9ac-a35ddb40156d",
   "metadata": {},
   "outputs": [],
   "source": [
    "sp500 = [\n",
    "    \"MMM\", \"AOS\", \"ABT\", \"ABBV\", \"ACN\", \"ADBE\", \"AMD\", \"AES\", \"AFL\", \"A\", \"APD\", \"ABNB\", \"AKAM\", \"ALB\", \"ARE\", \"ALGN\",\n",
    "    \"ALLE\", \"LNT\", \"ALL\", \"GOOGL\", \"GOOG\", \"MO\", \"AMZN\", \"AMCR\", \"AEE\", \"AEP\", \"AXP\", \"AIG\", \"AMT\", \"AWK\", \"AMP\", \"AME\",\n",
    "    \"AMGN\", \"APH\", \"ADI\", \"AON\", \"APA\", \"APO\", \"AAPL\", \"AMAT\", \"APP\", \"APTV\", \"ACGL\", \"ADM\", \"ANET\", \"AJG\", \"AIZ\", \"T\", \n",
    "    \"ATO\", \"ADSK\", \"ADP\", \"AZO\", \"AVB\", \"AVY\", \"AXON\", \"BKR\", \"BALL\", \"BAC\", \"BAX\", \"BDX\", \"BRK-B\", \"BBY\", \"TECH\", \"BIIB\", \n",
    "    \"BLK\", \"BX\", \"XYZ\", \"BK\", \"BA\", \"BKNG\", \"BSX\", \"BMY\", \"AVGO\", \"BR\", \"BRO\", \"BF-B\", \"BLDR\", \"BG\", \"BXP\", \"CHRW\", \"CDNS\", \n",
    "    \"CPT\", \"CPB\", \"COF\", \"CAH\", \"KMX\", \"CCL\", \"CARR\", \"CAT\", \"CBOE\", \"CBRE\", \"CDW\", \"COR\", \"CNC\", \"CNP\", \"CF\", \"CRL\", \"SCHW\", \n",
    "    \"CHTR\", \"CVX\", \"CMG\", \"CB\", \"CHD\", \"CI\", \"CINF\", \"CTAS\", \"CSCO\", \"C\", \"CFG\", \"CLX\", \"CME\", \"CMS\", \"KO\", \"CTSH\", \"COIN\", \n",
    "    \"CL\", \"CMCSA\", \"CAG\", \"COP\", \"ED\", \"STZ\", \"CEG\", \"COO\", \"CPRT\", \"GLW\", \"CPAY\", \"CTVA\", \"CSGP\", \"COST\", \"CTRA\", \"CRWD\", \n",
    "    \"CCI\", \"CSX\", \"CMI\", \"CVS\", \"DHR\", \"DRI\", \"DDOG\", \"DVA\", \"DAY\", \"DECK\", \"DE\", \"DELL\", \"DAL\", \"DVN\", \"DXCM\", \"FANG\", \"DLR\", \n",
    "    \"DG\", \"DLTR\", \"D\", \"DPZ\", \"DASH\", \"DOV\", \"DOW\", \"DHI\", \"DTE\", \"DUK\", \"DD\", \"EMN\", \"ETN\", \"EBAY\", \"ECL\", \"EIX\", \"EW\", \n",
    "    \"EA\", \"ELV\", \"EME\", \"EMR\", \"ETR\", \"EOG\", \"EPAM\", \"EQT\", \"EFX\", \"EQIX\", \"EQR\", \"ERIE\", \"ESS\", \"EL\", \"EG\", \"EVRG\", \"ES\", \n",
    "    \"EXC\", \"EXE\", \"EXPE\", \"EXPD\", \"EXR\", \"XOM\", \"FFIV\", \"FDS\", \"FICO\", \"FAST\", \"FRT\", \"FDX\", \"FIS\", \"FITB\", \"FSLR\", \"FE\", \n",
    "    \"FI\", \"F\", \"FTNT\", \"FTV\", \"FOXA\", \"FOX\", \"BEN\", \"FCX\", \"GRMN\", \"IT\", \"GE\", \"GEHC\", \"GEV\", \"GEN\", \"GNRC\", \"GD\", \"GIS\", \n",
    "    \"GM\", \"GPC\", \"GILD\", \"GPN\", \"GL\", \"GDDY\", \"GS\", \"HAL\", \"HIG\", \"HAS\", \"HCA\", \"DOC\", \"HSIC\", \"HSY\", \"HPE\", \"HLT\", \"HOLX\", \n",
    "    \"HD\", \"HON\", \"HRL\", \"HST\", \"HWM\", \"HPQ\", \"HUBB\", \"HUM\", \"HBAN\", \"HII\", \"IBM\", \"IEX\", \"IDXX\", \"ITW\", \"INCY\", \"IR\", \"PODD\", \n",
    "    \"INTC\", \"IBKR\", \"ICE\", \"IFF\", \"IP\", \"IPG\", \"INTU\", \"ISRG\", \"IVZ\", \"INVH\", \"IQV\", \"IRM\", \"JBHT\", \"JBL\", \"JKHY\", \"J\", \"JNJ\", \n",
    "    \"JCI\", \"JPM\", \"K\", \"KVUE\", \"KDP\", \"KEY\", \"KEYS\", \"KMB\", \"KIM\", \"KMI\", \"KKR\", \"KLAC\", \"KHC\", \"KR\", \"LHX\", \"LH\", \"LRCX\", \n",
    "    \"LW\", \"LVS\", \"LDOS\", \"LEN\", \"LII\", \"LLY\", \"LIN\", \"LYV\", \"LKQ\", \"LMT\", \"L\", \"LOW\", \"LULU\", \"LYB\", \"MTB\", \"MPC\", \"MAR\", \n",
    "    \"MMC\", \"MLM\", \"MAS\", \"MA\", \"MTCH\", \"MKC\", \"MCD\", \"MCK\", \"MDT\", \"MRK\", \"META\", \"MET\", \"MTD\", \"MGM\", \"MCHP\", \"MU\", \"MSFT\", \n",
    "    \"MAA\", \"MRNA\", \"MHK\", \"MOH\", \"TAP\", \"MDLZ\", \"MPWR\", \"MNST\", \"MCO\", \"MS\", \"MOS\", \"MSI\", \"MSCI\", \"NDAQ\", \"NTAP\", \"NFLX\", \n",
    "    \"NEM\", \"NWSA\", \"NWS\", \"NEE\", \"NKE\", \"NI\", \"NDSN\", \"NSC\", \"NTRS\", \"NOC\", \"NCLH\", \"NRG\", \"NUE\", \"NVDA\", \"NVR\", \"NXPI\", \n",
    "    \"ORLY\", \"OXY\", \"ODFL\", \"OMC\", \"ON\", \"OKE\", \"ORCL\", \"OTIS\", \"PCAR\", \"PKG\", \"PLTR\", \"PANW\", \"PSKY\", \"PH\", \"PAYX\", \"PAYC\", \n",
    "    \"PYPL\", \"PNR\", \"PEP\", \"PFE\", \"PCG\", \"PM\", \"PSX\", \"PNW\", \"PNC\", \"POOL\", \"PPG\", \"PPL\", \"PFG\", \"PG\", \"PGR\", \"PLD\", \"PRU\", \n",
    "    \"PEG\", \"PTC\", \"PSA\", \"PHM\", \"PWR\", \"QCOM\", \"DGX\", \"RL\", \"RJF\", \"RTX\", \"O\", \"REG\", \"REGN\", \"RF\", \"RSG\", \"RMD\", \"RVTY\", \n",
    "    \"HOOD\", \"ROK\", \"ROL\", \"ROP\", \"ROST\", \"RCL\", \"SPGI\", \"CRM\", \"SBAC\", \"SLB\", \"STX\", \"SRE\", \"NOW\", \"SHW\", \"SPG\", \"SWKS\", \n",
    "    \"SJM\", \"SW\", \"SNA\", \"SOLV\", \"SO\", \"LUV\", \"SWK\", \"SBUX\", \"STT\", \"STLD\", \"STE\", \"SYK\", \"SMCI\", \"SYF\", \"SNPS\", \"SYY\", \n",
    "    \"TMUS\", \"TROW\", \"TTWO\", \"TPR\", \"TRGP\", \"TGT\", \"TEL\", \"TDY\", \"TER\", \"TSLA\", \"TXN\", \"TPL\", \"TXT\", \"TMO\", \"TJX\", \"TKO\", \n",
    "    \"TTD\", \"TSCO\", \"TT\", \"TDG\", \"TRV\", \"TRMB\", \"TFC\", \"TYL\", \"TSN\", \"USB\", \"UBER\", \"UDR\", \"ULTA\", \"UNP\", \"UAL\", \"UPS\", \n",
    "    \"URI\", \"UNH\", \"UHS\", \"VLO\", \"VTR\", \"VLTO\", \"VRSN\", \"VRSK\", \"VZ\", \"VRTX\", \"VTRS\", \"VICI\", \"V\", \"VST\", \"VMC\", \"WRB\", \n",
    "    \"GWW\", \"WAB\", \"WMT\", \"DIS\", \"WBD\", \"WM\", \"WAT\", \"WEC\", \"WFC\", \"WELL\", \"WST\", \"WDC\", \"WY\", \"WSM\", \"WMB\", \"WTW\", \"WDAY\", \n",
    "    \"WYNN\", \"XEL\", \"XYL\", \"YUM\", \"ZBRA\", \"ZBH\", \"ZTS\"\n",
    "]"
   ]
  },
  {
   "cell_type": "code",
   "execution_count": null,
   "id": "95f0563d-f144-4dca-b720-d7b36ca70808",
   "metadata": {},
   "outputs": [
    {
     "name": "stderr",
     "output_type": "stream",
     "text": [
      "[**                     5%                       ]  26 of 503 completed"
     ]
    }
   ],
   "source": [
    "df = get_sharpe_ratios(sp500)\n",
    "df"
   ]
  },
  {
   "cell_type": "markdown",
   "id": "99271ccf-2c44-4098-8cec-261000542d0a",
   "metadata": {},
   "source": [
    "### Let's filter a bit to see companies with a sharpe ratio of 0.4 or higher."
   ]
  },
  {
   "cell_type": "code",
   "execution_count": null,
   "id": "b8a1575b-a305-42ff-9298-bca142fea6d8",
   "metadata": {},
   "outputs": [],
   "source": [
    "df_high = df[df[\"sharpe_ratio\"] >= 0.4]\n",
    "df_high"
   ]
  },
  {
   "cell_type": "markdown",
   "id": "fa1b4b11-6602-413a-bccb-07cbdfb37bbd",
   "metadata": {},
   "source": [
    "### That's still a lot. Let's filter to see companies that also have volatility less than 0.3."
   ]
  },
  {
   "cell_type": "code",
   "execution_count": null,
   "id": "3ecb44e3-6809-4276-8a7a-efa351fa5d73",
   "metadata": {},
   "outputs": [],
   "source": [
    "df2 = df[(df[\"sharpe_ratio\"] >= 0.4) & (df['annual_volatility'] <= 0.3)]\n",
    "df2"
   ]
  },
  {
   "cell_type": "markdown",
   "id": "8aa7dbbe-753a-4ecb-8ef8-f1ab273b84ec",
   "metadata": {},
   "source": [
    "### Let's put the symbols in a list and make it a portfolio."
   ]
  },
  {
   "cell_type": "code",
   "execution_count": null,
   "id": "6397a1f8-bd1b-4536-9a57-aecd70956859",
   "metadata": {},
   "outputs": [],
   "source": [
    "tickers3 = df2.index.tolist()\n",
    "tickers3"
   ]
  },
  {
   "cell_type": "code",
   "execution_count": null,
   "id": "d52c43cf-ac45-48d1-bac2-3b03240e5071",
   "metadata": {},
   "outputs": [],
   "source": [
    "p3 = Portfolio(tickers3, [1/len(tickers3)] * len(tickers3), 0.1)\n",
    "p3.print_stats()"
   ]
  },
  {
   "cell_type": "markdown",
   "id": "5c6a2a81-f2d7-4ac2-8592-54f349181451",
   "metadata": {},
   "source": [
    "### Sharpe Ratio of 0.76 is 0.10 higher than our first portfolio!\n",
    "Recapping:\n",
    "* Portfolio 1: 21% return, 26% risk, 0.65 sharpe ratio\n",
    "* Portfolio 2: 15% return, 17% risk, 0.59 sharpe ratio\n",
    "* Portfolio 3: 15% return, 13% risk, 0.76 sharpe ratio\n",
    "* Portfolio 3 has almost the same return as Portfolio 2, but with **less risk**!"
   ]
  },
  {
   "cell_type": "markdown",
   "id": "af4de8c3-9419-4371-807e-1c284b293c73",
   "metadata": {},
   "source": [
    "### Let's try another test case."
   ]
  },
  {
   "cell_type": "code",
   "execution_count": null,
   "id": "a4c4fd64-3a78-46c2-a615-a8216fab9fad",
   "metadata": {},
   "outputs": [],
   "source": [
    "df_test = df[(df[\"sharpe_ratio\"] >= 0.5)]\n",
    "df_test"
   ]
  },
  {
   "cell_type": "code",
   "execution_count": null,
   "id": "028d44e2-9f94-4c4a-9adc-7883c1c72a6a",
   "metadata": {},
   "outputs": [],
   "source": [
    "tickers4 = df_test.index.tolist()\n",
    "p4 = Portfolio(tickers4, [1/len(tickers4)] * len(tickers4), 0.1)\n",
    "p4.print_stats()"
   ]
  },
  {
   "cell_type": "markdown",
   "id": "4a58c166-3e5d-4255-aa54-40c69cc567bc",
   "metadata": {},
   "source": [
    "### Very cool. Shape ratio of 1.14, above the target of 1.0. \n",
    "* Our initial portfolio had 21% return with 26% volatility.\n",
    "* This portfolio has **less volatility** (23%) with **a higher return** (over 30%)"
   ]
  },
  {
   "cell_type": "markdown",
   "id": "a985b1ad-a2e7-4472-8ddc-51d685cf80f7",
   "metadata": {},
   "source": [
    "### If we reduce cash to 0% allocation, we get an even higher ratio. "
   ]
  },
  {
   "cell_type": "code",
   "execution_count": null,
   "id": "a1b538fc-9a9b-4cbb-8110-d2e303dadfc7",
   "metadata": {},
   "outputs": [],
   "source": [
    "p4 = Portfolio(tickers4, [1/len(tickers4)] * len(tickers4), 0.0)\n",
    "p4.print_stats()"
   ]
  },
  {
   "cell_type": "markdown",
   "id": "8fccf397-2393-4f78-8661-a9d21c9d5a25",
   "metadata": {},
   "source": [
    "### Some important caveats and limitations:\n",
    "* This is all based on **historical** data. The past does NOT equal the future. Use with caution.\n",
    "* The Sharpe Ratio tends to skew towards favoring higher-risk stocks.\n",
    "    * For example, the previous portfolio included PLTR, a **very** risky stock.\n",
    "    * Including it definitely increases our portfolio's Sharpe Ratio, since its annualized return was 58%.\n",
    "    * However, its volatility is also sky-high at 70%+.\n",
    "    * Including such a risky asset in a portfolio requires some common-sense, not just number-crunching."
   ]
  },
  {
   "cell_type": "markdown",
   "id": "a06a8e34-36ff-4fe4-9589-947ec0fed49d",
   "metadata": {},
   "source": [
    "### Let's test Ray Dalio's \"All Weather\" portfolio.\n",
    "* Ray Dalio is widely regarded one of the most successful hedge fund investors in history.\n",
    "* His philosophy is based on this type of analysis and he focuses on asset allocation and correlation above all else.\n",
    "* The idea is to reduce risk even during recessions and downturns so that returns are smoother.\n",
    "* He was featured in Tony Robbins' book \"Money: Master the Game.\"\n",
    "* In the book he laid out his 'secret formula' of asset allocation.\n",
    "* This portfolio is supposed to produce results in 'all weather' (e.g. all economic seasons, even during the storms, thus the name)\n",
    "* The simplified (unlevered) portfolio is 30% stocks, 40% long-term bonds, 15% short-term bonds, 7.5% gold, 7.5% commodities."
   ]
  },
  {
   "cell_type": "markdown",
   "id": "c95b2fae-27a8-4263-a5f5-418206ceb469",
   "metadata": {},
   "source": [
    "### Let's use ETFs to test Ray's portfolio.\n",
    "* SPY tracks the S&P 500 (stocks).\n",
    "* TLT tracks 20+ year US Treasury bonds (long-term bonds).\n",
    "* IEI tracks 3-7 year US Treasuriy bonds (short/mid-term bonds).\n",
    "* GLD tracks gold.\n",
    "* GSG tracks multiple commodities, including oil."
   ]
  },
  {
   "cell_type": "code",
   "execution_count": null,
   "id": "91690c00-ac81-49d3-b45b-8981159e601f",
   "metadata": {},
   "outputs": [],
   "source": [
    "allweather_etfs = ['SPY', 'TLT', 'IEI', 'GLD', 'GSG']\n",
    "allweather_weights = [0.3, 0.4, 0.15, .075, 0.075] \n",
    "allweather_p = Portfolio(allweather_etfs, allweather_weights, 0.0)\n",
    "allweather_p.print_stats()"
   ]
  },
  {
   "cell_type": "markdown",
   "id": "cc12124e-01f5-4f25-af22-273d5e26db1d",
   "metadata": {},
   "source": [
    "### Sharpe Ratio of 0.15. Very poor performance.\n",
    "* However, look at the risk. Less than 8% volatility. It's VERY low! Performance is very stable and smooth.\n",
    "* If the risk-free rate was lower, the sharpe ratio would be much higher.\n",
    "* In no way does this result mean we should dismiss Ray's investment philosophy!\n",
    "* He built a multi-billion dollar empire using similar asset allocations.\n",
    "* This test result speaks more to the limitations of Modern Portfolio\n",
    "* It's unfair to dismiss the validity of the allweather portfolio based on this analysis alone."
   ]
  },
  {
   "cell_type": "code",
   "execution_count": null,
   "id": "069ff464-dd01-43bd-b104-7bf9fcd41193",
   "metadata": {},
   "outputs": [],
   "source": [
    "allweather_p.plot_weights()"
   ]
  },
  {
   "cell_type": "markdown",
   "id": "4ee9ce2f-67d0-4feb-8033-042dddfe221c",
   "metadata": {},
   "source": [
    "# Full Code For Reference"
   ]
  },
  {
   "cell_type": "code",
   "execution_count": null,
   "id": "4948e9ff-d22c-471a-b36c-c55334ce3671",
   "metadata": {},
   "outputs": [],
   "source": [
    "import pandas as pd\n",
    "import yfinance as yf\n",
    "import numpy as np\n",
    "import matplotlib\n",
    "import matplotlib.pyplot as plt\n",
    "\n",
    "###########################################################################################################\n",
    "def rf_rate():\n",
    "    \"\"\"Estimate of risk-free rate that uses iShares 0-3 month Treasury dividend yield (Ticker: SGOV)\"\"\"\n",
    "    rate = yf.Ticker('SGOV').info.get('dividendYield')\n",
    "    return rate / 100    \n",
    "    \n",
    "###########################################################################################################\n",
    "def amounts_to_weights(amounts, total_amount):\n",
    "    \"\"\"Convert cash amounts in portfolio of stocks to percentage allocation weights\"\"\"\n",
    "    # Validate amounts as numeric\n",
    "    for amount in amounts:\n",
    "        if not isinstance(amount, (int, float)):\n",
    "            raise ValueError(\"Amounts must be numeric.\")\n",
    "    \n",
    "    # Prevent division by zero error\n",
    "    if abs(total_amount) < 1e-12:\n",
    "        raise ValueError(\"Amounts sum to 0 — can't convert to weights.\")\n",
    "        \n",
    "    return [amount / total_amount for amount in amounts]\n",
    "\n",
    "###########################################################################################################\n",
    "def get_sharpe_ratios(symbols):\n",
    "    # Build a DataFrame of each ticker’s full closing-price history, aligned by date.\n",
    "    data = yf.download(symbols, period=\"max\", auto_adjust=True, progress=True)[\"Close\"]\n",
    "    \n",
    "    # Build a dataframe of returns based on data using nautral logarithm\n",
    "    returns = np.log(data.values[1:] / data.values[:-1])\n",
    "    returns = pd.DataFrame(returns, index=data.index[1:], columns=data.columns)\n",
    "\n",
    "    # Drop NaNs per column and calculate annualized return and \n",
    "    # standard deviation for each column based on 252 trading days per day    \n",
    "    annualized_returns = returns.mean(skipna=True) * 252\n",
    "    annualized_volatility = returns.std(skipna=True) * np.sqrt(252)\n",
    "\n",
    "    # Calculate risk-free rate for use in Sharpe Ratio formula\n",
    "    risk_free_rate = rf_rate()\n",
    "\n",
    "    # Calculate sharpe ratios \n",
    "    sharpe_ratios = (annualized_returns - risk_free_rate) / annualized_volatility\n",
    "    \n",
    "    summary = pd.DataFrame({\"annual_return\": annualized_returns,\n",
    "                            \"annual_volatility\": annualized_volatility,\n",
    "                            \"sharpe_ratio\": sharpe_ratios})\n",
    "    return summary\n",
    "\n",
    "###########################################################################################################  \n",
    "def wgt_avg_market_caps(symbols):\n",
    "    \"\"\"Return list of weighted averages according to market capitalization of symbols.\n",
    "       Handle missing or zero market caps by skipping them, and avoids duplicate API calls.\"\"\"                \n",
    "    # Create object for multiple tickers\n",
    "    tickers_obj = yf.Tickers(symbols)\n",
    "    \n",
    "    # Extract market cap for each symbol, default to 0 if no market cap exists\n",
    "    mkt_caps = []\n",
    "    for symbol in symbols:\n",
    "        mkt_cap = tickers_obj.tickers[symbol].info.get('marketCap', 0) or 0\n",
    "        mkt_caps.append(mkt_cap)\n",
    "    \n",
    "    # Check that that total of market caps is not zero\n",
    "    if sum(mkt_caps) == 0:\n",
    "        raise ValueError(\"All market caps are zero or unavailable.\")\n",
    "    \n",
    "    # Compute market-cap weighted proportions\n",
    "    weights = [mkt_cap / sum(mkt_caps) for mkt_cap in mkt_caps]\n",
    "    return weights    \n",
    "\n",
    "##########################################################################################################\n",
    "class Portfolio:\n",
    "    \"\"\"Portfolio class to calculate weighted risk/return metrics.\"\"\"\n",
    "    # Initialize portfolio, default cash weight is 0%\n",
    "    def __init__(self, symbols_in, weights_in, cash_weight_in = 0.0):\n",
    "        self.symbols = symbols_in\n",
    "        self.weights = weights_in\n",
    "        self.cash_weight = cash_weight_in\n",
    "        \n",
    "##########################################################################################################\n",
    "    def scale_weights(self):\n",
    "        \"\"\"Scale asset weights so that assets sum to (1 - cash_weight).\n",
    "           Allows negative weights (shorts) and handles numeric validation.\n",
    "           Raises ValueError on duplicates, length mismatch, or zero-sum weights.\"\"\"\n",
    "        # Validate cash_weight as numeric\n",
    "        if not isinstance(self.cash_weight, (int, float)):\n",
    "            raise ValueError(\"Cash weight must be numeric.\")\n",
    "        \n",
    "        # Check for duplicate symbols\n",
    "        if len(self.symbols) != len(set(self.symbols)):\n",
    "            raise ValueError(\"Duplicate symbols not allowed. Use only unique symbols.\")\n",
    "    \n",
    "        # Check that number of weights matches number of symbols\n",
    "        if len(self.weights) != len(self.symbols):\n",
    "            raise ValueError(\"Number of weights must match number symbols.\")\n",
    "    \n",
    "        # Set up logic to scale input weights\n",
    "        sum_w = sum(self.weights)\n",
    "        target = 1 - self.cash_weight\n",
    "        \n",
    "        if abs(sum_w) < 1e-12:\n",
    "            raise ValueError(\"Asset weights sum to 0 — can't scale.\")\n",
    "    \n",
    "        # Rescale stock weights, while keeping cash weight aboslute\n",
    "        scaled_weights = [w * target / sum_w for w in self.weights]\n",
    "    \n",
    "        # Return dataframe of symbols keyed to weights\n",
    "        return pd.DataFrame({'Symbol': self.symbols + ['Cash Reserves'],\n",
    "                             'Weight': scaled_weights + [self.cash_weight]})\n",
    "        \n",
    "##########################################################################################################\n",
    "    def scale_returns(self):\n",
    "        \"\"\"Calculate daily natural log of returns for portfolio assets and add a cash column.\"\"\"    \n",
    "        # Get close price data for all symbols based on start and end dates\n",
    "        returns = yf.download(self.symbols, period='max', auto_adjust=True, progress=False)['Close']\n",
    "        \n",
    "        # Calculate daily natural log (continuous) returns and drop the first row of NaNs\n",
    "        returns = np.log(returns / returns.shift(1))\n",
    "        \n",
    "        # Reorder dataframe columns to match weights dataframe, add cash reserves columns\n",
    "        returns =  returns[self.symbols]\n",
    "        \n",
    "        # Add cash column after ordering\n",
    "        returns.loc[:, 'Cash Reserves'] = 0.0\n",
    "        \n",
    "        return returns\n",
    "\n",
    "##########################################################################################################\n",
    "    def risk_and_return(self):\n",
    "        \"\"\"Calculate annualized portfolio risk and expected return using daily log (continuous) returns.\n",
    "           Returns risk-free rate and sharpe ratio as well.\"\"\"\n",
    "        # Get scaled returns dataframe\n",
    "        returns = self.scale_returns() \n",
    "        \n",
    "        # Create covariance matrix dataframe. Annualize based on number of trading days per year\n",
    "        cov_matrix = returns.cov() * 252\n",
    "    \n",
    "        # Convert weights from series to numpy array, ensuring order of weights matches order of columns\n",
    "        weights_array = self.scale_weights().set_index('Symbol')['Weight'].reindex(cov_matrix.columns).fillna(0).to_numpy()\n",
    "    \n",
    "        # Calculate portfolio risk using NumPy dot product\n",
    "        portfolio_risk = np.sqrt(np.dot(weights_array, np.dot(cov_matrix, weights_array)))\n",
    "    \n",
    "        # Calculate the portfolio's expected return as a weighted average\n",
    "        portfolio_expected_return = (returns.mean() * 252 * weights_array).sum()\n",
    "    \n",
    "        risk_free_rate = rf_rate()\n",
    "        \n",
    "        sharpe_ratio = (portfolio_expected_return - risk_free_rate) / portfolio_risk\n",
    "        \n",
    "        return portfolio_expected_return, risk_free_rate, portfolio_risk, sharpe_ratio\n",
    "        \n",
    "##########################################################################################################\n",
    "    def print_stats(self): \n",
    "        \"\"\"Print key portfolio statistics\"\"\"\n",
    "        p_return, Rf, p_risk, p_sharpe = self.risk_and_return() \n",
    "        print(f'Expected Return: {p_return: .4f}')\n",
    "        print(f'Risk-Free Rate: {Rf: .4f}')\n",
    "        print(f'Standard Deviation: {p_risk: .4f}')\n",
    "        print(f'Sharpe Ratio: {p_sharpe: .4f}')\n",
    "        \n",
    "##########################################################################################################\n",
    "    def plot_weights(self):\n",
    "        \"\"\"Take scaled weights dataframe and plot allocation percentages with horizontal bar graph\"\"\"\n",
    "        weights_df = self.scale_weights()\n",
    "        fig, ax = plt.subplots(figsize=(5, 3)) \n",
    "        ax.barh(weights_df['Symbol'], \n",
    "                weights_df['Weight'], \n",
    "                color='blue', \n",
    "                height=0.5)  # Bar thickness\n",
    "        \n",
    "        ax.set_xlabel('Weight (%)')\n",
    "        ax.set_title('Portfolio Weights by Symbol')\n",
    "        plt.tight_layout()\n",
    "        plt.show()"
   ]
  },
  {
   "cell_type": "code",
   "execution_count": null,
   "id": "a64f7e00-ae8d-4321-a5e0-13f838a55313",
   "metadata": {},
   "outputs": [],
   "source": [
    "new_p = Portfolio(['NVDA', 'PLTR', 'AMZN', 'MSFT', 'GOOGL'], [0.2, 0.2, 0.15, 0.15, 0.3], 0)\n",
    "new_p.print_stats()"
   ]
  },
  {
   "cell_type": "code",
   "execution_count": null,
   "id": "d5c0b805-05fc-4f0a-a416-aa09c2b44568",
   "metadata": {},
   "outputs": [],
   "source": [
    "new_p.plot_weights()"
   ]
  },
  {
   "cell_type": "markdown",
   "id": "82d78279-0efc-47cc-be5c-72138888fd41",
   "metadata": {},
   "source": [
    "## Author: Yusif Refae, MBA\n",
    "#### Let's work together: <a href = \"https://www.linkedin.com/in/yusifrefae/\">Message me on LinkedIn!</a>"
   ]
  }
 ],
 "metadata": {
  "kernelspec": {
   "display_name": "Python 3 (ipykernel)",
   "language": "python",
   "name": "python3"
  },
  "language_info": {
   "codemirror_mode": {
    "name": "ipython",
    "version": 3
   },
   "file_extension": ".py",
   "mimetype": "text/x-python",
   "name": "python",
   "nbconvert_exporter": "python",
   "pygments_lexer": "ipython3",
   "version": "3.13.7"
  }
 },
 "nbformat": 4,
 "nbformat_minor": 5
}
